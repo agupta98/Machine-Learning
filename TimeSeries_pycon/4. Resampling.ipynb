{
 "cells": [
  {
   "cell_type": "code",
   "execution_count": 1,
   "metadata": {
    "collapsed": true
   },
   "outputs": [],
   "source": [
    "import pandas as pd\n",
    "import numpy as np"
   ]
  },
  {
   "cell_type": "code",
   "execution_count": 30,
   "metadata": {
    "collapsed": true
   },
   "outputs": [],
   "source": [
    "rng = pd.date_range('1/1/2011', periods=72, freq='H')\n",
    "ts = pd.Series(np.random.randn(len(rng)), index=rng)\n",
    "#‘pad’ / ‘ffill’: propagate last valid observation forward to next valid\n",
    "#‘backfill’ / ‘bfill’: use NEXT valid observation to fill"
   ]
  },
  {
   "cell_type": "code",
   "execution_count": 31,
   "metadata": {},
   "outputs": [
    {
     "data": {
      "text/plain": [
       "2011-01-01 00:00:00    0.940027\n",
       "2011-01-01 01:00:00   -0.634637\n",
       "2011-01-01 02:00:00   -0.695604\n",
       "2011-01-01 03:00:00    0.771074\n",
       "2011-01-01 04:00:00   -1.217686\n",
       "Freq: H, dtype: float64"
      ]
     },
     "execution_count": 31,
     "metadata": {},
     "output_type": "execute_result"
    }
   ],
   "source": [
    "ts.head()"
   ]
  },
  {
   "cell_type": "code",
   "execution_count": 33,
   "metadata": {},
   "outputs": [
    {
     "data": {
      "text/plain": [
       "2011-01-03 19:00:00   -0.237645\n",
       "2011-01-03 20:00:00   -0.219987\n",
       "2011-01-03 21:00:00    0.734671\n",
       "2011-01-03 22:00:00   -0.643190\n",
       "2011-01-03 23:00:00   -0.462990\n",
       "Freq: H, dtype: float64"
      ]
     },
     "execution_count": 33,
     "metadata": {},
     "output_type": "execute_result"
    }
   ],
   "source": [
    "ts.tail()"
   ]
  },
  {
   "cell_type": "code",
   "execution_count": 4,
   "metadata": {},
   "outputs": [
    {
     "data": {
      "text/plain": [
       "2011-01-01 00:00:00    0.462412\n",
       "2011-01-01 00:45:00    0.462412\n",
       "2011-01-01 01:30:00    0.881426\n",
       "2011-01-01 02:15:00   -0.215881\n",
       "2011-01-01 03:00:00   -0.139911\n",
       "Freq: 45T, dtype: float64"
      ]
     },
     "execution_count": 4,
     "metadata": {},
     "output_type": "execute_result"
    }
   ],
   "source": [
    "converted = ts.asfreq('45Min', method='ffill')\n",
    "converted.head()"
   ]
  },
  {
   "cell_type": "code",
   "execution_count": 32,
   "metadata": {},
   "outputs": [
    {
     "data": {
      "text/plain": [
       "2011-01-03 16:30:00   -0.003110\n",
       "2011-01-03 18:00:00    1.314916\n",
       "2011-01-03 19:30:00   -0.330621\n",
       "2011-01-03 21:00:00   -0.984721\n",
       "2011-01-03 22:30:00    1.552623\n",
       "Freq: 90T, dtype: float64"
      ]
     },
     "execution_count": 32,
     "metadata": {},
     "output_type": "execute_result"
    }
   ],
   "source": [
    "converted.tail()"
   ]
  },
  {
   "cell_type": "code",
   "execution_count": 6,
   "metadata": {},
   "outputs": [
    {
     "data": {
      "text/plain": [
       "(95,)"
      ]
     },
     "execution_count": 6,
     "metadata": {},
     "output_type": "execute_result"
    }
   ],
   "source": [
    "converted.shape"
   ]
  },
  {
   "cell_type": "code",
   "execution_count": 7,
   "metadata": {},
   "outputs": [
    {
     "data": {
      "text/plain": [
       "2011-01-01 00:00:00    0.462412\n",
       "2011-01-01 00:45:00         NaN\n",
       "2011-01-01 01:30:00         NaN\n",
       "2011-01-01 02:15:00         NaN\n",
       "2011-01-01 03:00:00   -0.139911\n",
       "2011-01-01 03:45:00         NaN\n",
       "2011-01-01 04:30:00         NaN\n",
       "2011-01-01 05:15:00         NaN\n",
       "2011-01-01 06:00:00    0.809055\n",
       "2011-01-01 06:45:00         NaN\n",
       "2011-01-01 07:30:00         NaN\n",
       "2011-01-01 08:15:00         NaN\n",
       "2011-01-01 09:00:00    1.440820\n",
       "2011-01-01 09:45:00         NaN\n",
       "2011-01-01 10:30:00         NaN\n",
       "2011-01-01 11:15:00         NaN\n",
       "2011-01-01 12:00:00    0.419620\n",
       "2011-01-01 12:45:00         NaN\n",
       "2011-01-01 13:30:00         NaN\n",
       "2011-01-01 14:15:00         NaN\n",
       "2011-01-01 15:00:00    0.882182\n",
       "2011-01-01 15:45:00         NaN\n",
       "2011-01-01 16:30:00         NaN\n",
       "2011-01-01 17:15:00         NaN\n",
       "2011-01-01 18:00:00   -0.782196\n",
       "2011-01-01 18:45:00         NaN\n",
       "2011-01-01 19:30:00         NaN\n",
       "2011-01-01 20:15:00         NaN\n",
       "2011-01-01 21:00:00    1.030360\n",
       "2011-01-01 21:45:00         NaN\n",
       "                         ...   \n",
       "2011-01-03 00:45:00         NaN\n",
       "2011-01-03 01:30:00         NaN\n",
       "2011-01-03 02:15:00         NaN\n",
       "2011-01-03 03:00:00    0.154600\n",
       "2011-01-03 03:45:00         NaN\n",
       "2011-01-03 04:30:00         NaN\n",
       "2011-01-03 05:15:00         NaN\n",
       "2011-01-03 06:00:00   -1.314068\n",
       "2011-01-03 06:45:00         NaN\n",
       "2011-01-03 07:30:00         NaN\n",
       "2011-01-03 08:15:00         NaN\n",
       "2011-01-03 09:00:00    0.009516\n",
       "2011-01-03 09:45:00         NaN\n",
       "2011-01-03 10:30:00         NaN\n",
       "2011-01-03 11:15:00         NaN\n",
       "2011-01-03 12:00:00    1.803023\n",
       "2011-01-03 12:45:00         NaN\n",
       "2011-01-03 13:30:00         NaN\n",
       "2011-01-03 14:15:00         NaN\n",
       "2011-01-03 15:00:00    0.164340\n",
       "2011-01-03 15:45:00         NaN\n",
       "2011-01-03 16:30:00         NaN\n",
       "2011-01-03 17:15:00         NaN\n",
       "2011-01-03 18:00:00    1.314916\n",
       "2011-01-03 18:45:00         NaN\n",
       "2011-01-03 19:30:00         NaN\n",
       "2011-01-03 20:15:00         NaN\n",
       "2011-01-03 21:00:00   -0.984721\n",
       "2011-01-03 21:45:00         NaN\n",
       "2011-01-03 22:30:00         NaN\n",
       "Freq: 45T, dtype: float64"
      ]
     },
     "execution_count": 7,
     "metadata": {},
     "output_type": "execute_result"
    }
   ],
   "source": [
    "ts.asfreq('45Min')"
   ]
  },
  {
   "cell_type": "code",
   "execution_count": 8,
   "metadata": {},
   "outputs": [
    {
     "data": {
      "text/plain": [
       "2011-01-01 02:00:00   -0.177896\n",
       "2011-01-01 04:00:00    0.619383\n",
       "2011-01-01 06:00:00   -0.037244\n",
       "2011-01-01 08:00:00    0.577294\n",
       "2011-01-01 10:00:00    0.271346\n",
       "2011-01-01 12:00:00    0.126603\n",
       "2011-01-01 14:00:00    1.002084\n",
       "2011-01-01 16:00:00    1.362973\n",
       "2011-01-01 18:00:00   -0.439205\n",
       "Freq: 2H, dtype: float64"
      ]
     },
     "execution_count": 8,
     "metadata": {},
     "output_type": "execute_result"
    }
   ],
   "source": [
    "ts.resample('2H').mean()[1:10]"
   ]
  },
  {
   "cell_type": "code",
   "execution_count": 9,
   "metadata": {},
   "outputs": [
    {
     "data": {
      "text/plain": [
       "2011-01-01 01:00:00    0.881426\n",
       "2011-01-01 02:00:00   -0.215881\n",
       "2011-01-01 03:00:00   -0.139911\n",
       "2011-01-01 04:00:00    0.759615\n",
       "2011-01-01 05:00:00    0.479150\n",
       "2011-01-01 06:00:00    0.809055\n",
       "2011-01-01 07:00:00   -0.883544\n",
       "2011-01-01 08:00:00   -0.286232\n",
       "2011-01-01 09:00:00    1.440820\n",
       "Freq: H, dtype: float64"
      ]
     },
     "execution_count": 9,
     "metadata": {},
     "output_type": "execute_result"
    }
   ],
   "source": [
    "ts[1:10]"
   ]
  },
  {
   "cell_type": "code",
   "execution_count": 29,
   "metadata": {
    "collapsed": true
   },
   "outputs": [],
   "source": [
    "# Does asfreq change the # of rows?\n",
    "#As we can see the number of row changes hence yes"
   ]
  },
  {
   "cell_type": "code",
   "execution_count": 12,
   "metadata": {},
   "outputs": [],
   "source": [
    "# What do the different methods do?\n",
    "# method : {‘backfill’, ‘bfill’, ‘pad’, ‘ffill’, None}\n",
    "#Here backfill and bfill are same and pad and ffill are same."
   ]
  },
  {
   "cell_type": "code",
   "execution_count": 34,
   "metadata": {},
   "outputs": [],
   "source": [
    "# Might any of these methods have pitfalls from a logical point of view?\n",
    "##backward fill tells us about next valid observation hence tells us future hence \n",
    "##not valid"
   ]
  },
  {
   "cell_type": "code",
   "execution_count": 38,
   "metadata": {},
   "outputs": [
    {
     "name": "stdout",
     "output_type": "stream",
     "text": [
      "2011-01-01    0.940027\n",
      "Freq: H, dtype: float64\n",
      "2011-01-03 23:00:00   -0.46299\n",
      "Freq: H, dtype: float64\n"
     ]
    }
   ],
   "source": [
    "# What's the difference between going to a higher frequency and a lower frequency?\n",
    "print(ts.head(1))\n",
    "print(ts.tail(1))\n",
    "#It tells about spread of timespan"
   ]
  },
  {
   "cell_type": "code",
   "execution_count": 39,
   "metadata": {
    "collapsed": true
   },
   "outputs": [],
   "source": [
    "converted = ts.asfreq('90Min', method = 'bfill')"
   ]
  },
  {
   "cell_type": "code",
   "execution_count": 40,
   "metadata": {},
   "outputs": [
    {
     "data": {
      "text/plain": [
       "2011-01-01 00:00:00    0.940027\n",
       "2011-01-01 01:30:00   -0.695604\n",
       "2011-01-01 03:00:00    0.771074\n",
       "2011-01-01 04:30:00    0.539687\n",
       "2011-01-01 06:00:00   -1.438643\n",
       "2011-01-01 07:30:00    0.683905\n",
       "2011-01-01 09:00:00    0.578059\n",
       "2011-01-01 10:30:00    0.900110\n",
       "2011-01-01 12:00:00   -1.356953\n",
       "2011-01-01 13:30:00    1.567405\n",
       "2011-01-01 15:00:00   -2.761577\n",
       "2011-01-01 16:30:00   -0.423825\n",
       "2011-01-01 18:00:00   -0.336476\n",
       "2011-01-01 19:30:00   -0.121570\n",
       "2011-01-01 21:00:00   -1.302715\n",
       "2011-01-01 22:30:00    1.436952\n",
       "2011-01-02 00:00:00   -1.047040\n",
       "2011-01-02 01:30:00    1.203952\n",
       "2011-01-02 03:00:00   -1.225332\n",
       "2011-01-02 04:30:00    0.392825\n",
       "2011-01-02 06:00:00   -1.847596\n",
       "2011-01-02 07:30:00   -0.451615\n",
       "2011-01-02 09:00:00    0.109033\n",
       "2011-01-02 10:30:00    0.003708\n",
       "2011-01-02 12:00:00   -0.215083\n",
       "2011-01-02 13:30:00    0.170589\n",
       "2011-01-02 15:00:00   -0.389149\n",
       "2011-01-02 16:30:00   -0.324817\n",
       "2011-01-02 18:00:00   -0.675269\n",
       "2011-01-02 19:30:00   -0.477415\n",
       "2011-01-02 21:00:00   -0.061441\n",
       "2011-01-02 22:30:00   -1.828966\n",
       "2011-01-03 00:00:00    0.190781\n",
       "2011-01-03 01:30:00    0.073322\n",
       "2011-01-03 03:00:00    0.076150\n",
       "2011-01-03 04:30:00    0.200954\n",
       "2011-01-03 06:00:00   -1.015865\n",
       "2011-01-03 07:30:00   -0.481895\n",
       "2011-01-03 09:00:00   -0.398865\n",
       "2011-01-03 10:30:00    0.118553\n",
       "2011-01-03 12:00:00   -0.463957\n",
       "2011-01-03 13:30:00    0.422367\n",
       "2011-01-03 15:00:00   -0.670199\n",
       "2011-01-03 16:30:00    2.270248\n",
       "2011-01-03 18:00:00   -0.128771\n",
       "2011-01-03 19:30:00   -0.219987\n",
       "2011-01-03 21:00:00    0.734671\n",
       "2011-01-03 22:30:00   -0.462990\n",
       "Freq: 90T, dtype: float64"
      ]
     },
     "execution_count": 40,
     "metadata": {},
     "output_type": "execute_result"
    }
   ],
   "source": [
    "converted"
   ]
  },
  {
   "cell_type": "code",
   "execution_count": 41,
   "metadata": {
    "collapsed": true
   },
   "outputs": [],
   "source": [
    "# What's different logically about going to a higher frequency vs a lower frequency? \n",
    "# What do you want to do when switching to a lower freqeuncy that is not logical when switching to a higher frequency?"
   ]
  },
  {
   "cell_type": "code",
   "execution_count": 18,
   "metadata": {},
   "outputs": [
    {
     "data": {
      "text/plain": [
       "2011-01-01    11.358644\n",
       "2011-01-02     7.530831\n",
       "2011-01-03    -2.045527\n",
       "Freq: D, dtype: float64"
      ]
     },
     "execution_count": 18,
     "metadata": {},
     "output_type": "execute_result"
    }
   ],
   "source": [
    "ts.resample('D').sum()"
   ]
  },
  {
   "cell_type": "code",
   "execution_count": 45,
   "metadata": {},
   "outputs": [
    {
     "data": {
      "text/plain": [
       "(95,)"
      ]
     },
     "execution_count": 45,
     "metadata": {},
     "output_type": "execute_result"
    }
   ],
   "source": [
    "# What if you want to downsample and you don't want to ffill or bfill?\n",
    "converted_none = ts.asfreq('45Min')\n",
    "converted_none.shape\n",
    "#To downsample one can use None"
   ]
  },
  {
   "cell_type": "code",
   "execution_count": 20,
   "metadata": {
    "collapsed": true
   },
   "outputs": [],
   "source": [
    "# What is the difference between .resample() and .asfreq()?\n"
   ]
  },
  {
   "cell_type": "code",
   "execution_count": 21,
   "metadata": {
    "collapsed": true
   },
   "outputs": [],
   "source": [
    "# What are some special things you can do with .resample() you can't do with .asfreq()?\n"
   ]
  },
  {
   "cell_type": "code",
   "execution_count": 22,
   "metadata": {
    "collapsed": true
   },
   "outputs": [],
   "source": [
    "rng = pd.date_range('1/1/2011', periods=72, freq='H')\n",
    "ts = pd.Series(np.arange(len(rng)), index=rng)"
   ]
  },
  {
   "cell_type": "code",
   "execution_count": 23,
   "metadata": {},
   "outputs": [
    {
     "data": {
      "text/plain": [
       "pandas.core.series.Series"
      ]
     },
     "execution_count": 23,
     "metadata": {},
     "output_type": "execute_result"
    }
   ],
   "source": [
    "type(ts)"
   ]
  },
  {
   "cell_type": "code",
   "execution_count": 24,
   "metadata": {},
   "outputs": [],
   "source": [
    "irreg_ts = ts[list(np.random.choice(a = list(range(len(ts))),size = 10,replace = False))]"
   ]
  },
  {
   "cell_type": "code",
   "execution_count": 25,
   "metadata": {},
   "outputs": [
    {
     "data": {
      "text/plain": [
       "2011-01-01 17:00:00    17\n",
       "2011-01-03 08:00:00    56\n",
       "2011-01-03 07:00:00    55\n",
       "2011-01-03 11:00:00    59\n",
       "2011-01-03 18:00:00    66\n",
       "2011-01-02 13:00:00    37\n",
       "2011-01-01 07:00:00     7\n",
       "2011-01-02 01:00:00    25\n",
       "2011-01-01 01:00:00     1\n",
       "2011-01-03 03:00:00    51\n",
       "dtype: int64"
      ]
     },
     "execution_count": 25,
     "metadata": {},
     "output_type": "execute_result"
    }
   ],
   "source": [
    "irreg_ts"
   ]
  },
  {
   "cell_type": "code",
   "execution_count": 26,
   "metadata": {},
   "outputs": [
    {
     "data": {
      "text/plain": [
       "2011-01-01 17:00:00    17.0\n",
       "2011-01-02 17:00:00     NaN\n",
       "Freq: D, dtype: float64"
      ]
     },
     "execution_count": 26,
     "metadata": {},
     "output_type": "execute_result"
    }
   ],
   "source": [
    "irreg_ts.asfreq('D')"
   ]
  },
  {
   "cell_type": "code",
   "execution_count": 27,
   "metadata": {},
   "outputs": [
    {
     "data": {
      "text/plain": [
       "2011-01-01    3\n",
       "2011-01-02    2\n",
       "2011-01-03    5\n",
       "Freq: D, dtype: int64"
      ]
     },
     "execution_count": 27,
     "metadata": {},
     "output_type": "execute_result"
    }
   ],
   "source": [
    "irreg_ts.resample('D').count()"
   ]
  },
  {
   "cell_type": "code",
   "execution_count": 46,
   "metadata": {
    "collapsed": true
   },
   "outputs": [],
   "source": [
    "#With Resample one can use functions such as count ,var,mean and std"
   ]
  },
  {
   "cell_type": "code",
   "execution_count": null,
   "metadata": {
    "collapsed": true
   },
   "outputs": [],
   "source": []
  }
 ],
 "metadata": {
  "kernelspec": {
   "display_name": "Python 3",
   "language": "python",
   "name": "python3"
  },
  "language_info": {
   "codemirror_mode": {
    "name": "ipython",
    "version": 3
   },
   "file_extension": ".py",
   "mimetype": "text/x-python",
   "name": "python",
   "nbconvert_exporter": "python",
   "pygments_lexer": "ipython3",
   "version": "3.6.1"
  }
 },
 "nbformat": 4,
 "nbformat_minor": 1
}
