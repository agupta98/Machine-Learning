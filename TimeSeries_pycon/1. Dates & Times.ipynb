{
 "cells": [
  {
   "cell_type": "code",
   "execution_count": 3,
   "metadata": {
    "collapsed": true
   },
   "outputs": [],
   "source": [
    "import pandas as pd\n",
    "import numpy as np"
   ]
  },
  {
   "cell_type": "code",
   "execution_count": 4,
   "metadata": {
    "collapsed": false
   },
   "outputs": [
    {
     "data": {
      "text/plain": [
       "DatetimeIndex(['2016-07-01 10:00:00', '2016-07-02 10:00:00',\n",
       "               '2016-07-03 10:00:00', '2016-07-04 10:00:00',\n",
       "               '2016-07-05 10:00:00', '2016-07-06 10:00:00',\n",
       "               '2016-07-07 10:00:00', '2016-07-08 10:00:00',\n",
       "               '2016-07-09 10:00:00', '2016-07-10 10:00:00'],\n",
       "              dtype='datetime64[ns]', freq='D')"
      ]
     },
     "execution_count": 4,
     "metadata": {},
     "output_type": "execute_result"
    }
   ],
   "source": [
    "# TIMES\n",
    "rng = pd.date_range('2016 Jul 1 10:00', periods = 10, freq = 'D')\n",
    "rng"
   ]
  },
  {
   "cell_type": "code",
   "execution_count": 5,
   "metadata": {
    "collapsed": false
   },
   "outputs": [
    {
     "data": {
      "text/plain": [
       "DatetimeIndex(['2016-07-31 10:00:00', '2016-08-31 10:00:00',\n",
       "               '2016-09-30 10:00:00', '2016-10-31 10:00:00',\n",
       "               '2016-11-30 10:00:00', '2016-12-31 10:00:00',\n",
       "               '2017-01-31 10:00:00', '2017-02-28 10:00:00',\n",
       "               '2017-03-31 10:00:00', '2017-04-30 10:00:00'],\n",
       "              dtype='datetime64[ns]', freq='M')"
      ]
     },
     "execution_count": 5,
     "metadata": {},
     "output_type": "execute_result"
    }
   ],
   "source": [
    "rng = pd.date_range('2016 Jul 1 10:00', periods = 10, freq = 'M')\n",
    "rng"
   ]
  },
  {
   "cell_type": "code",
   "execution_count": 6,
   "metadata": {
    "collapsed": true
   },
   "outputs": [],
   "source": [
    "# Which of these formats DON'T work?\n",
    "#'2016 Jul 1', '7/1/2016', '1/7/2016', 'July 1, 2016', '2016-07-01', '2016/07/01'"
   ]
  },
  {
   "cell_type": "code",
   "execution_count": 7,
   "metadata": {
    "collapsed": false
   },
   "outputs": [
    {
     "name": "stdout",
     "output_type": "stream",
     "text": [
      "2016 Jul 1 : DatetimeIndex(['2016-07-01'], dtype='datetime64[ns]', freq='D')\n",
      "7/1/2016 : DatetimeIndex(['2016-07-01'], dtype='datetime64[ns]', freq='D')\n",
      "1/7/2016 : DatetimeIndex(['2016-01-07'], dtype='datetime64[ns]', freq='D')\n",
      "July 1, 2016 : DatetimeIndex(['2016-07-01'], dtype='datetime64[ns]', freq='D')\n",
      "2016-07-01 : DatetimeIndex(['2016-07-01'], dtype='datetime64[ns]', freq='D')\n",
      "2016/07/01 : DatetimeIndex(['2016-07-01'], dtype='datetime64[ns]', freq='D')\n"
     ]
    }
   ],
   "source": [
    "li_dates =['2016 Jul 1', '7/1/2016', '1/7/2016', \n",
    "           'July 1, 2016', '2016-07-01', '2016/07/01']\n",
    "for i in li_dates:\n",
    "    print(i,\":\",pd.date_range(i, periods = 1, freq = 'D'))"
   ]
  },
  {
   "cell_type": "code",
   "execution_count": 8,
   "metadata": {
    "collapsed": true
   },
   "outputs": [],
   "source": [
    "# Is '7/1/2016 in January or July?\n",
    "#The answer is July"
   ]
  },
  {
   "cell_type": "code",
   "execution_count": 9,
   "metadata": {
    "collapsed": false
   },
   "outputs": [
    {
     "data": {
      "text/plain": [
       "pandas.tseries.index.DatetimeIndex"
      ]
     },
     "execution_count": 9,
     "metadata": {},
     "output_type": "execute_result"
    }
   ],
   "source": [
    "# What is the class of an individual object held in the date_range?\n",
    "type(pd.date_range(i, periods = 1, freq = 'D'))"
   ]
  },
  {
   "cell_type": "code",
   "execution_count": 10,
   "metadata": {
    "collapsed": false
   },
   "outputs": [
    {
     "data": {
      "text/plain": [
       "Timestamp('2016-07-10 00:00:00')"
      ]
     },
     "execution_count": 10,
     "metadata": {},
     "output_type": "execute_result"
    }
   ],
   "source": [
    "# TIME STAMPS VS TIME SPANS\n",
    "pd.Timestamp('2016-07-10')"
   ]
  },
  {
   "cell_type": "code",
   "execution_count": 11,
   "metadata": {
    "collapsed": false
   },
   "outputs": [
    {
     "data": {
      "text/plain": [
       "Timestamp('2016-07-10 10:00:00')"
      ]
     },
     "execution_count": 11,
     "metadata": {},
     "output_type": "execute_result"
    }
   ],
   "source": [
    "# You can also more details \n",
    "pd.Timestamp('2016-07-10 10')"
   ]
  },
  {
   "cell_type": "code",
   "execution_count": 12,
   "metadata": {
    "collapsed": false
   },
   "outputs": [
    {
     "data": {
      "text/plain": [
       "Timestamp('2016-07-10 10:15:00')"
      ]
     },
     "execution_count": 12,
     "metadata": {},
     "output_type": "execute_result"
    }
   ],
   "source": [
    "# Or even more...\n",
    "pd.Timestamp('2016-07-10 10:15')"
   ]
  },
  {
   "cell_type": "code",
   "execution_count": 13,
   "metadata": {
    "collapsed": false
   },
   "outputs": [
    {
     "data": {
      "text/plain": [
       "Timestamp('2016-07-10 10:15:13.123330')"
      ]
     },
     "execution_count": 13,
     "metadata": {},
     "output_type": "execute_result"
    }
   ],
   "source": [
    "# How much detail can you add?\n",
    "pd.Timestamp('2016-07-10 10:15:13.12333')"
   ]
  },
  {
   "cell_type": "code",
   "execution_count": 14,
   "metadata": {
    "collapsed": false
   },
   "outputs": [],
   "source": [
    "# What are some properties of timestamps? Try them out.\n",
    "# hint: http://pandas.pydata.org/pandas-docs/stable/timeseries.html#time-date-components\n",
    "t = pd.Timestamp('2016-07-10 10:15')"
   ]
  },
  {
   "cell_type": "code",
   "execution_count": 15,
   "metadata": {
    "collapsed": false
   },
   "outputs": [
    {
     "data": {
      "text/plain": [
       "Period('2016-01', 'M')"
      ]
     },
     "execution_count": 15,
     "metadata": {},
     "output_type": "execute_result"
    }
   ],
   "source": [
    "# TIME SPANS\n",
    "pd.Period('2016-01')"
   ]
  },
  {
   "cell_type": "code",
   "execution_count": 16,
   "metadata": {
    "collapsed": true
   },
   "outputs": [],
   "source": [
    "# What's that extra info above? How does it get set?\n",
    "#The extra information above is meta data"
   ]
  },
  {
   "cell_type": "code",
   "execution_count": 17,
   "metadata": {
    "collapsed": false
   },
   "outputs": [
    {
     "data": {
      "text/plain": [
       "Period('2016-01-01', 'D')"
      ]
     },
     "execution_count": 17,
     "metadata": {},
     "output_type": "execute_result"
    }
   ],
   "source": [
    "pd.Period('2016-01-01')"
   ]
  },
  {
   "cell_type": "code",
   "execution_count": 18,
   "metadata": {
    "collapsed": false
   },
   "outputs": [
    {
     "data": {
      "text/plain": [
       "Period('2016-01-01 10:00', 'H')"
      ]
     },
     "execution_count": 18,
     "metadata": {},
     "output_type": "execute_result"
    }
   ],
   "source": [
    "pd.Period('2016-01-01 10')"
   ]
  },
  {
   "cell_type": "code",
   "execution_count": 19,
   "metadata": {
    "collapsed": false
   },
   "outputs": [
    {
     "data": {
      "text/plain": [
       "Period('2016-01-01 10:10', 'T')"
      ]
     },
     "execution_count": 19,
     "metadata": {},
     "output_type": "execute_result"
    }
   ],
   "source": [
    "pd.Period('2016-01-01 10:10')"
   ]
  },
  {
   "cell_type": "code",
   "execution_count": 20,
   "metadata": {
    "collapsed": false
   },
   "outputs": [
    {
     "data": {
      "text/plain": [
       "Period('2016-01-01 10:10:10', 'S')"
      ]
     },
     "execution_count": 20,
     "metadata": {},
     "output_type": "execute_result"
    }
   ],
   "source": [
    "pd.Period('2016-01-01 10:10:10')"
   ]
  },
  {
   "cell_type": "code",
   "execution_count": 21,
   "metadata": {
    "collapsed": false
   },
   "outputs": [
    {
     "data": {
      "text/plain": [
       "PeriodIndex(['2016-01-01 12:15:10.123000000', '2016-01-01 12:15:10.123000001',\n",
       "             '2016-01-01 12:15:10.123000002', '2016-01-01 12:15:10.123000003',\n",
       "             '2016-01-01 12:15:10.123000004', '2016-01-01 12:15:10.123000005',\n",
       "             '2016-01-01 12:15:10.123000006', '2016-01-01 12:15:10.123000007',\n",
       "             '2016-01-01 12:15:10.123000008', '2016-01-01 12:15:10.123000009'],\n",
       "            dtype='period[N]', freq='N')"
      ]
     },
     "execution_count": 21,
     "metadata": {},
     "output_type": "execute_result"
    }
   ],
   "source": [
    "# What's the most detailed Period you can get?\n",
    "rng = pd.period_range('2016-01-01 12:15:10.123', freq = 'NS', periods = 10)\n",
    "rng"
   ]
  },
  {
   "cell_type": "code",
   "execution_count": 22,
   "metadata": {
    "collapsed": false
   },
   "outputs": [
    {
     "data": {
      "text/plain": [
       "DatetimeIndex(['2016-01-01', '2016-01-02', '2016-01-03', '2016-01-04',\n",
       "               '2016-01-05', '2016-01-06', '2016-01-07', '2016-01-08',\n",
       "               '2016-01-09', '2016-01-10'],\n",
       "              dtype='datetime64[ns]', freq='D')"
      ]
     },
     "execution_count": 22,
     "metadata": {},
     "output_type": "execute_result"
    }
   ],
   "source": [
    "rng1 = pd.period_range('2016-01-01 12:15', freq = 'D', periods = 10)\n",
    "rng1.start_time"
   ]
  },
  {
   "cell_type": "code",
   "execution_count": 23,
   "metadata": {
    "collapsed": false
   },
   "outputs": [
    {
     "data": {
      "text/plain": [
       "PeriodIndex(['2016-01-01 12:15', '2016-01-01 13:15', '2016-01-01 14:15',\n",
       "             '2016-01-01 15:15', '2016-01-01 16:15', '2016-01-01 17:15',\n",
       "             '2016-01-01 18:15', '2016-01-01 19:15', '2016-01-01 20:15',\n",
       "             '2016-01-01 21:15'],\n",
       "            dtype='period[60T]', freq='60T')"
      ]
     },
     "execution_count": 23,
     "metadata": {},
     "output_type": "execute_result"
    }
   ],
   "source": [
    "# How can you make multiple time periods? \n",
    "# Hint look for analogy with pd.date_range() above\n",
    "rng = pd.period_range('2016-01-01 12:15', freq = '60T', periods = 10)\n",
    "rng"
   ]
  },
  {
   "cell_type": "code",
   "execution_count": 24,
   "metadata": {
    "collapsed": false
   },
   "outputs": [
    {
     "data": {
      "text/plain": [
       "Timedelta('1 days 00:00:00')"
      ]
     },
     "execution_count": 24,
     "metadata": {},
     "output_type": "execute_result"
    }
   ],
   "source": [
    "# TIME OFFSETS\n",
    "pd.Timedelta('1 day')"
   ]
  },
  {
   "cell_type": "code",
   "execution_count": 25,
   "metadata": {
    "collapsed": false
   },
   "outputs": [
    {
     "data": {
      "text/plain": [
       "Period('2016-01-02 10:10', 'T')"
      ]
     },
     "execution_count": 25,
     "metadata": {},
     "output_type": "execute_result"
    }
   ],
   "source": [
    "pd.Period('2016-01-01 10:10') + pd.Timedelta('1 day')"
   ]
  },
  {
   "cell_type": "code",
   "execution_count": 26,
   "metadata": {
    "collapsed": false
   },
   "outputs": [
    {
     "data": {
      "text/plain": [
       "Timestamp('2016-01-02 10:10:00')"
      ]
     },
     "execution_count": 26,
     "metadata": {},
     "output_type": "execute_result"
    }
   ],
   "source": [
    "pd.Timestamp('2016-01-01 10:10') + pd.Timedelta('1 day')"
   ]
  },
  {
   "cell_type": "code",
   "execution_count": 27,
   "metadata": {
    "collapsed": false
   },
   "outputs": [
    {
     "data": {
      "text/plain": [
       "Timestamp('2016-01-01 10:10:00.000000015')"
      ]
     },
     "execution_count": 27,
     "metadata": {},
     "output_type": "execute_result"
    }
   ],
   "source": [
    "pd.Timestamp('2016-01-01 10:10') + pd.Timedelta('15 ns')"
   ]
  },
  {
   "cell_type": "code",
   "execution_count": 28,
   "metadata": {
    "collapsed": false
   },
   "outputs": [
    {
     "data": {
      "text/plain": [
       "PeriodIndex(['2016-01-01', '2016-01-04', '2016-01-05', '2016-01-06',\n",
       "             '2016-01-07', '2016-01-08', '2016-01-11', '2016-01-12',\n",
       "             '2016-01-13', '2016-01-14'],\n",
       "            dtype='period[B]', freq='B')"
      ]
     },
     "execution_count": 28,
     "metadata": {},
     "output_type": "execute_result"
    }
   ],
   "source": [
    "# FANCY FREQUENCY SETTING\n",
    "# Only want business days\n",
    "pd.period_range('2016-01-01 10:10', freq = 'B', periods = 10)"
   ]
  },
  {
   "cell_type": "code",
   "execution_count": 29,
   "metadata": {
    "collapsed": false
   },
   "outputs": [],
   "source": [
    "# It's possible to combine frequencies. What if you want to advance by 25 hours each day. What are the 2 ways to do it?\n",
    "p1 = pd.period_range('2016-01-01 10:10', freq = '25H', periods = 10)"
   ]
  },
  {
   "cell_type": "code",
   "execution_count": 30,
   "metadata": {
    "collapsed": false
   },
   "outputs": [],
   "source": [
    "p2 = pd.period_range('2016-01-01 10:10', freq = '1D1H', periods = 10)"
   ]
  },
  {
   "cell_type": "code",
   "execution_count": 31,
   "metadata": {
    "collapsed": false
   },
   "outputs": [
    {
     "data": {
      "text/plain": [
       "PeriodIndex(['2016-01-01 10:00', '2016-01-02 11:00', '2016-01-03 12:00',\n",
       "             '2016-01-04 13:00', '2016-01-05 14:00', '2016-01-06 15:00',\n",
       "             '2016-01-07 16:00', '2016-01-08 17:00', '2016-01-09 18:00',\n",
       "             '2016-01-10 19:00'],\n",
       "            dtype='period[25H]', freq='25H')"
      ]
     },
     "execution_count": 31,
     "metadata": {},
     "output_type": "execute_result"
    }
   ],
   "source": [
    "p1"
   ]
  },
  {
   "cell_type": "code",
   "execution_count": 32,
   "metadata": {
    "collapsed": false
   },
   "outputs": [
    {
     "data": {
      "text/plain": [
       "PeriodIndex(['2016-01-01 10:00', '2016-01-02 11:00', '2016-01-03 12:00',\n",
       "             '2016-01-04 13:00', '2016-01-05 14:00', '2016-01-06 15:00',\n",
       "             '2016-01-07 16:00', '2016-01-08 17:00', '2016-01-09 18:00',\n",
       "             '2016-01-10 19:00'],\n",
       "            dtype='period[25H]', freq='25H')"
      ]
     },
     "execution_count": 32,
     "metadata": {},
     "output_type": "execute_result"
    }
   ],
   "source": [
    "p2"
   ]
  },
  {
   "cell_type": "code",
   "execution_count": 33,
   "metadata": {
    "collapsed": true
   },
   "outputs": [],
   "source": [
    "# What are some other combos you can produce?\n",
    "# hint: http://pandas.pydata.org/pandas-docs/stable/timeseries.html#offset-aliases"
   ]
  },
  {
   "cell_type": "code",
   "execution_count": 34,
   "metadata": {
    "collapsed": false
   },
   "outputs": [
    {
     "data": {
      "text/plain": [
       "2016-07-01    0\n",
       "2016-07-02    1\n",
       "2016-07-03    2\n",
       "2016-07-04    3\n",
       "2016-07-05    4\n",
       "2016-07-06    5\n",
       "2016-07-07    6\n",
       "2016-07-08    7\n",
       "2016-07-09    8\n",
       "2016-07-10    9\n",
       "Freq: D, dtype: int64"
      ]
     },
     "execution_count": 34,
     "metadata": {},
     "output_type": "execute_result"
    }
   ],
   "source": [
    "# INDEXING WITH TIME OBJECTS\n",
    "# You can use these objects for indices\n",
    "# Let's start with using a date range as above\n",
    "rng = pd.date_range('2016 Jul 1', periods = 10, freq = 'D')\n",
    "rng\n",
    "pd.Series(range(len(rng)), index = rng)"
   ]
  },
  {
   "cell_type": "code",
   "execution_count": 35,
   "metadata": {
    "collapsed": false
   },
   "outputs": [
    {
     "data": {
      "text/plain": [
       "2016-01   -0.497815\n",
       "2016-02    0.315370\n",
       "2016-03   -0.141788\n",
       "Freq: M, dtype: float64"
      ]
     },
     "execution_count": 35,
     "metadata": {},
     "output_type": "execute_result"
    }
   ],
   "source": [
    "# You can also use time period indices, in cases where it makes more sense \n",
    "# to think about your index as a time span rather than a single point in time\n",
    "\n",
    "periods = [pd.Period('2016-01'), pd.Period('2016-02'), pd.Period('2016-03')]\n",
    "ts = pd.Series(np.random.randn(len(periods)), index = periods)\n",
    "ts"
   ]
  },
  {
   "cell_type": "code",
   "execution_count": 36,
   "metadata": {
    "collapsed": false
   },
   "outputs": [
    {
     "data": {
      "text/plain": [
       "pandas.tseries.period.PeriodIndex"
      ]
     },
     "execution_count": 36,
     "metadata": {},
     "output_type": "execute_result"
    }
   ],
   "source": [
    "# What type is the index for ts?\n",
    "type(ts.index)"
   ]
  },
  {
   "cell_type": "code",
   "execution_count": 37,
   "metadata": {
    "collapsed": true
   },
   "outputs": [],
   "source": [
    "# Experiment with various indices\n",
    "# Hint: does ts['2016'] work? "
   ]
  },
  {
   "cell_type": "code",
   "execution_count": 38,
   "metadata": {
    "collapsed": false
   },
   "outputs": [
    {
     "data": {
      "text/plain": [
       "2016-07-10 08:00:00    0\n",
       "2016-07-10 09:00:00    1\n",
       "2016-07-10 10:00:00    2\n",
       "2016-07-10 11:00:00    3\n",
       "2016-07-10 12:00:00    4\n",
       "2016-07-10 13:00:00    5\n",
       "2016-07-10 14:00:00    6\n",
       "2016-07-10 15:00:00    7\n",
       "2016-07-10 16:00:00    8\n",
       "2016-07-10 17:00:00    9\n",
       "Freq: H, dtype: int64"
      ]
     },
     "execution_count": 38,
     "metadata": {},
     "output_type": "execute_result"
    }
   ],
   "source": [
    "# Timestamped data can be convereted to period indices with to_period and vice versa with to_timestamp\n",
    "ts = pd.Series(range(10), pd.date_range('07-10-16 8:00', periods = 10, freq = 'H'))\n",
    "ts"
   ]
  },
  {
   "cell_type": "code",
   "execution_count": 39,
   "metadata": {
    "collapsed": false
   },
   "outputs": [
    {
     "data": {
      "text/plain": [
       "2016-07-10 08:00:00    0\n",
       "2016-07-10 09:00:00    1\n",
       "2016-07-10 10:00:00    2\n",
       "2016-07-10 11:00:00    3\n",
       "2016-07-10 12:00:00    4\n",
       "2016-07-10 13:00:00    5\n",
       "2016-07-10 14:00:00    6\n",
       "2016-07-10 15:00:00    7\n",
       "2016-07-10 16:00:00    8\n",
       "2016-07-10 17:00:00    9\n",
       "Freq: H, dtype: int64"
      ]
     },
     "execution_count": 39,
     "metadata": {},
     "output_type": "execute_result"
    }
   ],
   "source": [
    "ts['2016']"
   ]
  },
  {
   "cell_type": "code",
   "execution_count": 40,
   "metadata": {
    "collapsed": false
   },
   "outputs": [
    {
     "data": {
      "text/plain": [
       "2016-07-10 08:00    0\n",
       "2016-07-10 09:00    1\n",
       "2016-07-10 10:00    2\n",
       "2016-07-10 11:00    3\n",
       "2016-07-10 12:00    4\n",
       "2016-07-10 13:00    5\n",
       "2016-07-10 14:00    6\n",
       "2016-07-10 15:00    7\n",
       "2016-07-10 16:00    8\n",
       "2016-07-10 17:00    9\n",
       "Freq: H, dtype: int64"
      ]
     },
     "execution_count": 40,
     "metadata": {},
     "output_type": "execute_result"
    }
   ],
   "source": [
    "ts_period = ts.to_period()\n",
    "ts_period"
   ]
  },
  {
   "cell_type": "code",
   "execution_count": 41,
   "metadata": {
    "collapsed": false
   },
   "outputs": [
    {
     "data": {
      "text/plain": [
       "2016-07-10 08:00:00    0\n",
       "2016-07-10 09:00:00    1\n",
       "2016-07-10 10:00:00    2\n",
       "2016-07-10 11:00:00    3\n",
       "2016-07-10 12:00:00    4\n",
       "2016-07-10 13:00:00    5\n",
       "2016-07-10 14:00:00    6\n",
       "2016-07-10 15:00:00    7\n",
       "2016-07-10 16:00:00    8\n",
       "2016-07-10 17:00:00    9\n",
       "Freq: H, dtype: int64"
      ]
     },
     "execution_count": 41,
     "metadata": {},
     "output_type": "execute_result"
    }
   ],
   "source": [
    "ts_timestamp = ts_period.to_timestamp()\n",
    "ts_timestamp"
   ]
  },
  {
   "cell_type": "code",
   "execution_count": 42,
   "metadata": {
    "collapsed": false
   },
   "outputs": [
    {
     "data": {
      "text/plain": [
       "2016-07-10 08:00    0\n",
       "2016-07-10 09:00    1\n",
       "2016-07-10 10:00    2\n",
       "2016-07-10 11:00    3\n",
       "Freq: H, dtype: int64"
      ]
     },
     "execution_count": 42,
     "metadata": {},
     "output_type": "execute_result"
    }
   ],
   "source": [
    "ts_period['2016-07-10 08:30':'2016-07-10 11:45'] # we have the concept of overlap with time periods"
   ]
  },
  {
   "cell_type": "code",
   "execution_count": 43,
   "metadata": {
    "collapsed": false
   },
   "outputs": [
    {
     "data": {
      "text/plain": [
       "2016-07-10 09:00:00    1\n",
       "2016-07-10 10:00:00    2\n",
       "2016-07-10 11:00:00    3\n",
       "Freq: H, dtype: int64"
      ]
     },
     "execution_count": 43,
     "metadata": {},
     "output_type": "execute_result"
    }
   ],
   "source": [
    "ts['2016-07-10 08:30':'2016-07-10 11:45'] # we have the concept of include with timestamps"
   ]
  },
  {
   "cell_type": "code",
   "execution_count": null,
   "metadata": {
    "collapsed": true
   },
   "outputs": [],
   "source": []
  },
  {
   "cell_type": "code",
   "execution_count": null,
   "metadata": {
    "collapsed": true
   },
   "outputs": [],
   "source": []
  },
  {
   "cell_type": "code",
   "execution_count": null,
   "metadata": {
    "collapsed": true
   },
   "outputs": [],
   "source": []
  },
  {
   "cell_type": "code",
   "execution_count": null,
   "metadata": {
    "collapsed": true
   },
   "outputs": [],
   "source": []
  }
 ],
 "metadata": {
  "kernelspec": {
   "display_name": "Python 3",
   "language": "python",
   "name": "python3"
  },
  "language_info": {
   "codemirror_mode": {
    "name": "ipython",
    "version": 3
   },
   "file_extension": ".py",
   "mimetype": "text/x-python",
   "name": "python",
   "nbconvert_exporter": "python",
   "pygments_lexer": "ipython3",
   "version": "3.6.0"
  }
 },
 "nbformat": 4,
 "nbformat_minor": 0
}
