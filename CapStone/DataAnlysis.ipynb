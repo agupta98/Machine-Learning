{
 "cells": [
  {
   "cell_type": "markdown",
   "metadata": {
    "collapsed": true
   },
   "source": [
    "## https://archive.ics.uci.edu/ml/datasets/Bank+Marketing"
   ]
  },
  {
   "cell_type": "code",
   "execution_count": 1,
   "metadata": {
    "collapsed": true
   },
   "outputs": [],
   "source": [
    "import pandas as pd\n",
    "import matplotlib.pyplot as plt\n",
    "%matplotlib inline\n",
    "import seaborn as sns\n",
    "import numpy as np\n",
    "from sklearn.decomposition import PCA\n",
    "from sklearn.model_selection import train_test_split\n",
    "from sklearn.linear_model import LogisticRegression\n",
    "from sklearn.model_selection import cross_val_score\n",
    "from sklearn.model_selection import KFold\n",
    "from sklearn.metrics import accuracy_score\n",
    "from sklearn.metrics import confusion_matrix\n",
    "from sklearn.model_selection import GridSearchCV\n",
    "from sklearn.model_selection import StratifiedKFold\n",
    "from sklearn.metrics import classification_report\n",
    "from sklearn.ensemble import RandomForestClassifier\n",
    "from sklearn.metrics import roc_auc_score\n",
    "from sklearn.ensemble import AdaBoostClassifier\n",
    "from sklearn.svm import SVC\n",
    "from sklearn.ensemble import GradientBoostingClassifier\n",
    "import matplotlib.patches as mpatches"
   ]
  },
  {
   "cell_type": "code",
   "execution_count": 2,
   "metadata": {
    "collapsed": true
   },
   "outputs": [],
   "source": [
    "data =pd.read_csv('bank-additional-full.csv',sep=';')"
   ]
  },
  {
   "cell_type": "code",
   "execution_count": 3,
   "metadata": {},
   "outputs": [
    {
     "name": "stdout",
     "output_type": "stream",
     "text": [
      "<class 'pandas.core.frame.DataFrame'>\n",
      "RangeIndex: 41188 entries, 0 to 41187\n",
      "Data columns (total 21 columns):\n",
      "age               41188 non-null int64\n",
      "job               41188 non-null object\n",
      "marital           41188 non-null object\n",
      "education         41188 non-null object\n",
      "default           41188 non-null object\n",
      "housing           41188 non-null object\n",
      "loan              41188 non-null object\n",
      "contact           41188 non-null object\n",
      "month             41188 non-null object\n",
      "day_of_week       41188 non-null object\n",
      "duration          41188 non-null int64\n",
      "campaign          41188 non-null int64\n",
      "pdays             41188 non-null int64\n",
      "previous          41188 non-null int64\n",
      "poutcome          41188 non-null object\n",
      "emp.var.rate      41188 non-null float64\n",
      "cons.price.idx    41188 non-null float64\n",
      "cons.conf.idx     41188 non-null float64\n",
      "euribor3m         41188 non-null float64\n",
      "nr.employed       41188 non-null float64\n",
      "y                 41188 non-null object\n",
      "dtypes: float64(5), int64(5), object(11)\n",
      "memory usage: 6.6+ MB\n"
     ]
    }
   ],
   "source": [
    "data.info()"
   ]
  },
  {
   "cell_type": "code",
   "execution_count": 4,
   "metadata": {},
   "outputs": [
    {
     "data": {
      "text/plain": [
       "(41188, 21)"
      ]
     },
     "execution_count": 4,
     "metadata": {},
     "output_type": "execute_result"
    }
   ],
   "source": [
    "data.shape"
   ]
  },
  {
   "cell_type": "code",
   "execution_count": 5,
   "metadata": {
    "collapsed": true
   },
   "outputs": [],
   "source": [
    "dict_y ={\"y\":{'yes':1,'no':0}}\n",
    "data.replace(dict_y,inplace = True)"
   ]
  },
  {
   "cell_type": "code",
   "execution_count": 6,
   "metadata": {
    "collapsed": true
   },
   "outputs": [],
   "source": [
    "data=pd.get_dummies(data=data,columns=['job','education','default','housing','loan','contact',\n",
    "'month','day_of_week','poutcome','marital'])"
   ]
  },
  {
   "cell_type": "code",
   "execution_count": 7,
   "metadata": {},
   "outputs": [
    {
     "data": {
      "text/plain": [
       "(41188, 64)"
      ]
     },
     "execution_count": 7,
     "metadata": {},
     "output_type": "execute_result"
    }
   ],
   "source": [
    "data.shape"
   ]
  },
  {
   "cell_type": "code",
   "execution_count": 8,
   "metadata": {
    "collapsed": true
   },
   "outputs": [],
   "source": [
    "def show_confusion_matrix(C,class_labels=['0','1']):\n",
    "    \"\"\"\n",
    "    C: ndarray, shape (2,2) as given by scikit-learn confusion_matrix function\n",
    "    class_labels: list of strings, default simply labels 0 and 1.\n",
    "\n",
    "    Draws confusion matrix with associated metrics.\n",
    "    \"\"\"\n",
    "    import matplotlib.pyplot as plt\n",
    "    import numpy as np\n",
    "    \n",
    "    assert C.shape == (2,2), \"Confusion matrix should be from binary classification only.\"\n",
    "    \n",
    "    # true negative, false positive, etc...\n",
    "    tn = C[0,0]; fp = C[0,1]; fn = C[1,0]; tp = C[1,1];\n",
    "\n",
    "    NP = fn+tp # Num positive examples\n",
    "    NN = tn+fp # Num negative examples\n",
    "    N  = NP+NN\n",
    "\n",
    "    fig = plt.figure(figsize=(8,8))\n",
    "    ax  = fig.add_subplot(111)\n",
    "    ax.imshow(C, interpolation='nearest', cmap=plt.cm.gray)\n",
    "\n",
    "    # Draw the grid boxes\n",
    "    ax.set_xlim(-0.5,2.5)\n",
    "    ax.set_ylim(2.5,-0.5)\n",
    "    ax.plot([-0.5,2.5],[0.5,0.5], '-k', lw=2)\n",
    "    ax.plot([-0.5,2.5],[1.5,1.5], '-k', lw=2)\n",
    "    ax.plot([0.5,0.5],[-0.5,2.5], '-k', lw=2)\n",
    "    ax.plot([1.5,1.5],[-0.5,2.5], '-k', lw=2)\n",
    "\n",
    "    # Set xlabels\n",
    "    ax.set_xlabel('Predicted Label', fontsize=16)\n",
    "    ax.set_xticks([0,1,2])\n",
    "    ax.set_xticklabels(class_labels + [''])\n",
    "    ax.xaxis.set_label_position('top')\n",
    "    ax.xaxis.tick_top()\n",
    "    # These coordinate might require some tinkering. Ditto for y, below.\n",
    "    ax.xaxis.set_label_coords(0.2,0.7)\n",
    "\n",
    "    # Set ylabels\n",
    "    ax.set_ylabel('True Label', fontsize=16, rotation=90)\n",
    "    ax.set_yticklabels(class_labels + [''],rotation=90)\n",
    "    ax.set_yticks([0,1,2])\n",
    "    ax.yaxis.set_label_coords(-0.09,0.65)\n",
    "\n",
    "\n",
    "    # Fill in initial metrics: tp, tn, etc...\n",
    "    ax.text(0,0,\n",
    "            'True Neg: %d\\n(Num Neg: %d)'%(tn,NN),\n",
    "            va='center',\n",
    "            ha='center',\n",
    "            bbox=dict(fc='w',boxstyle='round,pad=1'))\n",
    "\n",
    "    ax.text(0,1,\n",
    "            'False Neg: %d'%fn,\n",
    "            va='center',\n",
    "            ha='center',\n",
    "            bbox=dict(fc='w',boxstyle='round,pad=1'))\n",
    "\n",
    "    ax.text(1,0,\n",
    "            'False Pos: %d'%fp,\n",
    "            va='center',\n",
    "            ha='center',\n",
    "            bbox=dict(fc='w',boxstyle='round,pad=1'))\n",
    "\n",
    "\n",
    "    ax.text(1,1,\n",
    "            'True Pos: %d\\n(Num Pos: %d)'%(tp,NP),\n",
    "            va='center',\n",
    "            ha='center',\n",
    "            bbox=dict(fc='w',boxstyle='round,pad=1'))\n",
    "\n",
    "    # Fill in secondary metrics: accuracy, true pos rate, etc...\n",
    "    ax.text(2,0,\n",
    "            'False Pos Rate: %.2f'%(fp / (fp+tn+0.)),\n",
    "            va='center',\n",
    "            ha='center',\n",
    "            bbox=dict(fc='w',boxstyle='round,pad=1'))\n",
    "\n",
    "    ax.text(2,1,\n",
    "            'True Pos Rate: %.2f'%(tp / (tp+fn+0.)),\n",
    "            va='center',\n",
    "            ha='center',\n",
    "            bbox=dict(fc='w',boxstyle='round,pad=1'))\n",
    "\n",
    "    ax.text(2,2,\n",
    "            'Accuracy: %.2f'%((tp+tn+0.)/N),\n",
    "            va='center',\n",
    "            ha='center',\n",
    "            bbox=dict(fc='w',boxstyle='round,pad=1'))\n",
    "\n",
    "    ax.text(0,2,\n",
    "            'Neg Pre Val: %.2f'%(1-fn/(fn+tn+0.)),\n",
    "            va='center',\n",
    "            ha='center',\n",
    "            bbox=dict(fc='w',boxstyle='round,pad=1'))\n",
    "\n",
    "    ax.text(1,2,\n",
    "            'Pos Pred Val: %.2f'%(tp/(tp+fp+0.)),\n",
    "            va='center',\n",
    "            ha='center',\n",
    "            bbox=dict(fc='w',boxstyle='round,pad=1'))\n",
    "\n",
    "\n",
    "    plt.tight_layout()\n",
    "    plt.show()"
   ]
  },
  {
   "cell_type": "code",
   "execution_count": 9,
   "metadata": {
    "collapsed": true
   },
   "outputs": [],
   "source": [
    "X = data.drop('y', axis = 1)\n",
    "y = data['y']"
   ]
  },
  {
   "cell_type": "markdown",
   "metadata": {},
   "source": [
    "##### LogisticRegression"
   ]
  },
  {
   "cell_type": "code",
   "execution_count": 10,
   "metadata": {},
   "outputs": [
    {
     "data": {
      "text/plain": [
       "LogisticRegression(C=0.01, class_weight=None, dual=False, fit_intercept=True,\n",
       "          intercept_scaling=1, max_iter=100, multi_class='ovr', n_jobs=1,\n",
       "          penalty='l2', random_state=42, solver='liblinear', tol=0.0001,\n",
       "          verbose=0, warm_start=False)"
      ]
     },
     "execution_count": 10,
     "metadata": {},
     "output_type": "execute_result"
    }
   ],
   "source": [
    "X_train, X_test, y_train, y_test = train_test_split(X, y, test_size=0.3,random_state=10,\n",
    "                                                   stratify =y )\n",
    "clf = LogisticRegression(random_state=42, C=0.01)\n",
    "clf.fit(X_train, y_train)"
   ]
  },
  {
   "cell_type": "code",
   "execution_count": 11,
   "metadata": {
    "collapsed": true
   },
   "outputs": [],
   "source": [
    "C = confusion_matrix(y_train,clf.predict(X_train))\n",
    "training_Accuracy_score = ((C[0,0]+C[1,1])/(C[0,0]+C[0,1]+C[1,0]+C[1,1]))\n",
    "training_Senstivity =  C[1,1]/(C[1,0]+C[1,1])\n",
    "training_Specifity = C[0,0]/(C[0,1]+C[0,0])"
   ]
  },
  {
   "cell_type": "code",
   "execution_count": 12,
   "metadata": {
    "collapsed": true
   },
   "outputs": [],
   "source": [
    "ROC = roc_auc_score(y_test, clf.predict(X_test))"
   ]
  },
  {
   "cell_type": "code",
   "execution_count": 13,
   "metadata": {},
   "outputs": [
    {
     "name": "stdout",
     "output_type": "stream",
     "text": [
      "             precision    recall  f1-score   support\n",
      "\n",
      "          0       0.93      0.97      0.95     10965\n",
      "          1       0.66      0.39      0.49      1392\n",
      "\n",
      "avg / total       0.90      0.91      0.90     12357\n",
      "\n"
     ]
    },
    {
     "data": {
      "image/png": "[encoded data removed]",
      "text/plain": [
       "<matplotlib.figure.Figure at 0x115d46198>"
      ]
     },
     "metadata": {},
     "output_type": "display_data"
    }
   ],
   "source": [
    "C = confusion_matrix(y_test,clf.predict(X_test))\n",
    "testing_Accuracy_score = ((C[0,0]+C[1,1])/(C[0,0]+C[0,1]+C[1,0]+C[1,1]))\n",
    "testing_Senstivity =  C[1,1]/(C[1,0]+C[1,1])\n",
    "testing_Specifity = C[0,0]/(C[0,1]+C[0,0])\n",
    "final_dict=[{'Model':'LR','Train_A_S':training_Accuracy_score\n",
    "    ,'Train_TPR':training_Senstivity,\n",
    "    'Train_TNR':training_Specifity,\n",
    "    'Test_A_S':testing_Accuracy_score,\n",
    "    'Test_TPR':testing_Senstivity,\n",
    "    'Test_TNR':testing_Specifity,\n",
    "    'ROC':ROC}]\n",
    "print(classification_report(y_test,clf.predict(X_test)))\n",
    "show_confusion_matrix(C, ['Class 0', 'Class 1'])\n",
    "#final_dict"
   ]
  },
  {
   "cell_type": "markdown",
   "metadata": {},
   "source": [
    "##### KFold Cross Validation"
   ]
  },
  {
   "cell_type": "code",
   "execution_count": 14,
   "metadata": {},
   "outputs": [
    {
     "name": "stdout",
     "output_type": "stream",
     "text": [
      "Accuracy Score 0.911\n",
      "FPR 0.026\n",
      "TPR 0.399\n",
      "Accuracy Score 0.913\n",
      "FPR 0.024\n",
      "TPR 0.423\n",
      "Accuracy Score 0.911\n",
      "FPR 0.021\n",
      "TPR 0.383\n",
      "Accuracy Score 0.908\n",
      "FPR 0.029\n",
      "TPR 0.396\n",
      "Accuracy Score 0.906\n",
      "FPR 0.030\n",
      "TPR 0.421\n",
      "CrossValScore  0.909658115403\n"
     ]
    }
   ],
   "source": [
    "kf = KFold(n_splits=5, shuffle=True)\n",
    "for train,test in kf.split(X):\n",
    "    #print(\"hello\")\n",
    "    X_train, X_test = X.iloc[train], X.iloc[test]\n",
    "    y_train, y_test = y.iloc[train], y.iloc[test]\n",
    "    clf = LogisticRegression()\n",
    "    clf.fit(X_train,y_train)\n",
    "    print(\"Accuracy Score {:.3f}\".format(accuracy_score(y_test,clf.predict(X_test))))\n",
    "    C = confusion_matrix(y_test,clf.predict(X_test))\n",
    "    #show_confusion_matrix(C, ['Class 0', 'Class 1'])\n",
    "    tpr = C[1,1]/(C[1,0]+C[1,1])\n",
    "    fpr = C[0,1]/(C[0,1]+C[0,0])\n",
    "        \n",
    "    print(\"FPR {:.3f}\".format(fpr))\n",
    "    print(\"TPR {:.3f}\".format(tpr))\n",
    "    \n",
    "    \n",
    "    \n",
    "    \n",
    "\n",
    "\n",
    "crossval_score = cross_val_score(clf,X,y,cv=kf)\n",
    "print(\"CrossValScore \",crossval_score.mean())"
   ]
  },
  {
   "cell_type": "markdown",
   "metadata": {},
   "source": [
    "##### StratifiedKFold Validation"
   ]
  },
  {
   "cell_type": "code",
   "execution_count": 15,
   "metadata": {},
   "outputs": [
    {
     "name": "stdout",
     "output_type": "stream",
     "text": [
      "Accuracy Score 0.908\n",
      "FPR 0.027\n",
      "TPR 0.395\n",
      "Accuracy Score 0.912\n",
      "FPR 0.027\n",
      "TPR 0.429\n",
      "Accuracy Score 0.912\n",
      "FPR 0.024\n",
      "TPR 0.404\n",
      "Accuracy Score 0.910\n",
      "FPR 0.026\n",
      "TPR 0.407\n",
      "Accuracy Score 0.911\n",
      "FPR 0.026\n",
      "TPR 0.416\n",
      "The cross val score is 0.911\n"
     ]
    }
   ],
   "source": [
    "kf_stratified = StratifiedKFold(n_splits=5, shuffle=True)\n",
    "for train,test in kf_stratified.split(X,y):\n",
    "    #print(\"hello\")\n",
    "    X_train, X_test = X.iloc[train], X.iloc[test]\n",
    "    y_train, y_test = y.iloc[train], y.iloc[test]\n",
    "    clf = LogisticRegression()\n",
    "    clf.fit(X_train,y_train)\n",
    "    print(\"Accuracy Score {:.3f}\".format(accuracy_score(y_test,clf.predict(X_test))))\n",
    "    C = confusion_matrix(y_test,clf.predict(X_test))\n",
    "    tpr = C[1,1]/(C[1,0]+C[1,1])\n",
    "    fpr = C[0,1]/(C[0,1]+C[0,0])\n",
    "        #fpr = c[]\n",
    "    print(\"FPR {:.3f}\".format(fpr))\n",
    "    print(\"TPR {:.3f}\".format(tpr))\n",
    "    #show_confusion_matrix(C, ['Class 0', 'Class 1'])\n",
    "crossval_score = cross_val_score(clf,X,y,cv=kf_stratified)\n",
    "print(\"The cross val score is {:.3f}\".format(crossval_score.mean()))"
   ]
  },
  {
   "cell_type": "markdown",
   "metadata": {},
   "source": [
    "###### GridSearchCV"
   ]
  },
  {
   "cell_type": "code",
   "execution_count": 16,
   "metadata": {
    "collapsed": true
   },
   "outputs": [],
   "source": [
    "param_grid = {'C': [0.01, 0.1, 1, 10, 100, 1000],'penalty':['l1','l2'] }\n",
    "clf_CV = GridSearchCV(LogisticRegression(), param_grid)"
   ]
  },
  {
   "cell_type": "code",
   "execution_count": 17,
   "metadata": {},
   "outputs": [
    {
     "name": "stdout",
     "output_type": "stream",
     "text": [
      "{'C': 0.01, 'penalty': 'l1'}\n"
     ]
    },
    {
     "data": {
      "image/png": "[encoded data removed]",
      "text/plain": [
       "<matplotlib.figure.Figure at 0x115e6b710>"
      ]
     },
     "metadata": {},
     "output_type": "display_data"
    }
   ],
   "source": [
    "clf_CV.fit(X_train, y_train)\n",
    "print(clf_CV.best_params_)\n",
    "C = confusion_matrix(y_test,clf_CV.predict(X_test))\n",
    "show_confusion_matrix(C, ['Class 0', 'Class 1'])"
   ]
  },
  {
   "cell_type": "code",
   "execution_count": null,
   "metadata": {
    "collapsed": true
   },
   "outputs": [],
   "source": []
  },
  {
   "cell_type": "code",
   "execution_count": null,
   "metadata": {
    "collapsed": true
   },
   "outputs": [],
   "source": []
  },
  {
   "cell_type": "markdown",
   "metadata": {},
   "source": [
    "##### UnderSampling"
   ]
  },
  {
   "cell_type": "code",
   "execution_count": 18,
   "metadata": {
    "collapsed": true
   },
   "outputs": [],
   "source": [
    "df_0=data[data['y']==0]"
   ]
  },
  {
   "cell_type": "code",
   "execution_count": 19,
   "metadata": {},
   "outputs": [
    {
     "data": {
      "text/plain": [
       "(36548, 64)"
      ]
     },
     "execution_count": 19,
     "metadata": {},
     "output_type": "execute_result"
    }
   ],
   "source": [
    "df_0.shape"
   ]
  },
  {
   "cell_type": "code",
   "execution_count": 20,
   "metadata": {
    "collapsed": true
   },
   "outputs": [],
   "source": [
    "df_1=data[data['y']==1]"
   ]
  },
  {
   "cell_type": "code",
   "execution_count": 21,
   "metadata": {},
   "outputs": [
    {
     "data": {
      "text/plain": [
       "(4640, 64)"
      ]
     },
     "execution_count": 21,
     "metadata": {},
     "output_type": "execute_result"
    }
   ],
   "source": [
    "df_1.shape"
   ]
  },
  {
   "cell_type": "code",
   "execution_count": 22,
   "metadata": {},
   "outputs": [
    {
     "data": {
      "text/plain": [
       "(36548, 64)"
      ]
     },
     "execution_count": 22,
     "metadata": {},
     "output_type": "execute_result"
    }
   ],
   "source": [
    "df_0.shape"
   ]
  },
  {
   "cell_type": "code",
   "execution_count": 23,
   "metadata": {},
   "outputs": [
    {
     "name": "stdout",
     "output_type": "stream",
     "text": [
      "7\n"
     ]
    }
   ],
   "source": [
    "chunkSize = 4640\n",
    "numberChunks = len(df_0)//chunkSize\n",
    "print(numberChunks)"
   ]
  },
  {
   "cell_type": "code",
   "execution_count": 24,
   "metadata": {},
   "outputs": [
    {
     "name": "stdout",
     "output_type": "stream",
     "text": [
      "TNR 0.979\n",
      "TPR 0.964\n",
      "ROC Score 0.971\n",
      "*******************\n",
      "TNR 0.974\n",
      "TPR 0.946\n",
      "ROC Score 0.960\n",
      "*******************\n",
      "TNR 0.978\n",
      "TPR 0.935\n",
      "ROC Score 0.956\n",
      "*******************\n",
      "TNR 0.971\n",
      "TPR 0.928\n",
      "ROC Score 0.949\n",
      "*******************\n",
      "TNR 0.984\n",
      "TPR 0.960\n",
      "ROC Score 0.972\n",
      "*******************\n",
      "TNR 0.958\n",
      "TPR 0.890\n",
      "ROC Score 0.924\n",
      "*******************\n",
      "TNR 0.956\n",
      "TPR 0.880\n",
      "ROC Score 0.918\n",
      "*******************\n"
     ]
    }
   ],
   "source": [
    "li_tpr = []\n",
    "li_tnr = []\n",
    "li_roc =[]\n",
    "for i in range(numberChunks):\n",
    "    df_split = df_0[i*chunkSize:(i+1)*chunkSize]\n",
    "    frames = [df_split,df_1]\n",
    "    final_df = pd.concat(frames)\n",
    "    final_df = final_df.sample(frac=1)\n",
    "    X_underSample = final_df.drop('y', axis = 1)\n",
    "    y_underSample = final_df['y']\n",
    "    X_train, X_test, y_train, y_test = train_test_split(X_underSample, y_underSample, \n",
    "                                                    test_size=0.3,random_state=10)\n",
    "    clf = LogisticRegression(C=0.01,max_iter=1000)\n",
    "    clf.fit(X_train, y_train)\n",
    "    C = confusion_matrix(y_test,clf.predict(X_test))\n",
    "    #print(C)\n",
    "    tpr = C[1,1]/(C[1,0]+C[1,1])\n",
    "    tnr = C[0,0]/(C[0,1]+C[0,0])\n",
    "    print(\"TNR {:.3f}\".format(tnr))\n",
    "    print(\"TPR {:.3f}\".format(tpr))\n",
    "    li_tpr.append(tpr)\n",
    "    li_tnr.append(tnr)\n",
    "    print(\"ROC Score {:.3f}\".format(roc_auc_score(y_test, clf.predict(X_test))))\n",
    "    li_roc.append(roc_auc_score(y_test, clf.predict(X_test)))\n",
    "    #print(C)\n",
    "    #show_confusion_matrix(C, ['Class 0', 'Class 1'])\n",
    "    #pred = clf.predict(X_test)\n",
    "    #print(classification_report(y_test,pred))\n",
    "    print(\"*******************\")\n",
    "    "
   ]
  },
  {
   "cell_type": "code",
   "execution_count": 25,
   "metadata": {},
   "outputs": [
    {
     "data": {
      "text/plain": [
       "[0.96361091672498256,\n",
       " 0.94594594594594594,\n",
       " 0.93481375358166185,\n",
       " 0.92773722627737232,\n",
       " 0.95977417078334515,\n",
       " 0.88982456140350874,\n",
       " 0.87962291515591007]"
      ]
     },
     "execution_count": 25,
     "metadata": {},
     "output_type": "execute_result"
    }
   ],
   "source": [
    "li_tpr"
   ]
  },
  {
   "cell_type": "markdown",
   "metadata": {},
   "source": [
    "###### Graph TPR vs TNR for different chunks of data for UnderSampling"
   ]
  },
  {
   "cell_type": "code",
   "execution_count": 26,
   "metadata": {},
   "outputs": [
    {
     "data": {
      "text/plain": [
       "<matplotlib.text.Text at 0x119097898>"
      ]
     },
     "execution_count": 26,
     "metadata": {},
     "output_type": "execute_result"
    },
    {
     "data": {
      "image/png": "[encoded data removed]",
      "text/plain": [
       "<matplotlib.figure.Figure at 0x116165d68>"
      ]
     },
     "metadata": {},
     "output_type": "display_data"
    }
   ],
   "source": [
    "plt.plot(li_tpr,color=\"blue\", linewidth=2.5, linestyle=\"-\",label=\"TPR\",marker='o')\n",
    "plt.plot(li_tnr,color=\"green\", linewidth=2.5, linestyle=\"-\",label=\"TNR\",marker='o')\n",
    "plt.legend(loc='upper right')\n",
    "plt.xlabel(\"Chunk Number\")\n",
    "plt.ylabel(\"Precentage\")\n",
    "plt.title(\"TPR VS TNR\")"
   ]
  },
  {
   "cell_type": "markdown",
   "metadata": {},
   "source": [
    "###### ROC Score for different chunks"
   ]
  },
  {
   "cell_type": "code",
   "execution_count": 27,
   "metadata": {},
   "outputs": [
    {
     "data": {
      "text/plain": [
       "<matplotlib.text.Text at 0x1161fc630>"
      ]
     },
     "execution_count": 27,
     "metadata": {},
     "output_type": "execute_result"
    },
    {
     "data": {
      "image/png": "[encoded data removed]",
      "text/plain": [
       "<matplotlib.figure.Figure at 0x119089da0>"
      ]
     },
     "metadata": {},
     "output_type": "display_data"
    }
   ],
   "source": [
    "plt.plot(li_roc,color=\"blue\", linewidth=2.5, linestyle=\"-\",label=\"ROC\",marker='o')\n",
    "plt.legend(loc='upper right')\n",
    "plt.xlabel(\"Chunk Number\")\n",
    "plt.ylabel(\"ROC Score\")\n",
    "plt.title(\"ROC\")"
   ]
  },
  {
   "cell_type": "code",
   "execution_count": 28,
   "metadata": {},
   "outputs": [
    {
     "name": "stdout",
     "output_type": "stream",
     "text": [
      "*****************Chunk********************* 0\n",
      "Accuracy Score 0.974\n",
      "TNR 0.956\n",
      "TPR 0.969\n",
      "ROC Score 0.974\n",
      "Accuracy Score 0.976\n",
      "TNR 0.956\n",
      "TPR 0.961\n",
      "ROC Score 0.976\n",
      "Accuracy Score 0.975\n",
      "TNR 0.956\n",
      "TPR 0.966\n",
      "ROC Score 0.975\n",
      "Accuracy Score 0.974\n",
      "TNR 0.956\n",
      "TPR 0.961\n",
      "ROC Score 0.974\n",
      "Accuracy Score 0.973\n",
      "TNR 0.956\n",
      "TPR 0.959\n",
      "ROC Score 0.973\n",
      "*****************Chunk********************* 1\n",
      "Accuracy Score 0.963\n",
      "TNR 0.956\n",
      "TPR 0.947\n",
      "ROC Score 0.963\n",
      "Accuracy Score 0.960\n",
      "TNR 0.956\n",
      "TPR 0.939\n",
      "ROC Score 0.960\n",
      "Accuracy Score 0.962\n",
      "TNR 0.956\n",
      "TPR 0.947\n",
      "ROC Score 0.962\n",
      "Accuracy Score 0.958\n",
      "TNR 0.956\n",
      "TPR 0.943\n",
      "ROC Score 0.958\n",
      "Accuracy Score 0.965\n",
      "TNR 0.956\n",
      "TPR 0.953\n",
      "ROC Score 0.965\n",
      "*****************Chunk********************* 2\n",
      "Accuracy Score 0.964\n",
      "TNR 0.956\n",
      "TPR 0.949\n",
      "ROC Score 0.964\n",
      "Accuracy Score 0.950\n",
      "TNR 0.956\n",
      "TPR 0.935\n",
      "ROC Score 0.950\n",
      "Accuracy Score 0.959\n",
      "TNR 0.956\n",
      "TPR 0.940\n",
      "ROC Score 0.959\n",
      "Accuracy Score 0.953\n",
      "TNR 0.956\n",
      "TPR 0.934\n",
      "ROC Score 0.953\n",
      "Accuracy Score 0.962\n",
      "TNR 0.956\n",
      "TPR 0.944\n",
      "ROC Score 0.962\n",
      "*****************Chunk********************* 3\n",
      "Accuracy Score 0.955\n",
      "TNR 0.956\n",
      "TPR 0.945\n",
      "ROC Score 0.955\n",
      "Accuracy Score 0.954\n",
      "TNR 0.956\n",
      "TPR 0.945\n",
      "ROC Score 0.954\n",
      "Accuracy Score 0.946\n",
      "TNR 0.956\n",
      "TPR 0.920\n",
      "ROC Score 0.946\n",
      "Accuracy Score 0.948\n",
      "TNR 0.956\n",
      "TPR 0.923\n",
      "ROC Score 0.948\n",
      "Accuracy Score 0.955\n",
      "TNR 0.956\n",
      "TPR 0.942\n",
      "ROC Score 0.955\n",
      "*****************Chunk********************* 4\n",
      "Accuracy Score 0.966\n",
      "TNR 0.956\n",
      "TPR 0.957\n",
      "ROC Score 0.966\n",
      "Accuracy Score 0.973\n",
      "TNR 0.956\n",
      "TPR 0.958\n",
      "ROC Score 0.973\n",
      "Accuracy Score 0.966\n",
      "TNR 0.956\n",
      "TPR 0.958\n",
      "ROC Score 0.966\n",
      "Accuracy Score 0.973\n",
      "TNR 0.956\n",
      "TPR 0.963\n",
      "ROC Score 0.973\n",
      "Accuracy Score 0.969\n",
      "TNR 0.956\n",
      "TPR 0.960\n",
      "ROC Score 0.969\n",
      "*****************Chunk********************* 5\n",
      "Accuracy Score 0.930\n",
      "TNR 0.956\n",
      "TPR 0.902\n",
      "ROC Score 0.930\n",
      "Accuracy Score 0.926\n",
      "TNR 0.956\n",
      "TPR 0.897\n",
      "ROC Score 0.926\n",
      "Accuracy Score 0.915\n",
      "TNR 0.956\n",
      "TPR 0.881\n",
      "ROC Score 0.915\n",
      "Accuracy Score 0.920\n",
      "TNR 0.956\n",
      "TPR 0.875\n",
      "ROC Score 0.920\n",
      "Accuracy Score 0.920\n",
      "TNR 0.956\n",
      "TPR 0.876\n",
      "ROC Score 0.920\n",
      "*****************Chunk********************* 6\n",
      "Accuracy Score 0.918\n",
      "TNR 0.956\n",
      "TPR 0.873\n",
      "ROC Score 0.918\n",
      "Accuracy Score 0.915\n",
      "TNR 0.956\n",
      "TPR 0.861\n",
      "ROC Score 0.915\n",
      "Accuracy Score 0.912\n",
      "TNR 0.956\n",
      "TPR 0.864\n",
      "ROC Score 0.912\n",
      "Accuracy Score 0.908\n",
      "TNR 0.956\n",
      "TPR 0.866\n",
      "ROC Score 0.908\n",
      "Accuracy Score 0.915\n",
      "TNR 0.956\n",
      "TPR 0.875\n",
      "ROC Score 0.915\n"
     ]
    }
   ],
   "source": [
    "kf_stratified = StratifiedKFold(n_splits=5, shuffle=True)\n",
    "li_tpr = []\n",
    "li_tnr = []\n",
    "li_roc =[]\n",
    "for i in range(numberChunks):\n",
    "    df_split = df_0[i*chunkSize:(i+1)*chunkSize]\n",
    "    frames = [df_split,df_1]\n",
    "    final_df = pd.concat(frames)\n",
    "    final_df = final_df.sample(frac=1)\n",
    "    X_S = final_df.drop('y', axis = 1)\n",
    "    y_S = final_df['y']\n",
    "    print(\"*****************Chunk*********************\",i)\n",
    "    for train,test in kf_stratified.split(X_S,y_S):\n",
    "    #print(\"hello\")\n",
    "        X_train, X_test = X_S.iloc[train], X_S.iloc[test]\n",
    "        y_train, y_test = y_S.iloc[train], y_S.iloc[test]\n",
    "        clf = LogisticRegression(C=0.01)\n",
    "        clf.fit(X_train,y_train)\n",
    "        print(\"Accuracy Score {:.3f}\".format(accuracy_score(y_test,clf.predict(X_test))))\n",
    "        C = confusion_matrix(y_test,clf.predict(X_test))\n",
    "        tpr = C[1,1]/(C[1,0]+C[1,1])\n",
    "        fpr = C[0,1]/(C[0,1]+C[0,0])\n",
    "        li_tpr.append(tpr)\n",
    "        li_tnr.append(tnr)\n",
    "        #fpr = c[]\n",
    "        print(\"TNR {:.3f}\".format(tnr))\n",
    "        print(\"TPR {:.3f}\".format(tpr))\n",
    "        print(\"ROC Score {:.3f}\".format(roc_auc_score(y_test, clf.predict(X_test))))\n",
    "        li_roc.append(roc_auc_score(y_test, clf.predict(X_test)))\n",
    "        #pred = clf.predict(X_test)\n",
    "        #print(classification_report(y_test,clf.predict(X_test)))\n",
    "        #print(C)\n",
    "        #show_confusion_matrix(C, ['Class 0', 'Class 1'])\n",
    "    \n"
   ]
  },
  {
   "cell_type": "markdown",
   "metadata": {},
   "source": [
    "###### RandomForestClassifier"
   ]
  },
  {
   "cell_type": "code",
   "execution_count": 29,
   "metadata": {},
   "outputs": [
    {
     "name": "stdout",
     "output_type": "stream",
     "text": [
      "(28831, 63)\n",
      "{'max_features': 'auto', 'n_estimators': 700}\n"
     ]
    }
   ],
   "source": [
    "\n",
    "X_train, X_test, y_train, y_test = train_test_split(X, y, test_size=0.3,random_state=10)\n",
    "rfc = RandomForestClassifier(class_weight=\"balanced\",n_jobs=2)\n",
    "param_grid ={'n_estimators': [200, 700],\n",
    "             'max_features': ['auto', 'sqrt', 'log2']}\n",
    "CV_rfc = GridSearchCV(estimator=rfc, param_grid=param_grid)\n",
    "CV_rfc.fit(X_train, y_train)\n",
    "print(X_train.shape)\n",
    "print(CV_rfc.best_params_)\n",
    " "
   ]
  },
  {
   "cell_type": "code",
   "execution_count": 30,
   "metadata": {},
   "outputs": [
    {
     "data": {
      "text/plain": [
       "RandomForestClassifier(bootstrap=True, class_weight='balanced',\n",
       "            criterion='gini', max_depth=None, max_features='auto',\n",
       "            max_leaf_nodes=None, min_impurity_decrease=0.0,\n",
       "            min_impurity_split=None, min_samples_leaf=1,\n",
       "            min_samples_split=2, min_weight_fraction_leaf=0.0,\n",
       "            n_estimators=10, n_jobs=2, oob_score=False, random_state=None,\n",
       "            verbose=0, warm_start=False)"
      ]
     },
     "execution_count": 30,
     "metadata": {},
     "output_type": "execute_result"
    }
   ],
   "source": [
    "rfc.fit(X_train,y_train)"
   ]
  },
  {
   "cell_type": "code",
   "execution_count": 31,
   "metadata": {},
   "outputs": [
    {
     "data": {
      "text/plain": [
       "array([32, 26, 43, 62, 21, 46, 50, 34, 45, 37, 48, 42, 13, 44, 20, 58, 41,\n",
       "       16, 18, 12, 29, 23, 15, 22, 14,  4, 59, 17, 56, 38, 36, 49, 27, 24,\n",
       "       54, 53, 25, 61, 19, 55, 51, 52, 60, 30, 40, 31, 11, 10, 28, 33, 35,\n",
       "       39, 47,  6, 57,  7,  3,  2,  9,  5,  0,  8,  1])"
      ]
     },
     "execution_count": 31,
     "metadata": {},
     "output_type": "execute_result"
    }
   ],
   "source": [
    "rfc.feature_importances_.argsort()"
   ]
  },
  {
   "cell_type": "code",
   "execution_count": 32,
   "metadata": {},
   "outputs": [
    {
     "data": {
      "text/plain": [
       "Index(['age', 'duration', 'campaign', 'pdays', 'previous', 'emp.var.rate',\n",
       "       'cons.price.idx', 'cons.conf.idx', 'euribor3m', 'nr.employed', 'y',\n",
       "       'job_admin.', 'job_blue-collar', 'job_entrepreneur', 'job_housemaid',\n",
       "       'job_management', 'job_retired', 'job_self-employed', 'job_services',\n",
       "       'job_student', 'job_technician', 'job_unemployed', 'job_unknown',\n",
       "       'education_basic.4y', 'education_basic.6y', 'education_basic.9y',\n",
       "       'education_high.school', 'education_illiterate',\n",
       "       'education_professional.course', 'education_university.degree',\n",
       "       'education_unknown', 'default_no', 'default_unknown', 'default_yes',\n",
       "       'housing_no', 'housing_unknown', 'housing_yes', 'loan_no',\n",
       "       'loan_unknown', 'loan_yes', 'contact_cellular', 'contact_telephone',\n",
       "       'month_apr', 'month_aug', 'month_dec', 'month_jul', 'month_jun',\n",
       "       'month_mar', 'month_may', 'month_nov', 'month_oct', 'month_sep',\n",
       "       'day_of_week_fri', 'day_of_week_mon', 'day_of_week_thu',\n",
       "       'day_of_week_tue', 'day_of_week_wed', 'poutcome_failure',\n",
       "       'poutcome_nonexistent', 'poutcome_success', 'marital_divorced',\n",
       "       'marital_married', 'marital_single', 'marital_unknown'],\n",
       "      dtype='object')"
      ]
     },
     "execution_count": 32,
     "metadata": {},
     "output_type": "execute_result"
    }
   ],
   "source": [
    "data.columns"
   ]
  },
  {
   "cell_type": "code",
   "execution_count": 33,
   "metadata": {
    "collapsed": true
   },
   "outputs": [],
   "source": [
    "C = confusion_matrix(y_train,CV_rfc.predict(X_train))\n",
    "training_Accuracy_score = ((C[0,0]+C[1,1])/(C[0,0]+C[0,1]+C[1,0]+C[1,1]))\n",
    "training_Senstivity =  C[1,1]/(C[1,0]+C[1,1])\n",
    "training_Specifity = C[0,0]/(C[0,1]+C[0,0])"
   ]
  },
  {
   "cell_type": "code",
   "execution_count": 34,
   "metadata": {
    "collapsed": true
   },
   "outputs": [],
   "source": [
    "ROC = roc_auc_score(y_test, CV_rfc.predict(X_test))"
   ]
  },
  {
   "cell_type": "code",
   "execution_count": 35,
   "metadata": {},
   "outputs": [
    {
     "name": "stdout",
     "output_type": "stream",
     "text": [
      "TNR 0.977\n",
      "TPR 0.377\n",
      "             precision    recall  f1-score   support\n",
      "\n",
      "          0       0.92      0.98      0.95     10935\n",
      "          1       0.68      0.38      0.49      1422\n",
      "\n",
      "avg / total       0.90      0.91      0.90     12357\n",
      "\n"
     ]
    }
   ],
   "source": [
    "#pred = clf.predict(X_test)\n",
    "C = confusion_matrix(y_test,CV_rfc.predict(X_test))\n",
    "#show_confusion_matrix(C, ['Class 0', 'Class 1'])\n",
    "tpr = C[1,1]/(C[1,0]+C[1,1])\n",
    "tnr = C[0,0]/(C[0,1]+C[0,0])\n",
    "print(\"TNR {:.3f}\".format(tnr))\n",
    "print(\"TPR {:.3f}\".format(tpr))\n",
    "#pred = clf.predict(X_test)\n",
    "print(classification_report(y_test,CV_rfc.predict(X_test)))\n",
    "#print(classification_report(y_test,pred))\n",
    "testing_Accuracy_score = ((C[0,0]+C[1,1])/(C[0,0]+C[0,1]+C[1,0]+C[1,1]))\n",
    "testing_Senstivity =  C[1,1]/(C[1,0]+C[1,1])\n",
    "testing_Specifity = C[0,0]/(C[0,1]+C[0,0])\n",
    "final_dict.append({'Model':'RFC','Train_A_S':training_Accuracy_score\n",
    "    ,'Train_TPR':training_Senstivity,\n",
    "    'Train_TNR':training_Specifity,\n",
    "    'Test_A_S':testing_Accuracy_score,\n",
    "    'Test_TPR':testing_Senstivity,\n",
    "    'Test_TNR':testing_Specifity,\n",
    "    'ROC':ROC})"
   ]
  },
  {
   "cell_type": "markdown",
   "metadata": {},
   "source": [
    "###### UnderSampling for Random Forest"
   ]
  },
  {
   "cell_type": "code",
   "execution_count": 36,
   "metadata": {},
   "outputs": [
    {
     "name": "stdout",
     "output_type": "stream",
     "text": [
      "TNR 0.996\n",
      "TPR 0.950\n",
      "ROC Score 0.973\n",
      "*******************\n",
      "TNR 0.989\n",
      "TPR 0.963\n",
      "ROC Score 0.976\n",
      "*******************\n",
      "TNR 0.985\n",
      "TPR 0.950\n",
      "ROC Score 0.967\n",
      "*******************\n",
      "TNR 0.982\n",
      "TPR 0.950\n",
      "ROC Score 0.966\n",
      "*******************\n",
      "TNR 0.984\n",
      "TPR 0.957\n",
      "ROC Score 0.970\n",
      "*******************\n",
      "TNR 0.975\n",
      "TPR 0.904\n",
      "ROC Score 0.940\n",
      "*******************\n",
      "TNR 0.976\n",
      "TPR 0.923\n",
      "ROC Score 0.949\n",
      "*******************\n"
     ]
    }
   ],
   "source": [
    "li_tpr = []\n",
    "li_tnr = []\n",
    "li_roc =[]\n",
    "for i in range(numberChunks):\n",
    "    df_split = df_0[i*chunkSize:(i+1)*chunkSize]\n",
    "    frames = [df_split,df_1]\n",
    "    final_df = pd.concat(frames)\n",
    "    final_df = final_df.sample(frac=1)\n",
    "    X_underSample = final_df.drop('y', axis = 1)\n",
    "    y_underSample = final_df['y']\n",
    "    X_train, X_test, y_train, y_test = train_test_split(X_underSample, y_underSample, \n",
    "                                            test_size=0.3,random_state=10)\n",
    "    rfc = RandomForestClassifier(class_weight=\"balanced\",n_jobs=2,\n",
    "                    n_estimators=200,max_features='auto')\n",
    "    rfc.fit(X_train,y_train)\n",
    "    C = confusion_matrix(y_test,rfc.predict(X_test))\n",
    "    #print(C)\n",
    "    tpr = C[1,1]/(C[1,0]+C[1,1])\n",
    "    tnr = C[0,0]/(C[0,1]+C[0,0])\n",
    "    print(\"TNR {:.3f}\".format(tnr))\n",
    "    print(\"TPR {:.3f}\".format(tpr))\n",
    "    li_tpr.append(tpr)\n",
    "    li_tnr.append(tnr)\n",
    "    print(\"ROC Score {:.3f}\".format(roc_auc_score(y_test, rfc.predict(X_test))))\n",
    "    li_roc.append(roc_auc_score(y_test, rfc.predict(X_test)))\n",
    "    #print(C)\n",
    "    #show_confusion_matrix(C, ['Class 0', 'Class 1'])\n",
    "    #pred = clf.predict(X_test)\n",
    "    #print(classification_report(y_test,pred))\n",
    "    print(\"*******************\")\n",
    "    "
   ]
  },
  {
   "cell_type": "markdown",
   "metadata": {},
   "source": [
    "###### TPR vs TNR for Random Forest Sampler"
   ]
  },
  {
   "cell_type": "code",
   "execution_count": 37,
   "metadata": {},
   "outputs": [
    {
     "data": {
      "text/plain": [
       "<matplotlib.text.Text at 0x11895ed30>"
      ]
     },
     "execution_count": 37,
     "metadata": {},
     "output_type": "execute_result"
    },
    {
     "data": {
      "image/png": "[encoded data removed]",
      "text/plain": [
       "<matplotlib.figure.Figure at 0x117ca29e8>"
      ]
     },
     "metadata": {},
     "output_type": "display_data"
    }
   ],
   "source": [
    "plt.plot(li_tpr,color=\"blue\", linewidth=2.5, linestyle=\"-\",label=\"TPR\",marker='o')\n",
    "plt.plot(li_tnr,color=\"green\", linewidth=2.5, linestyle=\"-\",label=\"TNR\",marker='o')\n",
    "plt.legend(loc='upper right')\n",
    "plt.xlabel(\"Chunk Number\")\n",
    "plt.ylabel(\"Percentage\")\n",
    "plt.title(\"TPR VS TNR\")"
   ]
  },
  {
   "cell_type": "markdown",
   "metadata": {},
   "source": [
    "###### ROC Score Random Forest for Different Chunks"
   ]
  },
  {
   "cell_type": "code",
   "execution_count": 38,
   "metadata": {},
   "outputs": [
    {
     "data": {
      "text/plain": [
       "<matplotlib.text.Text at 0x13230d278>"
      ]
     },
     "execution_count": 38,
     "metadata": {},
     "output_type": "execute_result"
    },
    {
     "data": {
      "image/png": "[encoded data removed]",
      "text/plain": [
       "<matplotlib.figure.Figure at 0x13261b6a0>"
      ]
     },
     "metadata": {},
     "output_type": "display_data"
    }
   ],
   "source": [
    "plt.plot(li_roc,color=\"blue\", linewidth=2.5, linestyle=\"-\",label=\"ROC\",marker = 'o')\n",
    "plt.legend(loc='upper right')\n",
    "plt.xlabel(\"Chunk Number\")\n",
    "plt.ylabel(\"ROC Score\")\n",
    "plt.title(\"ROC\")"
   ]
  },
  {
   "cell_type": "markdown",
   "metadata": {},
   "source": [
    "###### ADABoostClassifier"
   ]
  },
  {
   "cell_type": "code",
   "execution_count": 39,
   "metadata": {},
   "outputs": [
    {
     "data": {
      "text/plain": [
       "AdaBoostClassifier(algorithm='SAMME', base_estimator=None, learning_rate=1.0,\n",
       "          n_estimators=50, random_state=None)"
      ]
     },
     "execution_count": 39,
     "metadata": {},
     "output_type": "execute_result"
    }
   ],
   "source": [
    "X_train, X_test, y_train, y_test = train_test_split(X, y, \n",
    "                                    test_size=0.3,random_state=10)\n",
    "\n",
    "adaBoost = AdaBoostClassifier(n_estimators=50,learning_rate=1.0, algorithm='SAMME')\n",
    "adaBoost.fit(X_train, y_train)"
   ]
  },
  {
   "cell_type": "code",
   "execution_count": 40,
   "metadata": {
    "collapsed": true
   },
   "outputs": [],
   "source": [
    "C = confusion_matrix(y_train,adaBoost.predict(X_train))\n",
    "training_Accuracy_score = ((C[0,0]+C[1,1])/(C[0,0]+C[0,1]+C[1,0]+C[1,1]))\n",
    "training_Senstivity =  C[1,1]/(C[1,0]+C[1,1])\n",
    "training_Specifity = C[0,0]/(C[0,1]+C[0,0])"
   ]
  },
  {
   "cell_type": "code",
   "execution_count": 41,
   "metadata": {
    "collapsed": true
   },
   "outputs": [],
   "source": [
    "ROC = roc_auc_score(y_test, adaBoost.predict(X_test))"
   ]
  },
  {
   "cell_type": "code",
   "execution_count": 42,
   "metadata": {},
   "outputs": [
    {
     "data": {
      "image/png": "[encoded data removed]",
      "text/plain": [
       "<matplotlib.figure.Figure at 0x132812a90>"
      ]
     },
     "metadata": {},
     "output_type": "display_data"
    }
   ],
   "source": [
    "C = confusion_matrix(y_test,adaBoost.predict(X_test))\n",
    "show_confusion_matrix(C, ['Class 0', 'Class 1'])\n",
    "testing_Accuracy_score = ((C[0,0]+C[1,1])/(C[0,0]+C[0,1]+C[1,0]+C[1,1]))\n",
    "testing_Senstivity =  C[1,1]/(C[1,0]+C[1,1])\n",
    "testing_Specifity = C[0,0]/(C[0,1]+C[0,0])\n",
    "final_dict.append({'Model':'ADABoost','Train_A_S':training_Accuracy_score\n",
    "    ,'Train_TPR':training_Senstivity,\n",
    "    'Train_TNR':training_Specifity,\n",
    "    'Test_A_S':testing_Accuracy_score,\n",
    "    'Test_TPR':testing_Senstivity,\n",
    "    'Test_TNR':testing_Specifity,\n",
    "    'ROC':ROC})"
   ]
  },
  {
   "cell_type": "code",
   "execution_count": 43,
   "metadata": {},
   "outputs": [
    {
     "data": {
      "text/plain": [
       "GradientBoostingClassifier(criterion='friedman_mse', init=None,\n",
       "              learning_rate=0.1, loss='deviance', max_depth=3,\n",
       "              max_features=None, max_leaf_nodes=None,\n",
       "              min_impurity_decrease=0.0, min_impurity_split=None,\n",
       "              min_samples_leaf=1, min_samples_split=2,\n",
       "              min_weight_fraction_leaf=0.0, n_estimators=200,\n",
       "              presort='auto', random_state=None, subsample=1.0, verbose=0,\n",
       "              warm_start=False)"
      ]
     },
     "execution_count": 43,
     "metadata": {},
     "output_type": "execute_result"
    }
   ],
   "source": [
    "X_train, X_test, y_train, y_test = train_test_split(X, y, \n",
    "                                    test_size=0.3,random_state=10)\n",
    "gbt = GradientBoostingClassifier(n_estimators=200, max_depth=3)\n",
    "gbt.fit(X_train, y_train)"
   ]
  },
  {
   "cell_type": "code",
   "execution_count": 44,
   "metadata": {
    "collapsed": true
   },
   "outputs": [],
   "source": [
    "#gbt.estimators_\n",
    "C = confusion_matrix(y_train,gbt.predict(X_train))\n",
    "training_Accuracy_score = ((C[0,0]+C[1,1])/(C[0,0]+C[0,1]+C[1,0]+C[1,1]))\n",
    "training_Senstivity =  C[1,1]/(C[1,0]+C[1,1])\n",
    "training_Specifity = C[0,0]/(C[0,1]+C[0,0])\n"
   ]
  },
  {
   "cell_type": "code",
   "execution_count": 45,
   "metadata": {
    "collapsed": true
   },
   "outputs": [],
   "source": [
    "ROC = roc_auc_score(y_test, gbt.predict(X_test))"
   ]
  },
  {
   "cell_type": "code",
   "execution_count": 46,
   "metadata": {},
   "outputs": [
    {
     "data": {
      "image/png": "[encoded data removed]",
      "text/plain": [
       "<matplotlib.figure.Figure at 0x117bd66d8>"
      ]
     },
     "metadata": {},
     "output_type": "display_data"
    }
   ],
   "source": [
    "C = confusion_matrix(y_test,gbt.predict(X_test))\n",
    "show_confusion_matrix(C, ['Class 0', 'Class 1'])\n",
    "testing_Accuracy_score = ((C[0,0]+C[1,1])/(C[0,0]+C[0,1]+C[1,0]+C[1,1]))\n",
    "testing_Senstivity =  C[1,1]/(C[1,0]+C[1,1])\n",
    "testing_Specifity = C[0,0]/(C[0,1]+C[0,0])\n",
    "final_dict.append({'Model':'GBT','Train_A_S':training_Accuracy_score\n",
    "    ,'Train_TPR':training_Senstivity,\n",
    "    'Train_TNR':training_Specifity,\n",
    "    'Test_A_S':testing_Accuracy_score,\n",
    "    'Test_TPR':testing_Senstivity,\n",
    "    'Test_TNR':testing_Specifity,\n",
    "    'ROC':ROC})"
   ]
  },
  {
   "cell_type": "markdown",
   "metadata": {},
   "source": [
    "###### OverSampling"
   ]
  },
  {
   "cell_type": "code",
   "execution_count": 47,
   "metadata": {},
   "outputs": [
    {
     "data": {
      "text/plain": [
       "(41188, 63)"
      ]
     },
     "execution_count": 47,
     "metadata": {},
     "output_type": "execute_result"
    }
   ],
   "source": [
    "X.shape"
   ]
  },
  {
   "cell_type": "code",
   "execution_count": 48,
   "metadata": {},
   "outputs": [
    {
     "data": {
      "text/plain": [
       "(41188,)"
      ]
     },
     "execution_count": 48,
     "metadata": {},
     "output_type": "execute_result"
    }
   ],
   "source": [
    "y.shape"
   ]
  },
  {
   "cell_type": "markdown",
   "metadata": {},
   "source": [
    "###### SMOTE"
   ]
  },
  {
   "cell_type": "code",
   "execution_count": 49,
   "metadata": {
    "collapsed": true
   },
   "outputs": [],
   "source": [
    "from collections import Counter\n",
    "from sklearn.datasets import make_classification\n",
    "from imblearn.over_sampling import SMOTE"
   ]
  },
  {
   "cell_type": "code",
   "execution_count": 50,
   "metadata": {
    "collapsed": true
   },
   "outputs": [],
   "source": [
    "sm = SMOTE(random_state=42)\n",
    "X_res, y_res = sm.fit_sample(X, y)"
   ]
  },
  {
   "cell_type": "code",
   "execution_count": 51,
   "metadata": {},
   "outputs": [
    {
     "name": "stdout",
     "output_type": "stream",
     "text": [
      "Resampled dataset shape Counter({0: 36548, 1: 36548})\n"
     ]
    }
   ],
   "source": [
    "print('Resampled dataset shape {}'.format(Counter(y_res)))"
   ]
  },
  {
   "cell_type": "code",
   "execution_count": 52,
   "metadata": {},
   "outputs": [
    {
     "data": {
      "text/plain": [
       "LogisticRegression(C=0.01, class_weight=None, dual=False, fit_intercept=True,\n",
       "          intercept_scaling=1, max_iter=1000, multi_class='ovr', n_jobs=1,\n",
       "          penalty='l2', random_state=None, solver='liblinear', tol=0.0001,\n",
       "          verbose=0, warm_start=False)"
      ]
     },
     "execution_count": 52,
     "metadata": {},
     "output_type": "execute_result"
    }
   ],
   "source": [
    "X_train, X_test, y_train, y_test = train_test_split(X_res, y_res, test_size=0.3,random_state=10)\n",
    "clf = LogisticRegression(C=0.01,max_iter = 1000)\n",
    "clf.fit(X_train, y_train)"
   ]
  },
  {
   "cell_type": "code",
   "execution_count": 53,
   "metadata": {
    "collapsed": true
   },
   "outputs": [],
   "source": [
    "C = confusion_matrix(y_train,clf.predict(X_train))\n",
    "training_Accuracy_score = ((C[0,0]+C[1,1])/(C[0,0]+C[0,1]+C[1,0]+C[1,1]))\n",
    "training_Senstivity =  C[1,1]/(C[1,0]+C[1,1])\n",
    "training_Specifity = C[0,0]/(C[0,1]+C[0,0])"
   ]
  },
  {
   "cell_type": "code",
   "execution_count": 54,
   "metadata": {
    "collapsed": true
   },
   "outputs": [],
   "source": [
    "ROC = roc_auc_score(y_test, clf.predict(X_test))"
   ]
  },
  {
   "cell_type": "code",
   "execution_count": 55,
   "metadata": {
    "scrolled": true
   },
   "outputs": [
    {
     "data": {
      "image/png": "[encoded data removed]",
      "text/plain": [
       "<matplotlib.figure.Figure at 0x1191090f0>"
      ]
     },
     "metadata": {},
     "output_type": "display_data"
    }
   ],
   "source": [
    "C = confusion_matrix(y_test,clf.predict(X_test))\n",
    "show_confusion_matrix(C, ['Class 0', 'Class 1'])\n",
    "testing_Accuracy_score = ((C[0,0]+C[1,1])/(C[0,0]+C[0,1]+C[1,0]+C[1,1]))\n",
    "testing_Senstivity =  C[1,1]/(C[1,0]+C[1,1])\n",
    "testing_Specifity = C[0,0]/(C[0,1]+C[0,0])\n",
    "final_dict.append({'Model':'SMOTE_LR','Train_A_S':training_Accuracy_score\n",
    "    ,'Train_TPR':training_Senstivity,\n",
    "    'Train_TNR':training_Specifity,\n",
    "    'Test_A_S':testing_Accuracy_score,\n",
    "    'Test_TPR':testing_Senstivity,\n",
    "    'Test_TNR':testing_Specifity,\n",
    "    'ROC':ROC})"
   ]
  },
  {
   "cell_type": "markdown",
   "metadata": {},
   "source": [
    "###### RandomOverSampler"
   ]
  },
  {
   "cell_type": "code",
   "execution_count": 56,
   "metadata": {},
   "outputs": [
    {
     "name": "stdout",
     "output_type": "stream",
     "text": [
      "Resampled dataset shape Counter({0: 36548, 1: 36548})\n"
     ]
    }
   ],
   "source": [
    "from imblearn.over_sampling import RandomOverSampler\n",
    "ros = RandomOverSampler(random_state=42)\n",
    "X_res_ros, y_res_ros = ros.fit_sample(X, y)\n",
    "print('Resampled dataset shape {}'.format(Counter(y_res_ros)))"
   ]
  },
  {
   "cell_type": "code",
   "execution_count": 57,
   "metadata": {},
   "outputs": [
    {
     "data": {
      "text/plain": [
       "LogisticRegression(C=0.01, class_weight=None, dual=False, fit_intercept=True,\n",
       "          intercept_scaling=1, max_iter=1000, multi_class='ovr', n_jobs=1,\n",
       "          penalty='l2', random_state=None, solver='liblinear', tol=0.0001,\n",
       "          verbose=0, warm_start=False)"
      ]
     },
     "execution_count": 57,
     "metadata": {},
     "output_type": "execute_result"
    }
   ],
   "source": [
    "X_train, X_test, y_train, y_test = train_test_split(X_res_ros, y_res_ros, \n",
    "                                        test_size=0.3,random_state=10)\n",
    "clf = LogisticRegression(C=.01,max_iter=1000)\n",
    "clf.fit(X_train, y_train)"
   ]
  },
  {
   "cell_type": "code",
   "execution_count": 58,
   "metadata": {},
   "outputs": [
    {
     "data": {
      "image/png": "[encoded data removed]",
      "text/plain": [
       "<matplotlib.figure.Figure at 0x132831630>"
      ]
     },
     "metadata": {},
     "output_type": "display_data"
    }
   ],
   "source": [
    "C = confusion_matrix(y_test,clf.predict(X_test))\n",
    "show_confusion_matrix(C, ['Class 0', 'Class 1'])"
   ]
  },
  {
   "cell_type": "markdown",
   "metadata": {},
   "source": [
    "###### ADASYN"
   ]
  },
  {
   "cell_type": "code",
   "execution_count": 59,
   "metadata": {
    "collapsed": true
   },
   "outputs": [],
   "source": [
    "from imblearn.over_sampling import ADASYN\n",
    "adasyn = ADASYN(random_state=42)\n",
    "X_res_ada, y_res_ada = adasyn.fit_sample(X, y)"
   ]
  },
  {
   "cell_type": "code",
   "execution_count": 60,
   "metadata": {},
   "outputs": [
    {
     "data": {
      "text/plain": [
       "LogisticRegression(C=0.01, class_weight=None, dual=False, fit_intercept=True,\n",
       "          intercept_scaling=1, max_iter=1000, multi_class='ovr', n_jobs=1,\n",
       "          penalty='l2', random_state=None, solver='liblinear', tol=0.0001,\n",
       "          verbose=0, warm_start=False)"
      ]
     },
     "execution_count": 60,
     "metadata": {},
     "output_type": "execute_result"
    }
   ],
   "source": [
    "X_train, X_test, y_train, y_test = train_test_split(X_res_ada, y_res_ada, \n",
    "                                        test_size=0.3,random_state=10)\n",
    "clf = LogisticRegression(C=.01,max_iter=1000)\n",
    "clf.fit(X_train, y_train)"
   ]
  },
  {
   "cell_type": "code",
   "execution_count": 61,
   "metadata": {},
   "outputs": [
    {
     "data": {
      "image/png": "[encoded data removed]",
      "text/plain": [
       "<matplotlib.figure.Figure at 0x132831128>"
      ]
     },
     "metadata": {},
     "output_type": "display_data"
    }
   ],
   "source": [
    "C = confusion_matrix(y_test,clf.predict(X_test))\n",
    "show_confusion_matrix(C, ['Class 0', 'Class 1'])"
   ]
  },
  {
   "cell_type": "markdown",
   "metadata": {
    "collapsed": true
   },
   "source": [
    "###### RandomUnderSampler"
   ]
  },
  {
   "cell_type": "code",
   "execution_count": 62,
   "metadata": {
    "collapsed": true
   },
   "outputs": [],
   "source": [
    "from imblearn.under_sampling import RandomUnderSampler"
   ]
  },
  {
   "cell_type": "code",
   "execution_count": 63,
   "metadata": {
    "collapsed": true
   },
   "outputs": [],
   "source": [
    "rus = RandomUnderSampler(random_state=42)\n",
    "X_res, y_res = rus.fit_sample(X, y)"
   ]
  },
  {
   "cell_type": "code",
   "execution_count": 64,
   "metadata": {},
   "outputs": [
    {
     "name": "stdout",
     "output_type": "stream",
     "text": [
      "Original dataset shape Counter({0: 36548, 1: 4640})\n",
      "Resampled dataset shape Counter({0: 4640, 1: 4640})\n"
     ]
    }
   ],
   "source": [
    "print('Original dataset shape {}'.format(Counter(y)))\n",
    "print('Resampled dataset shape {}'.format(Counter(y_res)))"
   ]
  },
  {
   "cell_type": "code",
   "execution_count": 65,
   "metadata": {},
   "outputs": [
    {
     "data": {
      "text/plain": [
       "GradientBoostingClassifier(criterion='friedman_mse', init=None,\n",
       "              learning_rate=0.1, loss='deviance', max_depth=3,\n",
       "              max_features=None, max_leaf_nodes=None,\n",
       "              min_impurity_decrease=0.0, min_impurity_split=None,\n",
       "              min_samples_leaf=1, min_samples_split=2,\n",
       "              min_weight_fraction_leaf=0.0, n_estimators=200,\n",
       "              presort='auto', random_state=None, subsample=1.0, verbose=0,\n",
       "              warm_start=False)"
      ]
     },
     "execution_count": 65,
     "metadata": {},
     "output_type": "execute_result"
    }
   ],
   "source": [
    "X_train, X_test, y_train, y_test = train_test_split(X_res, y_res, \n",
    "                                    test_size=0.3,random_state=10)\n",
    "gbt = GradientBoostingClassifier(n_estimators=200, max_depth=3)\n",
    "gbt.fit(X_train, y_train)"
   ]
  },
  {
   "cell_type": "code",
   "execution_count": 66,
   "metadata": {
    "collapsed": true
   },
   "outputs": [],
   "source": [
    "C = confusion_matrix(y_train,gbt.predict(X_train))\n",
    "training_Accuracy_score = ((C[0,0]+C[1,1])/(C[0,0]+C[0,1]+C[1,0]+C[1,1]))\n",
    "training_Senstivity =  C[1,1]/(C[1,0]+C[1,1])\n",
    "training_Specifity = C[0,0]/(C[0,1]+C[0,0])"
   ]
  },
  {
   "cell_type": "code",
   "execution_count": 67,
   "metadata": {
    "collapsed": true
   },
   "outputs": [],
   "source": [
    "ROC = roc_auc_score(y_test, gbt.predict(X_test))"
   ]
  },
  {
   "cell_type": "code",
   "execution_count": 68,
   "metadata": {},
   "outputs": [
    {
     "data": {
      "image/png": "[encoded data removed]",
      "text/plain": [
       "<matplotlib.figure.Figure at 0x115fc14a8>"
      ]
     },
     "metadata": {},
     "output_type": "display_data"
    },
    {
     "name": "stdout",
     "output_type": "stream",
     "text": [
      "TPR 0.921\n",
      "TNR 0.863\n"
     ]
    }
   ],
   "source": [
    "C = confusion_matrix(y_test,gbt.predict(X_test))\n",
    "show_confusion_matrix(C, ['Class 0', 'Class 1'])\n",
    "tpr = C[1,1]/(C[1,0]+C[1,1])\n",
    "tnr = C[0,0]/(C[0,1]+C[0,0])\n",
    "print(\"TPR {:.3f}\".format(tpr))\n",
    "print(\"TNR {:.3f}\".format(tnr))\n",
    "testing_Accuracy_score = ((C[0,0]+C[1,1])/(C[0,0]+C[0,1]+C[1,0]+C[1,1]))\n",
    "testing_Senstivity =  C[1,1]/(C[1,0]+C[1,1])\n",
    "testing_Specifity = C[0,0]/(C[0,1]+C[0,0])\n",
    "final_dict.append({'Model':'UnderSler_GBT','Train_A_S':training_Accuracy_score\n",
    "    ,'Train_TPR':training_Senstivity,\n",
    "    'Train_TNR':training_Specifity,\n",
    "    'Test_A_S':testing_Accuracy_score,\n",
    "    'Test_TPR':testing_Senstivity,\n",
    "    'Test_TNR':testing_Specifity,\n",
    "    'ROC':ROC})"
   ]
  },
  {
   "cell_type": "code",
   "execution_count": 69,
   "metadata": {},
   "outputs": [
    {
     "data": {
      "text/plain": [
       "LogisticRegression(C=0.01, class_weight=None, dual=False, fit_intercept=True,\n",
       "          intercept_scaling=1, max_iter=1000, multi_class='ovr', n_jobs=1,\n",
       "          penalty='l2', random_state=None, solver='liblinear', tol=0.0001,\n",
       "          verbose=0, warm_start=False)"
      ]
     },
     "execution_count": 69,
     "metadata": {},
     "output_type": "execute_result"
    }
   ],
   "source": [
    "X_train, X_test, y_train, y_test = train_test_split(X_res, y_res, \n",
    "                                        test_size=0.3,random_state=10)\n",
    "clf = LogisticRegression(C=.01,max_iter=1000)\n",
    "clf.fit(X_train, y_train)"
   ]
  },
  {
   "cell_type": "code",
   "execution_count": 70,
   "metadata": {
    "collapsed": true
   },
   "outputs": [],
   "source": [
    "C = confusion_matrix(y_train,clf.predict(X_train))\n",
    "training_Accuracy_score = ((C[0,0]+C[1,1])/(C[0,0]+C[0,1]+C[1,0]+C[1,1]))\n",
    "training_Senstivity =  C[1,1]/(C[1,0]+C[1,1])\n",
    "training_Specifity = C[0,0]/(C[0,1]+C[0,0])"
   ]
  },
  {
   "cell_type": "code",
   "execution_count": 71,
   "metadata": {
    "collapsed": true
   },
   "outputs": [],
   "source": [
    "ROC = roc_auc_score(y_test, clf.predict(X_test))"
   ]
  },
  {
   "cell_type": "code",
   "execution_count": 72,
   "metadata": {},
   "outputs": [
    {
     "data": {
      "image/png": "[encoded data removed]",
      "text/plain": [
       "<matplotlib.figure.Figure at 0x1190f7e48>"
      ]
     },
     "metadata": {},
     "output_type": "display_data"
    },
    {
     "name": "stdout",
     "output_type": "stream",
     "text": [
      "TPR 0.859\n",
      "TNR 0.864\n"
     ]
    }
   ],
   "source": [
    "C = confusion_matrix(y_test,clf.predict(X_test))\n",
    "show_confusion_matrix(C, ['Class 0', 'Class 1'])\n",
    "tpr = C[1,1]/(C[1,0]+C[1,1])\n",
    "tnr = C[0,0]/(C[0,1]+C[0,0])\n",
    "print(\"TPR {:.3f}\".format(tpr))\n",
    "print(\"TNR {:.3f}\".format(tnr))\n",
    "testing_Accuracy_score = ((C[0,0]+C[1,1])/(C[0,0]+C[0,1]+C[1,0]+C[1,1]))\n",
    "testing_Senstivity =  C[1,1]/(C[1,0]+C[1,1])\n",
    "testing_Specifity = C[0,0]/(C[0,1]+C[0,0])\n",
    "final_dict.append({'Model':'UnderSler_LR','Train_A_S':training_Accuracy_score\n",
    "    ,'Train_TPR':training_Senstivity,\n",
    "    'Train_TNR':training_Specifity,\n",
    "    'Test_A_S':testing_Accuracy_score,\n",
    "    'Test_TPR':testing_Senstivity,\n",
    "    'Test_TNR':testing_Specifity,\n",
    "        'ROC':ROC})"
   ]
  },
  {
   "cell_type": "markdown",
   "metadata": {},
   "source": [
    "###### XGBoost"
   ]
  },
  {
   "cell_type": "code",
   "execution_count": 73,
   "metadata": {
    "collapsed": true
   },
   "outputs": [],
   "source": [
    "from xgboost import XGBClassifier"
   ]
  },
  {
   "cell_type": "code",
   "execution_count": 74,
   "metadata": {
    "collapsed": true
   },
   "outputs": [],
   "source": [
    "X_train, X_test, y_train, y_test = train_test_split(X, y, \n",
    "                                test_size=0.3,random_state=10,stratify=y)"
   ]
  },
  {
   "cell_type": "code",
   "execution_count": 75,
   "metadata": {},
   "outputs": [
    {
     "data": {
      "text/plain": [
       "XGBClassifier(base_score=0.5, booster='gbtree', colsample_bylevel=1,\n",
       "       colsample_bytree=0.75, gamma=0.3, learning_rate=0.01,\n",
       "       max_delta_step=0, max_depth=5, min_child_weight=3, missing=None,\n",
       "       n_estimators=5000, n_jobs=1, nthread=4, objective='binary:logistic',\n",
       "       random_state=0, reg_alpha=0.001, reg_lambda=1, scale_pos_weight=1,\n",
       "       seed=27, silent=True, subsample=0.8)"
      ]
     },
     "execution_count": 75,
     "metadata": {},
     "output_type": "execute_result"
    }
   ],
   "source": [
    "xgbc = XGBClassifier( learning_rate =0.01, n_estimators=5000, max_depth=5,\n",
    " min_child_weight=3, gamma=0.3, subsample=0.8, colsample_bytree=0.75,\n",
    " objective= 'binary:logistic', nthread=4, scale_pos_weight=1,seed=27,\n",
    "                   reg_alpha=0.001)\n",
    "xgbc.fit(X_train,y_train)"
   ]
  },
  {
   "cell_type": "code",
   "execution_count": null,
   "metadata": {
    "collapsed": true
   },
   "outputs": [],
   "source": []
  },
  {
   "cell_type": "code",
   "execution_count": 76,
   "metadata": {
    "collapsed": true
   },
   "outputs": [],
   "source": [
    "C = confusion_matrix(y_train,xgbc.predict(X_train))\n",
    "training_Accuracy_score = ((C[0,0]+C[1,1])/(C[0,0]+C[0,1]+C[1,0]+C[1,1]))\n",
    "training_Senstivity =  C[1,1]/(C[1,0]+C[1,1])\n",
    "training_Specifity = C[0,0]/(C[0,1]+C[0,0])"
   ]
  },
  {
   "cell_type": "code",
   "execution_count": 77,
   "metadata": {
    "collapsed": true
   },
   "outputs": [],
   "source": [
    "ROC = roc_auc_score(y_test, xgbc.predict(X_test))"
   ]
  },
  {
   "cell_type": "code",
   "execution_count": 78,
   "metadata": {},
   "outputs": [
    {
     "name": "stdout",
     "output_type": "stream",
     "text": [
      "TPR 0.550\n",
      "TNR 0.965\n"
     ]
    }
   ],
   "source": [
    "C = confusion_matrix(y_test,xgbc.predict(X_test))\n",
    "#show_confusion_matrix(C, ['Class 0', 'Class 1'])\n",
    "tpr = C[1,1]/(C[1,0]+C[1,1])\n",
    "tnr = C[0,0]/(C[0,1]+C[0,0])\n",
    "print(\"TPR {:.3f}\".format(tpr))\n",
    "print(\"TNR {:.3f}\".format(tnr))\n",
    "testing_Accuracy_score = ((C[0,0]+C[1,1])/(C[0,0]+C[0,1]+C[1,0]+C[1,1]))\n",
    "testing_Senstivity =  C[1,1]/(C[1,0]+C[1,1])\n",
    "testing_Specifity = C[0,0]/(C[0,1]+C[0,0])"
   ]
  },
  {
   "cell_type": "code",
   "execution_count": 79,
   "metadata": {
    "collapsed": true
   },
   "outputs": [],
   "source": [
    "final_dict.append({'Model':'XGBoost','Train_A_S':training_Accuracy_score\n",
    "    ,'Train_TPR':training_Senstivity,\n",
    "    'Train_TNR':training_Specifity,\n",
    "    'Test_A_S':testing_Accuracy_score,\n",
    "    'Test_TPR':testing_Senstivity,\n",
    "    'Test_TNR':testing_Specifity,\n",
    "        'ROC':ROC})"
   ]
  },
  {
   "cell_type": "markdown",
   "metadata": {},
   "source": [
    "###### OverSampler For XGBoost"
   ]
  },
  {
   "cell_type": "code",
   "execution_count": 80,
   "metadata": {
    "collapsed": true
   },
   "outputs": [],
   "source": [
    "sm = SMOTE(random_state=42)\n",
    "X_res, y_res = sm.fit_sample(X, y)"
   ]
  },
  {
   "cell_type": "code",
   "execution_count": 81,
   "metadata": {},
   "outputs": [
    {
     "name": "stdout",
     "output_type": "stream",
     "text": [
      "Resampled dataset shape Counter({0: 36548, 1: 36548})\n"
     ]
    }
   ],
   "source": [
    "print('Resampled dataset shape {}'.format(Counter(y_res)))"
   ]
  },
  {
   "cell_type": "code",
   "execution_count": 82,
   "metadata": {
    "collapsed": true
   },
   "outputs": [],
   "source": [
    "X_train, X_test, y_train, y_test = train_test_split(X_res, y_res, test_size=0.3,\n",
    "                                                    random_state=10)\n"
   ]
  },
  {
   "cell_type": "code",
   "execution_count": 138,
   "metadata": {},
   "outputs": [
    {
     "data": {
      "text/plain": [
       "XGBClassifier(base_score=0.5, booster='gbtree', colsample_bylevel=1,\n",
       "       colsample_bytree=0.75, gamma=0.3, learning_rate=0.01,\n",
       "       max_delta_step=0, max_depth=5, min_child_weight=3, missing=None,\n",
       "       n_estimators=5000, n_jobs=1, nthread=4, objective='binary:logistic',\n",
       "       random_state=0, reg_alpha=0.001, reg_lambda=1, scale_pos_weight=1,\n",
       "       seed=27, silent=True, subsample=0.8)"
      ]
     },
     "execution_count": 138,
     "metadata": {},
     "output_type": "execute_result"
    }
   ],
   "source": [
    "xgbc = XGBClassifier( learning_rate =0.01, n_estimators=5000, max_depth=5,\n",
    " min_child_weight=3, gamma=0.3, subsample=0.8, colsample_bytree=0.75,\n",
    " objective= 'binary:logistic', nthread=4, scale_pos_weight=1,seed=27,\n",
    "                   reg_alpha=0.001)\n",
    "xgbc.fit(X_train,y_train)"
   ]
  },
  {
   "cell_type": "markdown",
   "metadata": {},
   "source": [
    "##### Feature Importance for XGBoost with Smote"
   ]
  },
  {
   "cell_type": "code",
   "execution_count": 143,
   "metadata": {
    "collapsed": true
   },
   "outputs": [],
   "source": [
    "feats = {} # a dict to hold feature_name: feature_importance\n",
    "for feature, importance in zip(X.columns, xgbc.feature_importances_):\n",
    "    feats[feature] = importance "
   ]
  },
  {
   "cell_type": "code",
   "execution_count": 144,
   "metadata": {},
   "outputs": [],
   "source": [
    "imp_features = {}\n",
    "for k,v in feats.items():\n",
    "    if v >= 0.04:\n",
    "        imp_features[k] = v"
   ]
  },
  {
   "cell_type": "code",
   "execution_count": 145,
   "metadata": {},
   "outputs": [
    {
     "data": {
      "text/plain": [
       "{'age': 0.13070004,\n",
       " 'campaign': 0.048557136,\n",
       " 'cons.price.idx': 0.04346687,\n",
       " 'duration': 0.23163201,\n",
       " 'euribor3m': 0.13779896}"
      ]
     },
     "execution_count": 145,
     "metadata": {},
     "output_type": "execute_result"
    }
   ],
   "source": [
    "imp_features"
   ]
  },
  {
   "cell_type": "code",
   "execution_count": 146,
   "metadata": {},
   "outputs": [
    {
     "data": {
      "image/png": "[encoded data removed]",
      "text/plain": [
       "<matplotlib.figure.Figure at 0x1196163c8>"
      ]
     },
     "metadata": {},
     "output_type": "display_data"
    }
   ],
   "source": [
    "plt.bar(range(len(imp_features)), imp_features.values(), align='center')\n",
    "plt.xticks(range(len(imp_features)), imp_features.keys())\n",
    "\n",
    "plt.show()"
   ]
  },
  {
   "cell_type": "code",
   "execution_count": 84,
   "metadata": {
    "collapsed": true
   },
   "outputs": [],
   "source": [
    "C = confusion_matrix(y_train,xgbc.predict(X_train))\n",
    "training_Accuracy_score = ((C[0,0]+C[1,1])/(C[0,0]+C[0,1]+C[1,0]+C[1,1]))\n",
    "training_Senstivity =  C[1,1]/(C[1,0]+C[1,1])\n",
    "training_Specifity = C[0,0]/(C[0,1]+C[0,0])"
   ]
  },
  {
   "cell_type": "code",
   "execution_count": 85,
   "metadata": {
    "collapsed": true
   },
   "outputs": [],
   "source": [
    "ROC = roc_auc_score(y_test, xgbc.predict(X_test))"
   ]
  },
  {
   "cell_type": "code",
   "execution_count": 86,
   "metadata": {},
   "outputs": [
    {
     "data": {
      "image/png": "[encoded data removed]",
      "text/plain": [
       "<matplotlib.figure.Figure at 0x1163a7ba8>"
      ]
     },
     "metadata": {},
     "output_type": "display_data"
    }
   ],
   "source": [
    "C = confusion_matrix(y_test,xgbc.predict(X_test))\n",
    "show_confusion_matrix(C, ['Class 0', 'Class 1'])\n",
    "testing_Accuracy_score = ((C[0,0]+C[1,1])/(C[0,0]+C[0,1]+C[1,0]+C[1,1]))\n",
    "testing_Senstivity =  C[1,1]/(C[1,0]+C[1,1])\n",
    "testing_Specifity = C[0,0]/(C[0,1]+C[0,0])\n",
    "final_dict.append({'Model':'SMOTE_XGB','Train_A_S':training_Accuracy_score\n",
    "    ,'Train_TPR':training_Senstivity,\n",
    "    'Train_TNR':training_Specifity,\n",
    "    'Test_A_S':testing_Accuracy_score,\n",
    "    'Test_TPR':testing_Senstivity,\n",
    "    'Test_TNR':testing_Specifity,\n",
    "    'ROC':ROC})"
   ]
  },
  {
   "cell_type": "markdown",
   "metadata": {},
   "source": [
    "###### RandomUnderSampler for XGBoost"
   ]
  },
  {
   "cell_type": "code",
   "execution_count": 87,
   "metadata": {
    "collapsed": true
   },
   "outputs": [],
   "source": [
    "rus = RandomUnderSampler(random_state=42)\n",
    "X_res, y_res = rus.fit_sample(X, y)"
   ]
  },
  {
   "cell_type": "code",
   "execution_count": 88,
   "metadata": {},
   "outputs": [
    {
     "name": "stdout",
     "output_type": "stream",
     "text": [
      "Original dataset shape Counter({0: 36548, 1: 4640})\n",
      "Resampled dataset shape Counter({0: 4640, 1: 4640})\n"
     ]
    }
   ],
   "source": [
    "print('Original dataset shape {}'.format(Counter(y)))\n",
    "print('Resampled dataset shape {}'.format(Counter(y_res)))"
   ]
  },
  {
   "cell_type": "code",
   "execution_count": 89,
   "metadata": {
    "collapsed": true
   },
   "outputs": [],
   "source": [
    "X_train, X_test, y_train, y_test = train_test_split(X_res, y_res, \n",
    "                                    test_size=0.3,random_state=10)\n"
   ]
  },
  {
   "cell_type": "code",
   "execution_count": 90,
   "metadata": {},
   "outputs": [
    {
     "data": {
      "text/plain": [
       "XGBClassifier(base_score=0.5, booster='gbtree', colsample_bylevel=1,\n",
       "       colsample_bytree=0.75, gamma=0.3, learning_rate=0.01,\n",
       "       max_delta_step=0, max_depth=5, min_child_weight=3, missing=None,\n",
       "       n_estimators=5000, n_jobs=1, nthread=4, objective='binary:logistic',\n",
       "       random_state=0, reg_alpha=0.001, reg_lambda=1, scale_pos_weight=1,\n",
       "       seed=27, silent=True, subsample=0.8)"
      ]
     },
     "execution_count": 90,
     "metadata": {},
     "output_type": "execute_result"
    }
   ],
   "source": [
    "xgbc = XGBClassifier( learning_rate =0.01, n_estimators=5000, max_depth=5,\n",
    " min_child_weight=3, gamma=0.3, subsample=0.8, colsample_bytree=0.75,\n",
    " objective= 'binary:logistic', nthread=4, scale_pos_weight=1,seed=27,\n",
    "                   reg_alpha=0.001)\n",
    "xgbc.fit(X_train,y_train)"
   ]
  },
  {
   "cell_type": "code",
   "execution_count": 91,
   "metadata": {
    "collapsed": true
   },
   "outputs": [],
   "source": [
    "C = confusion_matrix(y_train,xgbc.predict(X_train))\n",
    "training_Accuracy_score = ((C[0,0]+C[1,1])/(C[0,0]+C[0,1]+C[1,0]+C[1,1]))\n",
    "training_Senstivity =  C[1,1]/(C[1,0]+C[1,1])\n",
    "training_Specifity = C[0,0]/(C[0,1]+C[0,0])"
   ]
  },
  {
   "cell_type": "code",
   "execution_count": 92,
   "metadata": {
    "collapsed": true
   },
   "outputs": [],
   "source": [
    "ROC = roc_auc_score(y_test, xgbc.predict(X_test))"
   ]
  },
  {
   "cell_type": "code",
   "execution_count": 93,
   "metadata": {},
   "outputs": [
    {
     "data": {
      "image/png": "[encoded data removed]",
      "text/plain": [
       "<matplotlib.figure.Figure at 0x1187e4978>"
      ]
     },
     "metadata": {},
     "output_type": "display_data"
    },
    {
     "name": "stdout",
     "output_type": "stream",
     "text": [
      "TPR 0.911\n",
      "TNR 0.868\n"
     ]
    }
   ],
   "source": [
    "C = confusion_matrix(y_test,xgbc.predict(X_test))\n",
    "show_confusion_matrix(C, ['Class 0', 'Class 1'])\n",
    "tpr = C[1,1]/(C[1,0]+C[1,1])\n",
    "tnr = C[0,0]/(C[0,1]+C[0,0])\n",
    "print(\"TPR {:.3f}\".format(tpr))\n",
    "print(\"TNR {:.3f}\".format(tnr))\n",
    "testing_Accuracy_score = ((C[0,0]+C[1,1])/(C[0,0]+C[0,1]+C[1,0]+C[1,1]))\n",
    "testing_Senstivity =  C[1,1]/(C[1,0]+C[1,1])\n",
    "testing_Specifity = C[0,0]/(C[0,1]+C[0,0])\n",
    "final_dict.append({'Model':'UnderSler_XGB','Train_A_S':training_Accuracy_score\n",
    "    ,'Train_TPR':training_Senstivity,\n",
    "    'Train_TNR':training_Specifity,\n",
    "    'Test_A_S':testing_Accuracy_score,\n",
    "    'Test_TPR':testing_Senstivity,\n",
    "    'Test_TNR':testing_Specifity,\n",
    "    'ROC':ROC})"
   ]
  },
  {
   "cell_type": "code",
   "execution_count": null,
   "metadata": {
    "collapsed": true
   },
   "outputs": [],
   "source": []
  },
  {
   "cell_type": "code",
   "execution_count": null,
   "metadata": {
    "collapsed": true
   },
   "outputs": [],
   "source": []
  },
  {
   "cell_type": "code",
   "execution_count": null,
   "metadata": {
    "collapsed": true
   },
   "outputs": [],
   "source": []
  },
  {
   "cell_type": "code",
   "execution_count": null,
   "metadata": {
    "collapsed": true
   },
   "outputs": [],
   "source": []
  },
  {
   "cell_type": "code",
   "execution_count": 94,
   "metadata": {
    "collapsed": true
   },
   "outputs": [],
   "source": [
    "results = pd.DataFrame(final_dict)"
   ]
  },
  {
   "cell_type": "code",
   "execution_count": 95,
   "metadata": {},
   "outputs": [
    {
     "data": {
      "text/html": [
       "<div>\n",
       "<style>\n",
       "    .dataframe thead tr:only-child th {\n",
       "        text-align: right;\n",
       "    }\n",
       "\n",
       "    .dataframe thead th {\n",
       "        text-align: left;\n",
       "    }\n",
       "\n",
       "    .dataframe tbody tr th {\n",
       "        vertical-align: top;\n",
       "    }\n",
       "</style>\n",
       "<table border=\"1\" class=\"dataframe\">\n",
       "  <thead>\n",
       "    <tr style=\"text-align: right;\">\n",
       "      <th></th>\n",
       "      <th>Model</th>\n",
       "      <th>ROC</th>\n",
       "      <th>Test_A_S</th>\n",
       "      <th>Test_TNR</th>\n",
       "      <th>Test_TPR</th>\n",
       "      <th>Train_A_S</th>\n",
       "      <th>Train_TNR</th>\n",
       "      <th>Train_TPR</th>\n",
       "    </tr>\n",
       "  </thead>\n",
       "  <tbody>\n",
       "    <tr>\n",
       "      <th>0</th>\n",
       "      <td>LR</td>\n",
       "      <td>0.682994</td>\n",
       "      <td>0.908797</td>\n",
       "      <td>0.974464</td>\n",
       "      <td>0.391523</td>\n",
       "      <td>0.909611</td>\n",
       "      <td>0.975062</td>\n",
       "      <td>0.394089</td>\n",
       "    </tr>\n",
       "    <tr>\n",
       "      <th>1</th>\n",
       "      <td>RFC</td>\n",
       "      <td>0.677036</td>\n",
       "      <td>0.908068</td>\n",
       "      <td>0.977138</td>\n",
       "      <td>0.376934</td>\n",
       "      <td>1.000000</td>\n",
       "      <td>1.000000</td>\n",
       "      <td>1.000000</td>\n",
       "    </tr>\n",
       "    <tr>\n",
       "      <th>2</th>\n",
       "      <td>ADABoost</td>\n",
       "      <td>0.660882</td>\n",
       "      <td>0.901675</td>\n",
       "      <td>0.973663</td>\n",
       "      <td>0.348101</td>\n",
       "      <td>0.906594</td>\n",
       "      <td>0.974544</td>\n",
       "      <td>0.365755</td>\n",
       "    </tr>\n",
       "    <tr>\n",
       "      <th>3</th>\n",
       "      <td>GBT</td>\n",
       "      <td>0.739179</td>\n",
       "      <td>0.915190</td>\n",
       "      <td>0.967810</td>\n",
       "      <td>0.510549</td>\n",
       "      <td>0.928272</td>\n",
       "      <td>0.972631</td>\n",
       "      <td>0.575202</td>\n",
       "    </tr>\n",
       "    <tr>\n",
       "      <th>4</th>\n",
       "      <td>SMOTE_LR</td>\n",
       "      <td>0.873243</td>\n",
       "      <td>0.873227</td>\n",
       "      <td>0.856401</td>\n",
       "      <td>0.890086</td>\n",
       "      <td>0.875388</td>\n",
       "      <td>0.858562</td>\n",
       "      <td>0.892201</td>\n",
       "    </tr>\n",
       "    <tr>\n",
       "      <th>5</th>\n",
       "      <td>UnderSler_GBT</td>\n",
       "      <td>0.891915</td>\n",
       "      <td>0.891523</td>\n",
       "      <td>0.863218</td>\n",
       "      <td>0.920612</td>\n",
       "      <td>0.914717</td>\n",
       "      <td>0.877671</td>\n",
       "      <td>0.951331</td>\n",
       "    </tr>\n",
       "    <tr>\n",
       "      <th>6</th>\n",
       "      <td>UnderSler_LR</td>\n",
       "      <td>0.861679</td>\n",
       "      <td>0.861710</td>\n",
       "      <td>0.863926</td>\n",
       "      <td>0.859432</td>\n",
       "      <td>0.873307</td>\n",
       "      <td>0.859709</td>\n",
       "      <td>0.886746</td>\n",
       "    </tr>\n",
       "    <tr>\n",
       "      <th>7</th>\n",
       "      <td>XGBoost</td>\n",
       "      <td>0.757588</td>\n",
       "      <td>0.918184</td>\n",
       "      <td>0.964888</td>\n",
       "      <td>0.550287</td>\n",
       "      <td>0.962367</td>\n",
       "      <td>0.987883</td>\n",
       "      <td>0.761392</td>\n",
       "    </tr>\n",
       "    <tr>\n",
       "      <th>8</th>\n",
       "      <td>SMOTE_XGB</td>\n",
       "      <td>0.953253</td>\n",
       "      <td>0.953258</td>\n",
       "      <td>0.958815</td>\n",
       "      <td>0.947690</td>\n",
       "      <td>0.977876</td>\n",
       "      <td>0.986509</td>\n",
       "      <td>0.969251</td>\n",
       "    </tr>\n",
       "    <tr>\n",
       "      <th>9</th>\n",
       "      <td>UnderSler_XGB</td>\n",
       "      <td>0.889661</td>\n",
       "      <td>0.889368</td>\n",
       "      <td>0.868179</td>\n",
       "      <td>0.911143</td>\n",
       "      <td>0.973060</td>\n",
       "      <td>0.959120</td>\n",
       "      <td>0.986838</td>\n",
       "    </tr>\n",
       "  </tbody>\n",
       "</table>\n",
       "</div>"
      ],
      "text/plain": [
       "           Model       ROC  Test_A_S  Test_TNR  Test_TPR  Train_A_S  \\\n",
       "0             LR  0.682994  0.908797  0.974464  0.391523   0.909611   \n",
       "1            RFC  0.677036  0.908068  0.977138  0.376934   1.000000   \n",
       "2       ADABoost  0.660882  0.901675  0.973663  0.348101   0.906594   \n",
       "3            GBT  0.739179  0.915190  0.967810  0.510549   0.928272   \n",
       "4       SMOTE_LR  0.873243  0.873227  0.856401  0.890086   0.875388   \n",
       "5  UnderSler_GBT  0.891915  0.891523  0.863218  0.920612   0.914717   \n",
       "6   UnderSler_LR  0.861679  0.861710  0.863926  0.859432   0.873307   \n",
       "7        XGBoost  0.757588  0.918184  0.964888  0.550287   0.962367   \n",
       "8      SMOTE_XGB  0.953253  0.953258  0.958815  0.947690   0.977876   \n",
       "9  UnderSler_XGB  0.889661  0.889368  0.868179  0.911143   0.973060   \n",
       "\n",
       "   Train_TNR  Train_TPR  \n",
       "0   0.975062   0.394089  \n",
       "1   1.000000   1.000000  \n",
       "2   0.974544   0.365755  \n",
       "3   0.972631   0.575202  \n",
       "4   0.858562   0.892201  \n",
       "5   0.877671   0.951331  \n",
       "6   0.859709   0.886746  \n",
       "7   0.987883   0.761392  \n",
       "8   0.986509   0.969251  \n",
       "9   0.959120   0.986838  "
      ]
     },
     "execution_count": 95,
     "metadata": {},
     "output_type": "execute_result"
    }
   ],
   "source": [
    "results"
   ]
  },
  {
   "cell_type": "code",
   "execution_count": 96,
   "metadata": {
    "collapsed": true
   },
   "outputs": [],
   "source": [
    "algo_withOutresampling = results.loc[[0, 1, 2, 3, 7]]"
   ]
  },
  {
   "cell_type": "code",
   "execution_count": 97,
   "metadata": {},
   "outputs": [
    {
     "data": {
      "text/html": [
       "<div>\n",
       "<style>\n",
       "    .dataframe thead tr:only-child th {\n",
       "        text-align: right;\n",
       "    }\n",
       "\n",
       "    .dataframe thead th {\n",
       "        text-align: left;\n",
       "    }\n",
       "\n",
       "    .dataframe tbody tr th {\n",
       "        vertical-align: top;\n",
       "    }\n",
       "</style>\n",
       "<table border=\"1\" class=\"dataframe\">\n",
       "  <thead>\n",
       "    <tr style=\"text-align: right;\">\n",
       "      <th></th>\n",
       "      <th>Model</th>\n",
       "      <th>ROC</th>\n",
       "      <th>Test_A_S</th>\n",
       "      <th>Test_TNR</th>\n",
       "      <th>Test_TPR</th>\n",
       "      <th>Train_A_S</th>\n",
       "      <th>Train_TNR</th>\n",
       "      <th>Train_TPR</th>\n",
       "    </tr>\n",
       "  </thead>\n",
       "  <tbody>\n",
       "    <tr>\n",
       "      <th>0</th>\n",
       "      <td>LR</td>\n",
       "      <td>0.682994</td>\n",
       "      <td>0.908797</td>\n",
       "      <td>0.974464</td>\n",
       "      <td>0.391523</td>\n",
       "      <td>0.909611</td>\n",
       "      <td>0.975062</td>\n",
       "      <td>0.394089</td>\n",
       "    </tr>\n",
       "    <tr>\n",
       "      <th>1</th>\n",
       "      <td>RFC</td>\n",
       "      <td>0.677036</td>\n",
       "      <td>0.908068</td>\n",
       "      <td>0.977138</td>\n",
       "      <td>0.376934</td>\n",
       "      <td>1.000000</td>\n",
       "      <td>1.000000</td>\n",
       "      <td>1.000000</td>\n",
       "    </tr>\n",
       "    <tr>\n",
       "      <th>2</th>\n",
       "      <td>ADABoost</td>\n",
       "      <td>0.660882</td>\n",
       "      <td>0.901675</td>\n",
       "      <td>0.973663</td>\n",
       "      <td>0.348101</td>\n",
       "      <td>0.906594</td>\n",
       "      <td>0.974544</td>\n",
       "      <td>0.365755</td>\n",
       "    </tr>\n",
       "    <tr>\n",
       "      <th>3</th>\n",
       "      <td>GBT</td>\n",
       "      <td>0.739179</td>\n",
       "      <td>0.915190</td>\n",
       "      <td>0.967810</td>\n",
       "      <td>0.510549</td>\n",
       "      <td>0.928272</td>\n",
       "      <td>0.972631</td>\n",
       "      <td>0.575202</td>\n",
       "    </tr>\n",
       "    <tr>\n",
       "      <th>7</th>\n",
       "      <td>XGBoost</td>\n",
       "      <td>0.757588</td>\n",
       "      <td>0.918184</td>\n",
       "      <td>0.964888</td>\n",
       "      <td>0.550287</td>\n",
       "      <td>0.962367</td>\n",
       "      <td>0.987883</td>\n",
       "      <td>0.761392</td>\n",
       "    </tr>\n",
       "  </tbody>\n",
       "</table>\n",
       "</div>"
      ],
      "text/plain": [
       "      Model       ROC  Test_A_S  Test_TNR  Test_TPR  Train_A_S  Train_TNR  \\\n",
       "0        LR  0.682994  0.908797  0.974464  0.391523   0.909611   0.975062   \n",
       "1       RFC  0.677036  0.908068  0.977138  0.376934   1.000000   1.000000   \n",
       "2  ADABoost  0.660882  0.901675  0.973663  0.348101   0.906594   0.974544   \n",
       "3       GBT  0.739179  0.915190  0.967810  0.510549   0.928272   0.972631   \n",
       "7   XGBoost  0.757588  0.918184  0.964888  0.550287   0.962367   0.987883   \n",
       "\n",
       "   Train_TPR  \n",
       "0   0.394089  \n",
       "1   1.000000  \n",
       "2   0.365755  \n",
       "3   0.575202  \n",
       "7   0.761392  "
      ]
     },
     "execution_count": 97,
     "metadata": {},
     "output_type": "execute_result"
    }
   ],
   "source": [
    "algo_withOutresampling"
   ]
  },
  {
   "cell_type": "code",
   "execution_count": 98,
   "metadata": {
    "collapsed": true
   },
   "outputs": [],
   "source": [
    "algo_withOutresampling = algo_withOutresampling.set_index('Model')"
   ]
  },
  {
   "cell_type": "code",
   "execution_count": 99,
   "metadata": {},
   "outputs": [
    {
     "data": {
      "image/png": "[encoded data removed]",
      "text/plain": [
       "<matplotlib.figure.Figure at 0x1167e0b38>"
      ]
     },
     "metadata": {},
     "output_type": "display_data"
    }
   ],
   "source": [
    "algo_withOutresampling.plot(kind='bar')\n",
    "plt.legend(loc='center left', bbox_to_anchor=(1.0, 0.5))\n",
    "plt.show()"
   ]
  },
  {
   "cell_type": "code",
   "execution_count": 100,
   "metadata": {
    "collapsed": true
   },
   "outputs": [],
   "source": [
    "algo_resampling = results.loc[[4, 5, 6, 8, 9]]"
   ]
  },
  {
   "cell_type": "code",
   "execution_count": 101,
   "metadata": {
    "collapsed": true
   },
   "outputs": [],
   "source": [
    "algo_resampling = algo_resampling.set_index('Model')"
   ]
  },
  {
   "cell_type": "code",
   "execution_count": 102,
   "metadata": {},
   "outputs": [
    {
     "data": {
      "text/html": [
       "<div>\n",
       "<style>\n",
       "    .dataframe thead tr:only-child th {\n",
       "        text-align: right;\n",
       "    }\n",
       "\n",
       "    .dataframe thead th {\n",
       "        text-align: left;\n",
       "    }\n",
       "\n",
       "    .dataframe tbody tr th {\n",
       "        vertical-align: top;\n",
       "    }\n",
       "</style>\n",
       "<table border=\"1\" class=\"dataframe\">\n",
       "  <thead>\n",
       "    <tr style=\"text-align: right;\">\n",
       "      <th></th>\n",
       "      <th>ROC</th>\n",
       "      <th>Test_A_S</th>\n",
       "      <th>Test_TNR</th>\n",
       "      <th>Test_TPR</th>\n",
       "      <th>Train_A_S</th>\n",
       "      <th>Train_TNR</th>\n",
       "      <th>Train_TPR</th>\n",
       "    </tr>\n",
       "    <tr>\n",
       "      <th>Model</th>\n",
       "      <th></th>\n",
       "      <th></th>\n",
       "      <th></th>\n",
       "      <th></th>\n",
       "      <th></th>\n",
       "      <th></th>\n",
       "      <th></th>\n",
       "    </tr>\n",
       "  </thead>\n",
       "  <tbody>\n",
       "    <tr>\n",
       "      <th>SMOTE_LR</th>\n",
       "      <td>0.873243</td>\n",
       "      <td>0.873227</td>\n",
       "      <td>0.856401</td>\n",
       "      <td>0.890086</td>\n",
       "      <td>0.875388</td>\n",
       "      <td>0.858562</td>\n",
       "      <td>0.892201</td>\n",
       "    </tr>\n",
       "    <tr>\n",
       "      <th>UnderSler_GBT</th>\n",
       "      <td>0.891915</td>\n",
       "      <td>0.891523</td>\n",
       "      <td>0.863218</td>\n",
       "      <td>0.920612</td>\n",
       "      <td>0.914717</td>\n",
       "      <td>0.877671</td>\n",
       "      <td>0.951331</td>\n",
       "    </tr>\n",
       "    <tr>\n",
       "      <th>UnderSler_LR</th>\n",
       "      <td>0.861679</td>\n",
       "      <td>0.861710</td>\n",
       "      <td>0.863926</td>\n",
       "      <td>0.859432</td>\n",
       "      <td>0.873307</td>\n",
       "      <td>0.859709</td>\n",
       "      <td>0.886746</td>\n",
       "    </tr>\n",
       "    <tr>\n",
       "      <th>SMOTE_XGB</th>\n",
       "      <td>0.953253</td>\n",
       "      <td>0.953258</td>\n",
       "      <td>0.958815</td>\n",
       "      <td>0.947690</td>\n",
       "      <td>0.977876</td>\n",
       "      <td>0.986509</td>\n",
       "      <td>0.969251</td>\n",
       "    </tr>\n",
       "    <tr>\n",
       "      <th>UnderSler_XGB</th>\n",
       "      <td>0.889661</td>\n",
       "      <td>0.889368</td>\n",
       "      <td>0.868179</td>\n",
       "      <td>0.911143</td>\n",
       "      <td>0.973060</td>\n",
       "      <td>0.959120</td>\n",
       "      <td>0.986838</td>\n",
       "    </tr>\n",
       "  </tbody>\n",
       "</table>\n",
       "</div>"
      ],
      "text/plain": [
       "                    ROC  Test_A_S  Test_TNR  Test_TPR  Train_A_S  Train_TNR  \\\n",
       "Model                                                                         \n",
       "SMOTE_LR       0.873243  0.873227  0.856401  0.890086   0.875388   0.858562   \n",
       "UnderSler_GBT  0.891915  0.891523  0.863218  0.920612   0.914717   0.877671   \n",
       "UnderSler_LR   0.861679  0.861710  0.863926  0.859432   0.873307   0.859709   \n",
       "SMOTE_XGB      0.953253  0.953258  0.958815  0.947690   0.977876   0.986509   \n",
       "UnderSler_XGB  0.889661  0.889368  0.868179  0.911143   0.973060   0.959120   \n",
       "\n",
       "               Train_TPR  \n",
       "Model                     \n",
       "SMOTE_LR        0.892201  \n",
       "UnderSler_GBT   0.951331  \n",
       "UnderSler_LR    0.886746  \n",
       "SMOTE_XGB       0.969251  \n",
       "UnderSler_XGB   0.986838  "
      ]
     },
     "execution_count": 102,
     "metadata": {},
     "output_type": "execute_result"
    }
   ],
   "source": [
    "algo_resampling"
   ]
  },
  {
   "cell_type": "code",
   "execution_count": 103,
   "metadata": {},
   "outputs": [
    {
     "data": {
      "image/png": "[encoded data removed]",
      "text/plain": [
       "<matplotlib.figure.Figure at 0x1167fc9b0>"
      ]
     },
     "metadata": {},
     "output_type": "display_data"
    }
   ],
   "source": [
    "algo_resampling.plot(kind='bar')\n",
    "plt.legend(loc='center left', bbox_to_anchor=(1.0, 0.5))\n",
    "plt.show()"
   ]
  },
  {
   "cell_type": "code",
   "execution_count": null,
   "metadata": {
    "collapsed": true
   },
   "outputs": [],
   "source": []
  },
  {
   "cell_type": "code",
   "execution_count": 104,
   "metadata": {},
   "outputs": [
    {
     "data": {
      "text/html": [
       "<div>\n",
       "<style>\n",
       "    .dataframe thead tr:only-child th {\n",
       "        text-align: right;\n",
       "    }\n",
       "\n",
       "    .dataframe thead th {\n",
       "        text-align: left;\n",
       "    }\n",
       "\n",
       "    .dataframe tbody tr th {\n",
       "        vertical-align: top;\n",
       "    }\n",
       "</style>\n",
       "<table border=\"1\" class=\"dataframe\">\n",
       "  <thead>\n",
       "    <tr style=\"text-align: right;\">\n",
       "      <th></th>\n",
       "      <th>Model</th>\n",
       "      <th>ROC</th>\n",
       "      <th>Test_A_S</th>\n",
       "      <th>Test_TNR</th>\n",
       "      <th>Test_TPR</th>\n",
       "      <th>Train_A_S</th>\n",
       "      <th>Train_TNR</th>\n",
       "      <th>Train_TPR</th>\n",
       "    </tr>\n",
       "  </thead>\n",
       "  <tbody>\n",
       "    <tr>\n",
       "      <th>0</th>\n",
       "      <td>LR</td>\n",
       "      <td>0.682994</td>\n",
       "      <td>0.908797</td>\n",
       "      <td>0.974464</td>\n",
       "      <td>0.391523</td>\n",
       "      <td>0.909611</td>\n",
       "      <td>0.975062</td>\n",
       "      <td>0.394089</td>\n",
       "    </tr>\n",
       "    <tr>\n",
       "      <th>1</th>\n",
       "      <td>RFC</td>\n",
       "      <td>0.677036</td>\n",
       "      <td>0.908068</td>\n",
       "      <td>0.977138</td>\n",
       "      <td>0.376934</td>\n",
       "      <td>1.000000</td>\n",
       "      <td>1.000000</td>\n",
       "      <td>1.000000</td>\n",
       "    </tr>\n",
       "    <tr>\n",
       "      <th>2</th>\n",
       "      <td>ADABoost</td>\n",
       "      <td>0.660882</td>\n",
       "      <td>0.901675</td>\n",
       "      <td>0.973663</td>\n",
       "      <td>0.348101</td>\n",
       "      <td>0.906594</td>\n",
       "      <td>0.974544</td>\n",
       "      <td>0.365755</td>\n",
       "    </tr>\n",
       "    <tr>\n",
       "      <th>3</th>\n",
       "      <td>GBT</td>\n",
       "      <td>0.739179</td>\n",
       "      <td>0.915190</td>\n",
       "      <td>0.967810</td>\n",
       "      <td>0.510549</td>\n",
       "      <td>0.928272</td>\n",
       "      <td>0.972631</td>\n",
       "      <td>0.575202</td>\n",
       "    </tr>\n",
       "    <tr>\n",
       "      <th>4</th>\n",
       "      <td>SMOTE_LR</td>\n",
       "      <td>0.873243</td>\n",
       "      <td>0.873227</td>\n",
       "      <td>0.856401</td>\n",
       "      <td>0.890086</td>\n",
       "      <td>0.875388</td>\n",
       "      <td>0.858562</td>\n",
       "      <td>0.892201</td>\n",
       "    </tr>\n",
       "    <tr>\n",
       "      <th>5</th>\n",
       "      <td>UnderSler_GBT</td>\n",
       "      <td>0.891915</td>\n",
       "      <td>0.891523</td>\n",
       "      <td>0.863218</td>\n",
       "      <td>0.920612</td>\n",
       "      <td>0.914717</td>\n",
       "      <td>0.877671</td>\n",
       "      <td>0.951331</td>\n",
       "    </tr>\n",
       "    <tr>\n",
       "      <th>6</th>\n",
       "      <td>UnderSler_LR</td>\n",
       "      <td>0.861679</td>\n",
       "      <td>0.861710</td>\n",
       "      <td>0.863926</td>\n",
       "      <td>0.859432</td>\n",
       "      <td>0.873307</td>\n",
       "      <td>0.859709</td>\n",
       "      <td>0.886746</td>\n",
       "    </tr>\n",
       "    <tr>\n",
       "      <th>7</th>\n",
       "      <td>XGBoost</td>\n",
       "      <td>0.757588</td>\n",
       "      <td>0.918184</td>\n",
       "      <td>0.964888</td>\n",
       "      <td>0.550287</td>\n",
       "      <td>0.962367</td>\n",
       "      <td>0.987883</td>\n",
       "      <td>0.761392</td>\n",
       "    </tr>\n",
       "    <tr>\n",
       "      <th>8</th>\n",
       "      <td>SMOTE_XGB</td>\n",
       "      <td>0.953253</td>\n",
       "      <td>0.953258</td>\n",
       "      <td>0.958815</td>\n",
       "      <td>0.947690</td>\n",
       "      <td>0.977876</td>\n",
       "      <td>0.986509</td>\n",
       "      <td>0.969251</td>\n",
       "    </tr>\n",
       "    <tr>\n",
       "      <th>9</th>\n",
       "      <td>UnderSler_XGB</td>\n",
       "      <td>0.889661</td>\n",
       "      <td>0.889368</td>\n",
       "      <td>0.868179</td>\n",
       "      <td>0.911143</td>\n",
       "      <td>0.973060</td>\n",
       "      <td>0.959120</td>\n",
       "      <td>0.986838</td>\n",
       "    </tr>\n",
       "  </tbody>\n",
       "</table>\n",
       "</div>"
      ],
      "text/plain": [
       "           Model       ROC  Test_A_S  Test_TNR  Test_TPR  Train_A_S  \\\n",
       "0             LR  0.682994  0.908797  0.974464  0.391523   0.909611   \n",
       "1            RFC  0.677036  0.908068  0.977138  0.376934   1.000000   \n",
       "2       ADABoost  0.660882  0.901675  0.973663  0.348101   0.906594   \n",
       "3            GBT  0.739179  0.915190  0.967810  0.510549   0.928272   \n",
       "4       SMOTE_LR  0.873243  0.873227  0.856401  0.890086   0.875388   \n",
       "5  UnderSler_GBT  0.891915  0.891523  0.863218  0.920612   0.914717   \n",
       "6   UnderSler_LR  0.861679  0.861710  0.863926  0.859432   0.873307   \n",
       "7        XGBoost  0.757588  0.918184  0.964888  0.550287   0.962367   \n",
       "8      SMOTE_XGB  0.953253  0.953258  0.958815  0.947690   0.977876   \n",
       "9  UnderSler_XGB  0.889661  0.889368  0.868179  0.911143   0.973060   \n",
       "\n",
       "   Train_TNR  Train_TPR  \n",
       "0   0.975062   0.394089  \n",
       "1   1.000000   1.000000  \n",
       "2   0.974544   0.365755  \n",
       "3   0.972631   0.575202  \n",
       "4   0.858562   0.892201  \n",
       "5   0.877671   0.951331  \n",
       "6   0.859709   0.886746  \n",
       "7   0.987883   0.761392  \n",
       "8   0.986509   0.969251  \n",
       "9   0.959120   0.986838  "
      ]
     },
     "execution_count": 104,
     "metadata": {},
     "output_type": "execute_result"
    }
   ],
   "source": [
    "results"
   ]
  },
  {
   "cell_type": "code",
   "execution_count": null,
   "metadata": {
    "collapsed": true
   },
   "outputs": [],
   "source": []
  },
  {
   "cell_type": "markdown",
   "metadata": {},
   "source": [
    "###### Conclusion-XGBoost with smote is the best model to predict the response variable y. It gives the highest TPR out of all models without using any resampling techniques."
   ]
  },
  {
   "cell_type": "code",
   "execution_count": 105,
   "metadata": {
    "collapsed": true
   },
   "outputs": [],
   "source": [
    "results = results.set_index('Model')"
   ]
  },
  {
   "cell_type": "code",
   "execution_count": 106,
   "metadata": {},
   "outputs": [
    {
     "data": {
      "text/plain": [
       "<matplotlib.axes._subplots.AxesSubplot at 0x1168c5f60>"
      ]
     },
     "execution_count": 106,
     "metadata": {},
     "output_type": "execute_result"
    },
    {
     "data": {
      "image/png": "[encoded data removed]",
      "text/plain": [
       "<matplotlib.figure.Figure at 0x1168c5278>"
      ]
     },
     "metadata": {},
     "output_type": "display_data"
    }
   ],
   "source": [
    "results.loc['XGBoost'].plot(kind = 'bar')\n",
    "#results.loc['SMOTE_XGB'].plot(kind = 'bar')"
   ]
  },
  {
   "cell_type": "code",
   "execution_count": 107,
   "metadata": {},
   "outputs": [
    {
     "data": {
      "image/png": "[encoded data removed]",
      "text/plain": [
       "<matplotlib.figure.Figure at 0x11913ef98>"
      ]
     },
     "metadata": {},
     "output_type": "display_data"
    }
   ],
   "source": [
    "results.plot(kind='bar')\n",
    "plt.legend(loc='center left', bbox_to_anchor=(1.0, 0.5))\n",
    "plt.show()"
   ]
  },
  {
   "cell_type": "code",
   "execution_count": 108,
   "metadata": {
    "collapsed": true
   },
   "outputs": [],
   "source": [
    "x = results.loc['SMOTE_XGB'].to_dict()\n",
    "smote = pd.DataFrame([x])\n",
    "smote.rename(index={0:'Smote_XGB'},inplace=True)"
   ]
  },
  {
   "cell_type": "code",
   "execution_count": 109,
   "metadata": {},
   "outputs": [
    {
     "data": {
      "text/plain": [
       "<matplotlib.legend.Legend at 0x115f6c6d8>"
      ]
     },
     "execution_count": 109,
     "metadata": {},
     "output_type": "execute_result"
    },
    {
     "data": {
      "image/png": "[encoded data removed]",
      "text/plain": [
       "<matplotlib.figure.Figure at 0x118468860>"
      ]
     },
     "metadata": {},
     "output_type": "display_data"
    }
   ],
   "source": [
    "\n",
    "smote.plot(kind='bar',width=0.3)\n",
    "plt.legend(loc='center left', bbox_to_anchor=(1.0, 0.5))\n"
   ]
  },
  {
   "cell_type": "code",
   "execution_count": 110,
   "metadata": {},
   "outputs": [
    {
     "data": {
      "text/html": [
       "<div>\n",
       "<style>\n",
       "    .dataframe thead tr:only-child th {\n",
       "        text-align: right;\n",
       "    }\n",
       "\n",
       "    .dataframe thead th {\n",
       "        text-align: left;\n",
       "    }\n",
       "\n",
       "    .dataframe tbody tr th {\n",
       "        vertical-align: top;\n",
       "    }\n",
       "</style>\n",
       "<table border=\"1\" class=\"dataframe\">\n",
       "  <thead>\n",
       "    <tr style=\"text-align: right;\">\n",
       "      <th></th>\n",
       "      <th>SMOTE_XGB</th>\n",
       "    </tr>\n",
       "  </thead>\n",
       "  <tbody>\n",
       "    <tr>\n",
       "      <th>ROC</th>\n",
       "      <td>0.953253</td>\n",
       "    </tr>\n",
       "    <tr>\n",
       "      <th>Test_A_S</th>\n",
       "      <td>0.953258</td>\n",
       "    </tr>\n",
       "    <tr>\n",
       "      <th>Test_TNR</th>\n",
       "      <td>0.958815</td>\n",
       "    </tr>\n",
       "    <tr>\n",
       "      <th>Test_TPR</th>\n",
       "      <td>0.947690</td>\n",
       "    </tr>\n",
       "    <tr>\n",
       "      <th>Train_A_S</th>\n",
       "      <td>0.977876</td>\n",
       "    </tr>\n",
       "    <tr>\n",
       "      <th>Train_TNR</th>\n",
       "      <td>0.986509</td>\n",
       "    </tr>\n",
       "    <tr>\n",
       "      <th>Train_TPR</th>\n",
       "      <td>0.969251</td>\n",
       "    </tr>\n",
       "  </tbody>\n",
       "</table>\n",
       "</div>"
      ],
      "text/plain": [
       "           SMOTE_XGB\n",
       "ROC         0.953253\n",
       "Test_A_S    0.953258\n",
       "Test_TNR    0.958815\n",
       "Test_TPR    0.947690\n",
       "Train_A_S   0.977876\n",
       "Train_TNR   0.986509\n",
       "Train_TPR   0.969251"
      ]
     },
     "execution_count": 110,
     "metadata": {},
     "output_type": "execute_result"
    }
   ],
   "source": [
    "smote_xgb=pd.DataFrame(results.loc['SMOTE_XGB'])\n",
    "smote_xgb"
   ]
  },
  {
   "cell_type": "markdown",
   "metadata": {},
   "source": [
    "###### Conclusion-XGBoost using SMOTE gives us best TPR and TNR"
   ]
  },
  {
   "cell_type": "code",
   "execution_count": null,
   "metadata": {
    "collapsed": true
   },
   "outputs": [],
   "source": []
  },
  {
   "cell_type": "code",
   "execution_count": 111,
   "metadata": {
    "collapsed": true
   },
   "outputs": [],
   "source": [
    "#result Comparison with Hany A. Elsalamony"
   ]
  },
  {
   "cell_type": "markdown",
   "metadata": {},
   "source": [
    "![title](Img.jpg)"
   ]
  },
  {
   "cell_type": "code",
   "execution_count": 112,
   "metadata": {
    "collapsed": true
   },
   "outputs": [],
   "source": [
    "#Result Comparison with Prusty Sagariska"
   ]
  },
  {
   "cell_type": "markdown",
   "metadata": {},
   "source": [
    "![title](Img1.png)"
   ]
  },
  {
   "cell_type": "code",
   "execution_count": null,
   "metadata": {
    "collapsed": true
   },
   "outputs": [],
   "source": []
  }
 ],
 "metadata": {
  "kernelspec": {
   "display_name": "Python 3",
   "language": "python",
   "name": "python3"
  },
  "language_info": {
   "codemirror_mode": {
    "name": "ipython",
    "version": 3
   },
   "file_extension": ".py",
   "mimetype": "text/x-python",
   "name": "python",
   "nbconvert_exporter": "python",
   "pygments_lexer": "ipython3",
   "version": "3.6.2"
  }
 },
 "nbformat": 4,
 "nbformat_minor": 2
}
