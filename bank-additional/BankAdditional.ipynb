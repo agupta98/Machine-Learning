{
 "cells": [
  {
   "cell_type": "code",
   "execution_count": 56,
   "metadata": {
    "collapsed": true
   },
   "outputs": [],
   "source": [
    "import pandas as pd\n",
    "import matplotlib.pyplot as plt\n",
    "%matplotlib inline\n",
    "import seaborn as sns\n",
    "import numpy as np\n",
    "from sklearn.decomposition import PCA\n",
    "from sklearn.model_selection import train_test_split\n",
    "from sklearn.linear_model import LogisticRegression\n",
    "from sklearn.model_selection import cross_val_score\n",
    "from sklearn.model_selection import KFold\n",
    "from sklearn.metrics import accuracy_score\n",
    "from sklearn.metrics import confusion_matrix\n",
    "from sklearn.model_selection import GridSearchCV\n",
    "from sklearn.model_selection import StratifiedKFold\n",
    "from sklearn.metrics import classification_report\n",
    "from sklearn.ensemble import RandomForestClassifier\n",
    "from sklearn.metrics import roc_auc_score"
   ]
  },
  {
   "cell_type": "code",
   "execution_count": 27,
   "metadata": {
    "collapsed": true
   },
   "outputs": [],
   "source": [
    "data =pd.read_csv('bank-additional-full.csv',sep=';')"
   ]
  },
  {
   "cell_type": "code",
   "execution_count": 28,
   "metadata": {
    "collapsed": false
   },
   "outputs": [
    {
     "name": "stdout",
     "output_type": "stream",
     "text": [
      "<class 'pandas.core.frame.DataFrame'>\n",
      "RangeIndex: 41188 entries, 0 to 41187\n",
      "Data columns (total 21 columns):\n",
      "age               41188 non-null int64\n",
      "job               41188 non-null object\n",
      "marital           41188 non-null object\n",
      "education         41188 non-null object\n",
      "default           41188 non-null object\n",
      "housing           41188 non-null object\n",
      "loan              41188 non-null object\n",
      "contact           41188 non-null object\n",
      "month             41188 non-null object\n",
      "day_of_week       41188 non-null object\n",
      "duration          41188 non-null int64\n",
      "campaign          41188 non-null int64\n",
      "pdays             41188 non-null int64\n",
      "previous          41188 non-null int64\n",
      "poutcome          41188 non-null object\n",
      "emp.var.rate      41188 non-null float64\n",
      "cons.price.idx    41188 non-null float64\n",
      "cons.conf.idx     41188 non-null float64\n",
      "euribor3m         41188 non-null float64\n",
      "nr.employed       41188 non-null float64\n",
      "y                 41188 non-null object\n",
      "dtypes: float64(5), int64(5), object(11)\n",
      "memory usage: 6.6+ MB\n"
     ]
    },
    {
     "data": {
      "text/plain": [
       "<matplotlib.axes._subplots.AxesSubplot at 0x11603fe10>"
      ]
     },
     "execution_count": 28,
     "metadata": {},
     "output_type": "execute_result"
    },
    {
     "data": {
      "image/png": "[encoded data removed]",
      "text/plain": [
       "<matplotlib.figure.Figure at 0x115665e10>"
      ]
     },
     "metadata": {},
     "output_type": "display_data"
    }
   ],
   "source": [
    "# In[11]:\n",
    "\n",
    "data.columns\n",
    "\n",
    "\n",
    "# In[12]:\n",
    "\n",
    "data.info()\n",
    "\n",
    "\n",
    "# In[13]:\n",
    "\n",
    "data.shape\n",
    "\n",
    "\n",
    "# In[14]:\n",
    "\n",
    "data.shape\n",
    "\n",
    "\n",
    "# In[15]:\n",
    "\n",
    "#data['nr.employed'].unique()\n",
    "\n",
    "\n",
    "# In[16]:\n",
    "\n",
    "Null_values_data=data.isnull().sum()/len(data)*100\n",
    "\n",
    "\n",
    "# In[17]:\n",
    "\n",
    "dtype_attribute=data.columns.to_series().groupby(data.dtypes).groups\n",
    "#dtype_attribute\n",
    "\n",
    "\n",
    "# In[18]:\n",
    "\n",
    "x = data.columns.to_series().groupby(data.dtypes).groups\n",
    "x\n",
    "\n",
    "\n",
    "# In[19]:\n",
    "\n",
    "categorical_list =[x for x in data.columns if data[x].dtype==object]\n",
    "#categorical_list    \n",
    "\n",
    "\n",
    "# In[20]:\n",
    "\n",
    "unique_values_dict ={}\n",
    "for i in categorical_list:\n",
    "    li=[]\n",
    "    unique_values_dict[i]=data[i].unique()\n",
    "    \n",
    "\n",
    "\n",
    "# In[21]:\n",
    "\n",
    "unique_values_dict\n",
    "\n",
    "\n",
    "# In[22]:\n",
    "\n",
    "key_list = data['y'].value_counts().index.tolist()\n",
    "\n",
    "\n",
    "# In[23]:\n",
    "\n",
    "value_list=data['y'].value_counts().tolist()\n",
    "\n",
    "\n",
    "# In[24]:\n",
    "\n",
    "dict_response = dict(zip(key_list,value_list))\n",
    "\n",
    "\n",
    "# In[25]:\n",
    "\n",
    "dict_response_percentage={}\n",
    "dict_response_percentage['no'] = dict_response['no']/(dict_response['no']+dict_response['yes'])\n",
    "dict_response_percentage['yes'] = dict_response['yes']/(dict_response['no']+dict_response['yes'])\n",
    "\n",
    "\n",
    "# In[26]:\n",
    "\n",
    "dict_response_percentage\n",
    "\n",
    "\n",
    "# In[27]:\n",
    "\n",
    "sns.set_style('whitegrid')\n",
    "\n",
    "\n",
    "# In[28]:\n",
    "\n",
    "sns.countplot(data=data,x='y')\n",
    "#Shows Class imbalance problem"
   ]
  },
  {
   "cell_type": "code",
   "execution_count": 29,
   "metadata": {
    "collapsed": true
   },
   "outputs": [],
   "source": [
    "dict_y ={\"y\":{'yes':1,'no':0}}\n",
    "data.replace(dict_y,inplace = True)\n",
    "data=pd.get_dummies(data=data,columns=['job','education','default','housing','loan','contact',\n",
    "'month','day_of_week','poutcome','marital'])"
   ]
  },
  {
   "cell_type": "code",
   "execution_count": 30,
   "metadata": {
    "collapsed": false
   },
   "outputs": [
    {
     "data": {
      "text/plain": [
       "(41188, 64)"
      ]
     },
     "execution_count": 30,
     "metadata": {},
     "output_type": "execute_result"
    }
   ],
   "source": [
    "data.shape"
   ]
  },
  {
   "cell_type": "code",
   "execution_count": 31,
   "metadata": {
    "collapsed": true
   },
   "outputs": [],
   "source": [
    "X = data.drop('y', axis = 1)\n",
    "y = data['y']"
   ]
  },
  {
   "cell_type": "code",
   "execution_count": 48,
   "metadata": {
    "collapsed": false
   },
   "outputs": [
    {
     "data": {
      "text/plain": [
       "LogisticRegression(C=0.01, class_weight=None, dual=False, fit_intercept=True,\n",
       "          intercept_scaling=1, max_iter=1000, multi_class='ovr', n_jobs=1,\n",
       "          penalty='l2', random_state=None, solver='liblinear', tol=0.0001,\n",
       "          verbose=0, warm_start=False)"
      ]
     },
     "execution_count": 48,
     "metadata": {},
     "output_type": "execute_result"
    }
   ],
   "source": [
    "X_train, X_test, y_train, y_test = train_test_split(X, y,\n",
    "                        test_size=0.3,random_state=10,stratify = y)\n",
    "clf = LogisticRegression(C=.01,max_iter=1000)\n",
    "clf.fit(X_train, y_train)"
   ]
  },
  {
   "cell_type": "code",
   "execution_count": 49,
   "metadata": {
    "collapsed": true
   },
   "outputs": [],
   "source": [
    "C = confusion_matrix(y_test,clf.predict(X_test))"
   ]
  },
  {
   "cell_type": "code",
   "execution_count": 50,
   "metadata": {
    "collapsed": false
   },
   "outputs": [],
   "source": [
    "#data"
   ]
  },
  {
   "cell_type": "code",
   "execution_count": 51,
   "metadata": {
    "collapsed": false
   },
   "outputs": [
    {
     "name": "stdout",
     "output_type": "stream",
     "text": [
      "TNR 0.974\n",
      "TPR 0.392\n"
     ]
    }
   ],
   "source": [
    "tpr = C[1,1]/(C[1,0]+C[1,1])\n",
    "tnr = C[0,0]/(C[0,1]+C[0,0])\n",
    "print(\"TNR {:.3f}\".format(tnr))\n",
    "print(\"TPR {:.3f}\".format(tpr))"
   ]
  },
  {
   "cell_type": "code",
   "execution_count": 52,
   "metadata": {
    "collapsed": false
   },
   "outputs": [
    {
     "data": {
      "text/plain": [
       "(41188, 64)"
      ]
     },
     "execution_count": 52,
     "metadata": {},
     "output_type": "execute_result"
    }
   ],
   "source": [
    "data.shape"
   ]
  },
  {
   "cell_type": "code",
   "execution_count": 53,
   "metadata": {
    "collapsed": false
   },
   "outputs": [],
   "source": [
    "df_0=data[data['y']==0]\n",
    "df_1=data[data['y']==1]\n",
    "\n"
   ]
  },
  {
   "cell_type": "code",
   "execution_count": 54,
   "metadata": {
    "collapsed": false
   },
   "outputs": [
    {
     "name": "stdout",
     "output_type": "stream",
     "text": [
      "7\n"
     ]
    }
   ],
   "source": [
    "chunkSize = 4640\n",
    "numberChunks = len(df_0)//chunkSize\n",
    "print(numberChunks)"
   ]
  },
  {
   "cell_type": "code",
   "execution_count": 58,
   "metadata": {
    "collapsed": true
   },
   "outputs": [],
   "source": [
    "from sklearn.metrics import roc_auc_score"
   ]
  },
  {
   "cell_type": "code",
   "execution_count": 101,
   "metadata": {
    "collapsed": false
   },
   "outputs": [
    {
     "name": "stdout",
     "output_type": "stream",
     "text": [
      "TNR 0.992\n",
      "TPR 0.960\n",
      "ROC Score  0.975945507552\n",
      "*******************\n",
      "TNR 0.977\n",
      "TPR 0.954\n",
      "ROC Score  0.965042519412\n",
      "*******************\n",
      "TNR 0.974\n",
      "TPR 0.946\n",
      "ROC Score  0.960039840308\n",
      "*******************\n",
      "TNR 0.974\n",
      "TPR 0.941\n",
      "ROC Score  0.957626790624\n",
      "*******************\n",
      "TNR 0.988\n",
      "TPR 0.961\n",
      "ROC Score  0.974586637063\n",
      "*******************\n",
      "TNR 0.974\n",
      "TPR 0.899\n",
      "ROC Score  0.936153334806\n",
      "*******************\n",
      "TNR 0.965\n",
      "TPR 0.900\n",
      "ROC Score  0.932728202677\n",
      "*******************\n"
     ]
    }
   ],
   "source": [
    "li = []\n",
    "li_roc =[]\n",
    "for i in range(numberChunks):\n",
    "    df_split = df_0[i*chunkSize:(i+1)*chunkSize]\n",
    "    frames = [df_split,df_1]\n",
    "    final_df = pd.concat(frames)\n",
    "    final_df = final_df.sample(frac=1)\n",
    "    X_underSample = final_df.drop('y', axis = 1)\n",
    "    y_underSample = final_df['y']\n",
    "    X_train, X_test, y_train, y_test = train_test_split(X_underSample, y_underSample, \n",
    "                    test_size=0.3,random_state=10)\n",
    "    clf = LogisticRegression(C=100,max_iter=1000)\n",
    "    clf.fit(X_train, y_train)\n",
    "    C = confusion_matrix(y_test,clf.predict(X_test))\n",
    "    tpr = C[1,1]/(C[1,0]+C[1,1])\n",
    "    tnr = C[0,0]/(C[0,1]+C[0,0])\n",
    "    print(\"TNR {:.3f}\".format(tnr))\n",
    "    print(\"TPR {:.3f}\".format(tpr))\n",
    "    li.append((tpr,tnr))\n",
    "    #for i in range(2):\n",
    "        #fpr[i], tpr[i], _ = roc_curve(y_test, clf.predict(X_test))\n",
    "        #roc_auc[i] = auc(fpr[i], tpr[i])\n",
    "\n",
    "    print(\"ROC Score \",roc_auc_score(y_test, clf.predict(X_test)))\n",
    "    li_roc.append(roc_auc_score(y_test, clf.predict(X_test)))\n",
    "    #plt.figure()\n",
    "    #plt.plot(fpr[1], tpr[1])\n",
    "    #plt.xlim([0.0, 1.0])\n",
    "    #plt.ylim([0.0, 1.05])\n",
    "    #plt.xlabel('False Positive Rate')\n",
    "    #plt.ylabel('True Positive Rate')\n",
    "    #plt.title('Receiver operating characteristic')\n",
    "    #plt.show()\n",
    "    #print(C)\n",
    "    #show_confusion_matrix(C, ['Class 0', 'Class 1'])\n",
    "    #pred = clf.predict(X_test)\n",
    "    #print(classification_report(y_test,pred))\n",
    "    print(\"*******************\")\n",
    "    "
   ]
  },
  {
   "cell_type": "code",
   "execution_count": 110,
   "metadata": {
    "collapsed": false
   },
   "outputs": [
    {
     "data": {
      "text/plain": [
       "[(0.95979899497487442, 0.99209202012940334),\n",
       " (0.95355587808417996, 0.9765291607396871),\n",
       " (0.94584569732937684, 0.97423398328690802),\n",
       " (0.94113424264178036, 0.97411933860531996),\n",
       " (0.96074232690935046, 0.98843094721619662),\n",
       " (0.89869753979739508, 0.97360912981455061),\n",
       " (0.90021382751247325, 0.9652425778421434)]"
      ]
     },
     "execution_count": 110,
     "metadata": {},
     "output_type": "execute_result"
    }
   ],
   "source": [
    "li"
   ]
  },
  {
   "cell_type": "code",
   "execution_count": 102,
   "metadata": {
    "collapsed": false
   },
   "outputs": [
    {
     "data": {
      "image/png": "[encoded data removed]",
      "text/plain": [
       "<matplotlib.figure.Figure at 0x11d135b00>"
      ]
     },
     "metadata": {},
     "output_type": "display_data"
    }
   ],
   "source": [
    "plt.scatter(*zip(*li))\n",
    "plt.xlabel(\"TPR\")\n",
    "plt.ylabel(\"TNR\")\n",
    "plt.title('TPR vs TNR')\n",
    "plt.show()"
   ]
  },
  {
   "cell_type": "code",
   "execution_count": 109,
   "metadata": {
    "collapsed": false
   },
   "outputs": [
    {
     "data": {
      "text/plain": [
       "<matplotlib.text.Text at 0x11ce93c50>"
      ]
     },
     "execution_count": 109,
     "metadata": {},
     "output_type": "execute_result"
    },
    {
     "data": {
      "image/png": "[encoded data removed]",
      "text/plain": [
       "<matplotlib.figure.Figure at 0x11c79c390>"
      ]
     },
     "metadata": {},
     "output_type": "display_data"
    }
   ],
   "source": [
    "plt.plot(li_roc)\n",
    "plt.ylabel(\"ROC Score\")\n",
    "plt.title(\"ROC Score\")"
   ]
  },
  {
   "cell_type": "code",
   "execution_count": 85,
   "metadata": {
    "collapsed": false
   },
   "outputs": [
    {
     "data": {
      "text/plain": [
       "(41188, 63)"
      ]
     },
     "execution_count": 85,
     "metadata": {},
     "output_type": "execute_result"
    }
   ],
   "source": [
    "X.shape"
   ]
  },
  {
   "cell_type": "code",
   "execution_count": 86,
   "metadata": {
    "collapsed": false
   },
   "outputs": [
    {
     "data": {
      "text/plain": [
       "(41188,)"
      ]
     },
     "execution_count": 86,
     "metadata": {},
     "output_type": "execute_result"
    }
   ],
   "source": [
    "y.shape"
   ]
  },
  {
   "cell_type": "code",
   "execution_count": 88,
   "metadata": {
    "collapsed": true
   },
   "outputs": [],
   "source": [
    "from collections import Counter\n",
    "from sklearn.datasets import make_classification\n",
    "from imblearn.over_sampling import SMOTE\n"
   ]
  },
  {
   "cell_type": "code",
   "execution_count": 89,
   "metadata": {
    "collapsed": true
   },
   "outputs": [],
   "source": [
    "sm = SMOTE(random_state=42)\n",
    "X_res, y_res = sm.fit_sample(X, y)"
   ]
  },
  {
   "cell_type": "code",
   "execution_count": 90,
   "metadata": {
    "collapsed": false
   },
   "outputs": [
    {
     "name": "stdout",
     "output_type": "stream",
     "text": [
      "Resampled dataset shape Counter({0: 36548, 1: 36548})\n"
     ]
    }
   ],
   "source": [
    "print('Resampled dataset shape {}'.format(Counter(y_res)))"
   ]
  },
  {
   "cell_type": "code",
   "execution_count": 91,
   "metadata": {
    "collapsed": false
   },
   "outputs": [
    {
     "data": {
      "text/plain": [
       "LogisticRegression(C=0.01, class_weight=None, dual=False, fit_intercept=True,\n",
       "          intercept_scaling=1, max_iter=1000, multi_class='ovr', n_jobs=1,\n",
       "          penalty='l2', random_state=None, solver='liblinear', tol=0.0001,\n",
       "          verbose=0, warm_start=False)"
      ]
     },
     "execution_count": 91,
     "metadata": {},
     "output_type": "execute_result"
    }
   ],
   "source": [
    "X_train, X_test, y_train, y_test = train_test_split(X_res, y_res, test_size=0.3,random_state=10)\n",
    "clf = LogisticRegression(C=.01,max_iter=1000)\n",
    "clf.fit(X_train, y_train)"
   ]
  },
  {
   "cell_type": "code",
   "execution_count": 92,
   "metadata": {
    "collapsed": false
   },
   "outputs": [
    {
     "name": "stdout",
     "output_type": "stream",
     "text": [
      "TNR 0.856\n",
      "TPR 0.890\n"
     ]
    }
   ],
   "source": [
    "C = confusion_matrix(y_test,clf.predict(X_test))\n",
    "tpr = C[1,1]/(C[1,0]+C[1,1])\n",
    "tnr = C[0,0]/(C[0,1]+C[0,0])\n",
    "print(\"TNR {:.3f}\".format(tnr))\n",
    "print(\"TPR {:.3f}\".format(tpr))"
   ]
  },
  {
   "cell_type": "code",
   "execution_count": 93,
   "metadata": {
    "collapsed": false
   },
   "outputs": [
    {
     "name": "stdout",
     "output_type": "stream",
     "text": [
      "Resampled dataset shape Counter({0: 36548, 1: 36548})\n"
     ]
    }
   ],
   "source": [
    "from imblearn.over_sampling import RandomOverSampler\n",
    "ros = RandomOverSampler(random_state=42)\n",
    "X_res_ros, y_res_ros = ros.fit_sample(X, y)\n",
    "print('Resampled dataset shape {}'.format(Counter(y_res_ros)))"
   ]
  },
  {
   "cell_type": "code",
   "execution_count": 94,
   "metadata": {
    "collapsed": false
   },
   "outputs": [
    {
     "data": {
      "text/plain": [
       "LogisticRegression(C=0.01, class_weight=None, dual=False, fit_intercept=True,\n",
       "          intercept_scaling=1, max_iter=1000, multi_class='ovr', n_jobs=1,\n",
       "          penalty='l2', random_state=None, solver='liblinear', tol=0.0001,\n",
       "          verbose=0, warm_start=False)"
      ]
     },
     "execution_count": 94,
     "metadata": {},
     "output_type": "execute_result"
    }
   ],
   "source": [
    "X_train, X_test, y_train, y_test = train_test_split(X_res_ros, y_res_ros, \n",
    "                                        test_size=0.3,random_state=10)\n",
    "clf = LogisticRegression(C=.01,max_iter=1000)\n",
    "clf.fit(X_train, y_train)"
   ]
  },
  {
   "cell_type": "code",
   "execution_count": 95,
   "metadata": {
    "collapsed": false
   },
   "outputs": [
    {
     "name": "stdout",
     "output_type": "stream",
     "text": [
      "TNR 0.855\n",
      "TPR 0.893\n"
     ]
    }
   ],
   "source": [
    "C = confusion_matrix(y_test,clf.predict(X_test))\n",
    "tpr = C[1,1]/(C[1,0]+C[1,1])\n",
    "tnr = C[0,0]/(C[0,1]+C[0,0])\n",
    "print(\"TNR {:.3f}\".format(tnr))\n",
    "print(\"TPR {:.3f}\".format(tpr))"
   ]
  },
  {
   "cell_type": "code",
   "execution_count": 96,
   "metadata": {
    "collapsed": true
   },
   "outputs": [],
   "source": [
    "from imblearn.over_sampling import ADASYN\n",
    "ada = ADASYN(random_state=42)\n",
    "X_res_ada, y_res_ada = ada.fit_sample(X, y)"
   ]
  },
  {
   "cell_type": "code",
   "execution_count": 97,
   "metadata": {
    "collapsed": false
   },
   "outputs": [
    {
     "data": {
      "text/plain": [
       "LogisticRegression(C=0.01, class_weight=None, dual=False, fit_intercept=True,\n",
       "          intercept_scaling=1, max_iter=1000, multi_class='ovr', n_jobs=1,\n",
       "          penalty='l2', random_state=None, solver='liblinear', tol=0.0001,\n",
       "          verbose=0, warm_start=False)"
      ]
     },
     "execution_count": 97,
     "metadata": {},
     "output_type": "execute_result"
    }
   ],
   "source": [
    "X_train, X_test, y_train, y_test = train_test_split(X_res_ada, y_res_ada, \n",
    "                                        test_size=0.3,random_state=10)\n",
    "clf = LogisticRegression(C=.01,max_iter=1000)\n",
    "clf.fit(X_train, y_train)"
   ]
  },
  {
   "cell_type": "code",
   "execution_count": 98,
   "metadata": {
    "collapsed": false
   },
   "outputs": [
    {
     "name": "stdout",
     "output_type": "stream",
     "text": [
      "TNR 0.730\n",
      "TPR 0.835\n"
     ]
    }
   ],
   "source": [
    "C = confusion_matrix(y_test,clf.predict(X_test))\n",
    "tpr = C[1,1]/(C[1,0]+C[1,1])\n",
    "tnr = C[0,0]/(C[0,1]+C[0,0])\n",
    "print(\"TNR {:.3f}\".format(tnr))\n",
    "print(\"TPR {:.3f}\".format(tpr))"
   ]
  },
  {
   "cell_type": "code",
   "execution_count": null,
   "metadata": {
    "collapsed": true
   },
   "outputs": [],
   "source": []
  }
 ],
 "metadata": {
  "kernelspec": {
   "display_name": "Python 3",
   "language": "python",
   "name": "python3"
  },
  "language_info": {
   "codemirror_mode": {
    "name": "ipython",
    "version": 3
   },
   "file_extension": ".py",
   "mimetype": "text/x-python",
   "name": "python",
   "nbconvert_exporter": "python",
   "pygments_lexer": "ipython3",
   "version": "3.6.0"
  }
 },
 "nbformat": 4,
 "nbformat_minor": 2
}
