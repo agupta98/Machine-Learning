{
 "cells": [
  {
   "cell_type": "code",
   "execution_count": 50,
   "metadata": {
    "collapsed": true
   },
   "outputs": [],
   "source": [
    "import tensorflow as tf\n",
    "import numpy as np"
   ]
  },
  {
   "cell_type": "code",
   "execution_count": 51,
   "metadata": {
    "collapsed": true
   },
   "outputs": [],
   "source": [
    "#create data\n",
    "x_data = np.random.rand(100).astype(np.float32)\n",
    "y_data = x_data * 0.1 + 0.3"
   ]
  },
  {
   "cell_type": "code",
   "execution_count": 52,
   "metadata": {
    "collapsed": false
   },
   "outputs": [],
   "source": [
    "#create tensorflow Structure Chart\n",
    "Weights = tf.Variable(tf.random_uniform([1], -1.0, 1.0))\n",
    "biases = tf.Variable(tf.zeros([1]))"
   ]
  },
  {
   "cell_type": "code",
   "execution_count": 53,
   "metadata": {
    "collapsed": false
   },
   "outputs": [],
   "source": [
    "y = Weights * x_data + biases\n",
    "loss = tf.reduce_mean(tf.square(y - y_data))\n",
    "optimizer = tf.train.GradientDescentOptimizer(0.5)\n",
    "train = optimizer.minimize(loss)"
   ]
  },
  {
   "cell_type": "code",
   "execution_count": 54,
   "metadata": {
    "collapsed": false
   },
   "outputs": [],
   "source": [
    "init = tf.global_variables_initializer()"
   ]
  },
  {
   "cell_type": "code",
   "execution_count": 55,
   "metadata": {
    "collapsed": true
   },
   "outputs": [],
   "source": [
    "sess = tf.Session()\n",
    "sess.run(init)"
   ]
  },
  {
   "cell_type": "code",
   "execution_count": 56,
   "metadata": {
    "collapsed": false
   },
   "outputs": [
    {
     "name": "stdout",
     "output_type": "stream",
     "text": [
      "0 [-0.23547053] [ 0.68808794]\n",
      "20 [-0.01145247] [ 0.361431]\n",
      "40 [ 0.07052049] [ 0.31624869]\n",
      "60 [ 0.0922026] [ 0.30429783]\n",
      "80 [ 0.09793756] [ 0.30113679]\n",
      "100 [ 0.09945447] [ 0.30030072]\n",
      "120 [ 0.09985571] [ 0.30007955]\n",
      "140 [ 0.09996185] [ 0.30002105]\n",
      "160 [ 0.0999899] [ 0.30000558]\n",
      "180 [ 0.09999732] [ 0.3000015]\n",
      "200 [ 0.09999929] [ 0.3000004]\n",
      "220 [ 0.09999982] [ 0.3000001]\n",
      "240 [ 0.0999999] [ 0.30000007]\n",
      "260 [ 0.0999999] [ 0.30000007]\n",
      "280 [ 0.0999999] [ 0.30000007]\n",
      "300 [ 0.0999999] [ 0.30000007]\n",
      "320 [ 0.0999999] [ 0.30000007]\n",
      "340 [ 0.0999999] [ 0.30000007]\n",
      "360 [ 0.0999999] [ 0.30000007]\n",
      "380 [ 0.0999999] [ 0.30000007]\n",
      "400 [ 0.0999999] [ 0.30000007]\n",
      "420 [ 0.0999999] [ 0.30000007]\n",
      "440 [ 0.0999999] [ 0.30000007]\n",
      "460 [ 0.0999999] [ 0.30000007]\n",
      "480 [ 0.0999999] [ 0.30000007]\n",
      "500 [ 0.0999999] [ 0.30000007]\n",
      "520 [ 0.0999999] [ 0.30000007]\n",
      "540 [ 0.0999999] [ 0.30000007]\n",
      "560 [ 0.0999999] [ 0.30000007]\n",
      "580 [ 0.0999999] [ 0.30000007]\n",
      "600 [ 0.0999999] [ 0.30000007]\n"
     ]
    }
   ],
   "source": [
    "for step in range(601):\n",
    "    sess.run(train)\n",
    "    if (step % 20 ==0):\n",
    "        print(step, sess.run(Weights), sess.run(biases))"
   ]
  },
  {
   "cell_type": "code",
   "execution_count": 14,
   "metadata": {
    "collapsed": false
   },
   "outputs": [
    {
     "data": {
      "text/plain": [
       "array([-0.37624931])"
      ]
     },
     "execution_count": 14,
     "metadata": {},
     "output_type": "execute_result"
    }
   ],
   "source": [
    "np.random.uniform( -1.0, 1.0, [1])"
   ]
  },
  {
   "cell_type": "code",
   "execution_count": 18,
   "metadata": {
    "collapsed": false
   },
   "outputs": [
    {
     "data": {
      "text/plain": [
       "array([ 0.,  0.,  0.,  0.,  0.,  0.,  0.,  0.,  0.,  0.,  0.,  0.])"
      ]
     },
     "execution_count": 18,
     "metadata": {},
     "output_type": "execute_result"
    }
   ],
   "source": [
    "np.zeros([12])"
   ]
  },
  {
   "cell_type": "code",
   "execution_count": null,
   "metadata": {
    "collapsed": true
   },
   "outputs": [],
   "source": []
  },
  {
   "cell_type": "code",
   "execution_count": null,
   "metadata": {
    "collapsed": true
   },
   "outputs": [],
   "source": []
  }
 ],
 "metadata": {
  "kernelspec": {
   "display_name": "Python 3",
   "language": "python",
   "name": "python3"
  },
  "language_info": {
   "codemirror_mode": {
    "name": "ipython",
    "version": 3
   },
   "file_extension": ".py",
   "mimetype": "text/x-python",
   "name": "python",
   "nbconvert_exporter": "python",
   "pygments_lexer": "ipython3",
   "version": "3.6.0"
  }
 },
 "nbformat": 4,
 "nbformat_minor": 2
}
