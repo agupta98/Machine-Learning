{
 "cells": [
  {
   "cell_type": "markdown",
   "metadata": {},
   "source": [
    "# Exercises for \"Hands-on with Pydata: How to Build a Minimal Recommendation Engine\""
   ]
  },
  {
   "cell_type": "markdown",
   "metadata": {},
   "source": [
    "# Systems check: imports and files"
   ]
  },
  {
   "cell_type": "code",
   "execution_count": 1,
   "metadata": {
    "collapsed": false
   },
   "outputs": [],
   "source": [
    "import numpy as np\n",
    "import pandas as pd"
   ]
  },
  {
   "cell_type": "markdown",
   "metadata": {},
   "source": [
    "# Pandas questions: Series and DataFrames\n",
    "## 1. Adding a column in a DataFrame"
   ]
  },
  {
   "cell_type": "code",
   "execution_count": 2,
   "metadata": {
    "collapsed": false
   },
   "outputs": [
    {
     "data": {
      "text/html": [
       "<div>\n",
       "<table border=\"1\" class=\"dataframe\">\n",
       "  <thead>\n",
       "    <tr style=\"text-align: right;\">\n",
       "      <th></th>\n",
       "      <th>col1</th>\n",
       "      <th>col2</th>\n",
       "    </tr>\n",
       "  </thead>\n",
       "  <tbody>\n",
       "    <tr>\n",
       "      <th>0</th>\n",
       "      <td>1</td>\n",
       "      <td>4</td>\n",
       "    </tr>\n",
       "    <tr>\n",
       "      <th>1</th>\n",
       "      <td>2</td>\n",
       "      <td>5</td>\n",
       "    </tr>\n",
       "    <tr>\n",
       "      <th>2</th>\n",
       "      <td>3</td>\n",
       "      <td>6</td>\n",
       "    </tr>\n",
       "    <tr>\n",
       "      <th>3</th>\n",
       "      <td>4</td>\n",
       "      <td>7</td>\n",
       "    </tr>\n",
       "  </tbody>\n",
       "</table>\n",
       "</div>"
      ],
      "text/plain": [
       "   col1  col2\n",
       "0     1     4\n",
       "1     2     5\n",
       "2     3     6\n",
       "3     4     7"
      ]
     },
     "execution_count": 2,
     "metadata": {},
     "output_type": "execute_result"
    }
   ],
   "source": [
    "# given the following DataFrame, add a new column to it\n",
    "df = pd.DataFrame({'col1': [1,2,3,4]})\n",
    "df['col2'] =[4,5,6,7]\n",
    "df"
   ]
  },
  {
   "cell_type": "markdown",
   "metadata": {},
   "source": [
    "## 2. Deleting a row in a DataFrame"
   ]
  },
  {
   "cell_type": "code",
   "execution_count": 3,
   "metadata": {
    "collapsed": false
   },
   "outputs": [
    {
     "data": {
      "text/html": [
       "<div>\n",
       "<table border=\"1\" class=\"dataframe\">\n",
       "  <thead>\n",
       "    <tr style=\"text-align: right;\">\n",
       "      <th></th>\n",
       "      <th>col1</th>\n",
       "    </tr>\n",
       "  </thead>\n",
       "  <tbody>\n",
       "    <tr>\n",
       "      <th>a</th>\n",
       "      <td>1</td>\n",
       "    </tr>\n",
       "    <tr>\n",
       "      <th>b</th>\n",
       "      <td>2</td>\n",
       "    </tr>\n",
       "    <tr>\n",
       "      <th>c</th>\n",
       "      <td>3</td>\n",
       "    </tr>\n",
       "  </tbody>\n",
       "</table>\n",
       "</div>"
      ],
      "text/plain": [
       "   col1\n",
       "a     1\n",
       "b     2\n",
       "c     3"
      ]
     },
     "execution_count": 3,
     "metadata": {},
     "output_type": "execute_result"
    }
   ],
   "source": [
    "# given the following DataFrame, delete row 'd' from it\n",
    "df = pd.DataFrame({'col1': [1,2,3,4]}, index = ['a','b','c','d'])\n",
    "df.drop('d',axis=0)"
   ]
  },
  {
   "cell_type": "markdown",
   "metadata": {},
   "source": [
    "## 3. Creating a DataFrame from a few Series"
   ]
  },
  {
   "cell_type": "code",
   "execution_count": 4,
   "metadata": {
    "collapsed": false
   },
   "outputs": [
    {
     "data": {
      "text/html": [
       "<div>\n",
       "<table border=\"1\" class=\"dataframe\">\n",
       "  <thead>\n",
       "    <tr style=\"text-align: right;\">\n",
       "      <th></th>\n",
       "      <th>col1</th>\n",
       "      <th>col2</th>\n",
       "      <th>col3</th>\n",
       "    </tr>\n",
       "  </thead>\n",
       "  <tbody>\n",
       "    <tr>\n",
       "      <th>0</th>\n",
       "      <td>-0.230525</td>\n",
       "      <td>0.124664</td>\n",
       "      <td>0.322400</td>\n",
       "    </tr>\n",
       "    <tr>\n",
       "      <th>1</th>\n",
       "      <td>0.319756</td>\n",
       "      <td>-0.553010</td>\n",
       "      <td>0.705074</td>\n",
       "    </tr>\n",
       "    <tr>\n",
       "      <th>2</th>\n",
       "      <td>-1.523321</td>\n",
       "      <td>0.069852</td>\n",
       "      <td>0.148068</td>\n",
       "    </tr>\n",
       "    <tr>\n",
       "      <th>3</th>\n",
       "      <td>-0.140973</td>\n",
       "      <td>-1.191655</td>\n",
       "      <td>-0.665034</td>\n",
       "    </tr>\n",
       "    <tr>\n",
       "      <th>4</th>\n",
       "      <td>-1.712470</td>\n",
       "      <td>0.933710</td>\n",
       "      <td>-0.909647</td>\n",
       "    </tr>\n",
       "    <tr>\n",
       "      <th>5</th>\n",
       "      <td>-0.539380</td>\n",
       "      <td>-0.531547</td>\n",
       "      <td>-0.218762</td>\n",
       "    </tr>\n",
       "  </tbody>\n",
       "</table>\n",
       "</div>"
      ],
      "text/plain": [
       "       col1      col2      col3\n",
       "0 -0.230525  0.124664  0.322400\n",
       "1  0.319756 -0.553010  0.705074\n",
       "2 -1.523321  0.069852  0.148068\n",
       "3 -0.140973 -1.191655 -0.665034\n",
       "4 -1.712470  0.933710 -0.909647\n",
       "5 -0.539380 -0.531547 -0.218762"
      ]
     },
     "execution_count": 4,
     "metadata": {},
     "output_type": "execute_result"
    }
   ],
   "source": [
    "# given the following three Series, create a DataFrame such that it holds them as its columns\n",
    "ser_1 = pd.Series(np.random.randn(6))\n",
    "ser_2 = pd.Series(np.random.randn(6))\n",
    "ser_3 = pd.Series(np.random.randn(6))\n",
    "df_3 = pd.DataFrame({'col1':ser_1,'col2':ser_2,'col3':ser_3})\n",
    "df_3"
   ]
  },
  {
   "cell_type": "markdown",
   "metadata": {},
   "source": [
    "# Pandas questions: Indexing"
   ]
  },
  {
   "cell_type": "markdown",
   "metadata": {},
   "source": [
    "## 1. Indexing into a specific column"
   ]
  },
  {
   "cell_type": "code",
   "execution_count": 5,
   "metadata": {
    "collapsed": false
   },
   "outputs": [
    {
     "data": {
      "text/plain": [
       "obs1     0.9\n",
       "obs2     9.0\n",
       "obs3    34.0\n",
       "obs4    11.0\n",
       "Name: col_2, dtype: float64"
      ]
     },
     "execution_count": 5,
     "metadata": {},
     "output_type": "execute_result"
    }
   ],
   "source": [
    "# given the following DataFrame, try to index into the 'col_2' column\n",
    "df = pd.DataFrame(data={'col_1': [0.12, 7, 45, 10], 'col_2': [0.9, 9, 34, 11]},\n",
    "                  columns=['col_1', 'col_2', 'col_3'],\n",
    "                  index=['obs1', 'obs2', 'obs3', 'obs4'])\n",
    "df['col_2']\n",
    "#df"
   ]
  },
  {
   "cell_type": "markdown",
   "metadata": {},
   "source": [
    "## 2. Label-based indexing"
   ]
  },
  {
   "cell_type": "code",
   "execution_count": 6,
   "metadata": {
    "collapsed": false
   },
   "outputs": [
    {
     "data": {
      "text/plain": [
       "col_1     45\n",
       "col_2     34\n",
       "col_3    NaN\n",
       "Name: obs3, dtype: object"
      ]
     },
     "execution_count": 6,
     "metadata": {},
     "output_type": "execute_result"
    }
   ],
   "source": [
    "# using the same DataFrame, index into the row whose index is 'obs3'\n",
    "df.loc['obs3']"
   ]
  },
  {
   "cell_type": "markdown",
   "metadata": {},
   "source": [
    "## 2. Position-based indexing"
   ]
  },
  {
   "cell_type": "code",
   "execution_count": 7,
   "metadata": {
    "collapsed": false
   },
   "outputs": [
    {
     "data": {
      "text/plain": [
       "col_1    0.12\n",
       "col_2     0.9\n",
       "col_3     NaN\n",
       "Name: obs1, dtype: object"
      ]
     },
     "execution_count": 7,
     "metadata": {},
     "output_type": "execute_result"
    }
   ],
   "source": [
    "# using the same DataFrame, index into into its first row\n",
    "df.iloc[0]"
   ]
  },
  {
   "cell_type": "markdown",
   "metadata": {},
   "source": [
    "# Mini-Challenge prep: data loading\n",
    "\n",
    "## 1. How to load the `users` and `movies` portions of MovieLens"
   ]
  },
  {
   "cell_type": "code",
   "execution_count": 8,
   "metadata": {
    "collapsed": false
   },
   "outputs": [],
   "source": [
    "import pandas as pd\n",
    "\n",
    "users = pd.read_table('data/ml-1m/users.dat',\n",
    "                      sep='::', header=None,\n",
    "                      names=['user_id', 'gender', 'age', 'occupation', 'zip']\n",
    "                     ,engine='python')\n",
    "\n",
    "movies = pd.read_table('data/ml-1m/movies.dat',\n",
    "                       sep='::', header=None,\n",
    "                       names=['movie_id', 'title', 'genres'],engine='python')\n",
    "ratings = pd.read_table('data/ml-1m/ratings.dat',\n",
    "                       sep='::', header=None,\n",
    "            names=['user_id', 'movie_id', 'rating', 'timestamp'],engine='python')"
   ]
  },
  {
   "cell_type": "code",
   "execution_count": 9,
   "metadata": {
    "collapsed": false
   },
   "outputs": [
    {
     "data": {
      "text/html": [
       "<div>\n",
       "<table border=\"1\" class=\"dataframe\">\n",
       "  <thead>\n",
       "    <tr style=\"text-align: right;\">\n",
       "      <th></th>\n",
       "      <th>user_id</th>\n",
       "      <th>movie_id</th>\n",
       "      <th>rating</th>\n",
       "      <th>timestamp</th>\n",
       "    </tr>\n",
       "  </thead>\n",
       "  <tbody>\n",
       "    <tr>\n",
       "      <th>0</th>\n",
       "      <td>1</td>\n",
       "      <td>1193</td>\n",
       "      <td>5</td>\n",
       "      <td>978300760</td>\n",
       "    </tr>\n",
       "    <tr>\n",
       "      <th>1</th>\n",
       "      <td>1</td>\n",
       "      <td>661</td>\n",
       "      <td>3</td>\n",
       "      <td>978302109</td>\n",
       "    </tr>\n",
       "    <tr>\n",
       "      <th>2</th>\n",
       "      <td>1</td>\n",
       "      <td>914</td>\n",
       "      <td>3</td>\n",
       "      <td>978301968</td>\n",
       "    </tr>\n",
       "    <tr>\n",
       "      <th>3</th>\n",
       "      <td>1</td>\n",
       "      <td>3408</td>\n",
       "      <td>4</td>\n",
       "      <td>978300275</td>\n",
       "    </tr>\n",
       "    <tr>\n",
       "      <th>4</th>\n",
       "      <td>1</td>\n",
       "      <td>2355</td>\n",
       "      <td>5</td>\n",
       "      <td>978824291</td>\n",
       "    </tr>\n",
       "  </tbody>\n",
       "</table>\n",
       "</div>"
      ],
      "text/plain": [
       "   user_id  movie_id  rating  timestamp\n",
       "0        1      1193       5  978300760\n",
       "1        1       661       3  978302109\n",
       "2        1       914       3  978301968\n",
       "3        1      3408       4  978300275\n",
       "4        1      2355       5  978824291"
      ]
     },
     "execution_count": 9,
     "metadata": {},
     "output_type": "execute_result"
    }
   ],
   "source": [
    "ratings.head()"
   ]
  },
  {
   "cell_type": "markdown",
   "metadata": {},
   "source": [
    "## 2. How to load the training and testing subsets"
   ]
  },
  {
   "cell_type": "code",
   "execution_count": 10,
   "metadata": {
    "collapsed": false
   },
   "outputs": [],
   "source": [
    "# subset version (hosted notebook)\n",
    "movielens_train = pd.read_csv('data/movielens_train.csv', index_col=0, encoding='latin1')\n",
    "movielens_test = pd.read_csv('data/movielens_test.csv', index_col=0, encoding='latin1')"
   ]
  },
  {
   "cell_type": "code",
   "execution_count": 11,
   "metadata": {
    "collapsed": false
   },
   "outputs": [
    {
     "data": {
      "text/html": [
       "<div>\n",
       "<table border=\"1\" class=\"dataframe\">\n",
       "  <thead>\n",
       "    <tr style=\"text-align: right;\">\n",
       "      <th></th>\n",
       "      <th>user_id</th>\n",
       "      <th>movie_id</th>\n",
       "      <th>rating</th>\n",
       "      <th>timestamp</th>\n",
       "      <th>gender</th>\n",
       "      <th>age</th>\n",
       "      <th>occupation</th>\n",
       "      <th>zip</th>\n",
       "      <th>title</th>\n",
       "      <th>genres</th>\n",
       "      <th>for_testing</th>\n",
       "    </tr>\n",
       "  </thead>\n",
       "  <tbody>\n",
       "    <tr>\n",
       "      <th>593263</th>\n",
       "      <td>3562</td>\n",
       "      <td>3798</td>\n",
       "      <td>4</td>\n",
       "      <td>967332344</td>\n",
       "      <td>F</td>\n",
       "      <td>25</td>\n",
       "      <td>6</td>\n",
       "      <td>32812</td>\n",
       "      <td>What Lies Beneath (2000)</td>\n",
       "      <td>Thriller</td>\n",
       "      <td>False</td>\n",
       "    </tr>\n",
       "    <tr>\n",
       "      <th>235597</th>\n",
       "      <td>1051</td>\n",
       "      <td>3793</td>\n",
       "      <td>4</td>\n",
       "      <td>974958593</td>\n",
       "      <td>F</td>\n",
       "      <td>25</td>\n",
       "      <td>0</td>\n",
       "      <td>60513</td>\n",
       "      <td>X-Men (2000)</td>\n",
       "      <td>Action|Sci-Fi</td>\n",
       "      <td>False</td>\n",
       "    </tr>\n",
       "    <tr>\n",
       "      <th>219003</th>\n",
       "      <td>3727</td>\n",
       "      <td>2366</td>\n",
       "      <td>3</td>\n",
       "      <td>966309522</td>\n",
       "      <td>M</td>\n",
       "      <td>35</td>\n",
       "      <td>7</td>\n",
       "      <td>74401</td>\n",
       "      <td>King Kong (1933)</td>\n",
       "      <td>Action|Adventure|Horror</td>\n",
       "      <td>False</td>\n",
       "    </tr>\n",
       "    <tr>\n",
       "      <th>685090</th>\n",
       "      <td>4666</td>\n",
       "      <td>1094</td>\n",
       "      <td>3</td>\n",
       "      <td>963843918</td>\n",
       "      <td>M</td>\n",
       "      <td>35</td>\n",
       "      <td>1</td>\n",
       "      <td>53704</td>\n",
       "      <td>Crying Game, The (1992)</td>\n",
       "      <td>Drama|Romance|War</td>\n",
       "      <td>False</td>\n",
       "    </tr>\n",
       "    <tr>\n",
       "      <th>312377</th>\n",
       "      <td>3261</td>\n",
       "      <td>1095</td>\n",
       "      <td>4</td>\n",
       "      <td>968251750</td>\n",
       "      <td>M</td>\n",
       "      <td>45</td>\n",
       "      <td>20</td>\n",
       "      <td>87505</td>\n",
       "      <td>Glengarry Glen Ross (1992)</td>\n",
       "      <td>Drama</td>\n",
       "      <td>False</td>\n",
       "    </tr>\n",
       "  </tbody>\n",
       "</table>\n",
       "</div>"
      ],
      "text/plain": [
       "        user_id  movie_id  rating  timestamp gender  age  occupation    zip  \\\n",
       "593263     3562      3798       4  967332344      F   25           6  32812   \n",
       "235597     1051      3793       4  974958593      F   25           0  60513   \n",
       "219003     3727      2366       3  966309522      M   35           7  74401   \n",
       "685090     4666      1094       3  963843918      M   35           1  53704   \n",
       "312377     3261      1095       4  968251750      M   45          20  87505   \n",
       "\n",
       "                             title                   genres for_testing  \n",
       "593263    What Lies Beneath (2000)                 Thriller       False  \n",
       "235597                X-Men (2000)            Action|Sci-Fi       False  \n",
       "219003            King Kong (1933)  Action|Adventure|Horror       False  \n",
       "685090     Crying Game, The (1992)        Drama|Romance|War       False  \n",
       "312377  Glengarry Glen Ross (1992)                    Drama       False  "
      ]
     },
     "execution_count": 11,
     "metadata": {},
     "output_type": "execute_result"
    }
   ],
   "source": [
    "movielens_train.head()"
   ]
  },
  {
   "cell_type": "code",
   "execution_count": 12,
   "metadata": {
    "collapsed": false
   },
   "outputs": [
    {
     "data": {
      "text/html": [
       "<div>\n",
       "<table border=\"1\" class=\"dataframe\">\n",
       "  <thead>\n",
       "    <tr style=\"text-align: right;\">\n",
       "      <th></th>\n",
       "      <th>user_id</th>\n",
       "      <th>movie_id</th>\n",
       "      <th>rating</th>\n",
       "      <th>timestamp</th>\n",
       "      <th>gender</th>\n",
       "      <th>age</th>\n",
       "      <th>occupation</th>\n",
       "      <th>zip</th>\n",
       "      <th>title</th>\n",
       "      <th>genres</th>\n",
       "      <th>for_testing</th>\n",
       "    </tr>\n",
       "  </thead>\n",
       "  <tbody>\n",
       "    <tr>\n",
       "      <th>693323</th>\n",
       "      <td>4653</td>\n",
       "      <td>2648</td>\n",
       "      <td>4</td>\n",
       "      <td>975532459</td>\n",
       "      <td>M</td>\n",
       "      <td>35</td>\n",
       "      <td>12</td>\n",
       "      <td>95051</td>\n",
       "      <td>Frankenstein (1931)</td>\n",
       "      <td>Horror</td>\n",
       "      <td>False</td>\n",
       "    </tr>\n",
       "    <tr>\n",
       "      <th>24177</th>\n",
       "      <td>2259</td>\n",
       "      <td>1270</td>\n",
       "      <td>4</td>\n",
       "      <td>974591524</td>\n",
       "      <td>F</td>\n",
       "      <td>56</td>\n",
       "      <td>16</td>\n",
       "      <td>70503</td>\n",
       "      <td>Back to the Future (1985)</td>\n",
       "      <td>Comedy|Sci-Fi</td>\n",
       "      <td>False</td>\n",
       "    </tr>\n",
       "    <tr>\n",
       "      <th>202202</th>\n",
       "      <td>3032</td>\n",
       "      <td>1378</td>\n",
       "      <td>5</td>\n",
       "      <td>970343147</td>\n",
       "      <td>M</td>\n",
       "      <td>25</td>\n",
       "      <td>0</td>\n",
       "      <td>47303</td>\n",
       "      <td>Young Guns (1988)</td>\n",
       "      <td>Action|Comedy|Western</td>\n",
       "      <td>False</td>\n",
       "    </tr>\n",
       "    <tr>\n",
       "      <th>262003</th>\n",
       "      <td>3029</td>\n",
       "      <td>2289</td>\n",
       "      <td>4</td>\n",
       "      <td>972846393</td>\n",
       "      <td>M</td>\n",
       "      <td>18</td>\n",
       "      <td>4</td>\n",
       "      <td>92037</td>\n",
       "      <td>Player, The (1992)</td>\n",
       "      <td>Comedy|Drama</td>\n",
       "      <td>False</td>\n",
       "    </tr>\n",
       "    <tr>\n",
       "      <th>777848</th>\n",
       "      <td>4186</td>\n",
       "      <td>2403</td>\n",
       "      <td>3</td>\n",
       "      <td>1017931262</td>\n",
       "      <td>M</td>\n",
       "      <td>25</td>\n",
       "      <td>7</td>\n",
       "      <td>33308</td>\n",
       "      <td>First Blood (1982)</td>\n",
       "      <td>Action</td>\n",
       "      <td>False</td>\n",
       "    </tr>\n",
       "  </tbody>\n",
       "</table>\n",
       "</div>"
      ],
      "text/plain": [
       "        user_id  movie_id  rating   timestamp gender  age  occupation    zip  \\\n",
       "693323     4653      2648       4   975532459      M   35          12  95051   \n",
       "24177      2259      1270       4   974591524      F   56          16  70503   \n",
       "202202     3032      1378       5   970343147      M   25           0  47303   \n",
       "262003     3029      2289       4   972846393      M   18           4  92037   \n",
       "777848     4186      2403       3  1017931262      M   25           7  33308   \n",
       "\n",
       "                            title                 genres for_testing  \n",
       "693323        Frankenstein (1931)                 Horror       False  \n",
       "24177   Back to the Future (1985)          Comedy|Sci-Fi       False  \n",
       "202202          Young Guns (1988)  Action|Comedy|Western       False  \n",
       "262003         Player, The (1992)           Comedy|Drama       False  \n",
       "777848         First Blood (1982)                 Action       False  "
      ]
     },
     "execution_count": 12,
     "metadata": {},
     "output_type": "execute_result"
    }
   ],
   "source": [
    "movielens_test.head()"
   ]
  },
  {
   "cell_type": "markdown",
   "metadata": {},
   "source": [
    "# Mini-Challenge prep: evaluation functions\n",
    "\n",
    "These are the two functions that you will need to test your `estimate` method."
   ]
  },
  {
   "cell_type": "code",
   "execution_count": 13,
   "metadata": {
    "collapsed": false
   },
   "outputs": [
    {
     "data": {
      "text/plain": [
       "693323    4653\n",
       "24177     2259\n",
       "202202    3032\n",
       "262003    3029\n",
       "777848    4186\n",
       "Name: user_id, dtype: int64"
      ]
     },
     "execution_count": 13,
     "metadata": {},
     "output_type": "execute_result"
    }
   ],
   "source": [
    "movielens_test.user_id.head()"
   ]
  },
  {
   "cell_type": "code",
   "execution_count": 14,
   "metadata": {
    "collapsed": false
   },
   "outputs": [
    {
     "data": {
      "text/plain": [
       "693323    2648\n",
       "24177     1270\n",
       "202202    1378\n",
       "262003    2289\n",
       "777848    2403\n",
       "Name: movie_id, dtype: int64"
      ]
     },
     "execution_count": 14,
     "metadata": {},
     "output_type": "execute_result"
    }
   ],
   "source": [
    "movielens_test.movie_id.head()"
   ]
  },
  {
   "cell_type": "code",
   "execution_count": 15,
   "metadata": {
    "collapsed": false
   },
   "outputs": [],
   "source": [
    "ids_to_estimate = zip(movielens_test.user_id, movielens_test.movie_id)\n",
    "#list(ids_to_estimate)"
   ]
  },
  {
   "cell_type": "code",
   "execution_count": 16,
   "metadata": {
    "collapsed": false
   },
   "outputs": [],
   "source": [
    "#li = [(u,i) for (u,i) in ids_to_estimate]\n"
   ]
  },
  {
   "cell_type": "code",
   "execution_count": 17,
   "metadata": {
    "collapsed": false
   },
   "outputs": [],
   "source": [
    "def compute_rmse(y_pred, y_true):\n",
    "    \"\"\" Compute Root Mean Squared Error. \"\"\"\n",
    "    \n",
    "    return np.sqrt(np.mean(np.power(y_pred - y_true, 2)))"
   ]
  },
  {
   "cell_type": "code",
   "execution_count": 18,
   "metadata": {
    "collapsed": false
   },
   "outputs": [],
   "source": [
    "ids_to_estimate = zip(movielens_test.user_id, movielens_test.movie_id)\n",
    "#estimated = np.array([estimate_f(u,i) for (u,i) in ids_to_estimate])\n"
   ]
  },
  {
   "cell_type": "code",
   "execution_count": 19,
   "metadata": {
    "collapsed": false
   },
   "outputs": [],
   "source": [
    "def evaluate(estimate_f):\n",
    "    \"\"\" RMSE-based predictive performance evaluation with pandas. \"\"\"\n",
    "    \n",
    "    ids_to_estimate = zip(movielens_test.user_id, movielens_test.movie_id)\n",
    "    #print(list(ids_to_estimate))\n",
    "    estimated = np.array([estimate_f(u,i) for (u,i) in ids_to_estimate])\n",
    "    print(estimated)\n",
    "    #print(len(estimated))\n",
    "    real = movielens_test.rating.values\n",
    "    return compute_rmse(estimated, real)"
   ]
  },
  {
   "cell_type": "markdown",
   "metadata": {},
   "source": [
    "Test a dummy solution!"
   ]
  },
  {
   "cell_type": "code",
   "execution_count": 20,
   "metadata": {
    "collapsed": false
   },
   "outputs": [],
   "source": [
    "def my_estimate_func(user_id, movie_id):\n",
    "    return 3.0"
   ]
  },
  {
   "cell_type": "markdown",
   "metadata": {},
   "source": [
    "You can test for performance with the following line, which assumes that your function is called `my_estimate_func`:"
   ]
  },
  {
   "cell_type": "code",
   "execution_count": 21,
   "metadata": {
    "collapsed": false
   },
   "outputs": [
    {
     "name": "stdout",
     "output_type": "stream",
     "text": [
      "[ 3.  3.  3. ...,  3.  3.  3.]\n",
      "RMSE for my estimate function: 1.23237195265\n"
     ]
    }
   ],
   "source": [
    "print('RMSE for my estimate function: %s' % evaluate(my_estimate_func))"
   ]
  },
  {
   "cell_type": "markdown",
   "metadata": {},
   "source": [
    "# Reco systems questions: Minimal reco engine v1.0"
   ]
  },
  {
   "cell_type": "markdown",
   "metadata": {},
   "source": [
    "## 1. Simple collaborative filtering using mean ratings"
   ]
  },
  {
   "cell_type": "code",
   "execution_count": 22,
   "metadata": {
    "collapsed": false
   },
   "outputs": [
    {
     "data": {
      "text/html": [
       "<div>\n",
       "<table border=\"1\" class=\"dataframe\">\n",
       "  <thead>\n",
       "    <tr style=\"text-align: right;\">\n",
       "      <th></th>\n",
       "      <th>X</th>\n",
       "      <th>Y</th>\n",
       "    </tr>\n",
       "  </thead>\n",
       "  <tbody>\n",
       "    <tr>\n",
       "      <th>A</th>\n",
       "      <td>1</td>\n",
       "      <td>2</td>\n",
       "    </tr>\n",
       "  </tbody>\n",
       "</table>\n",
       "</div>"
      ],
      "text/plain": [
       "   X  Y\n",
       "A  1  2"
      ]
     },
     "execution_count": 22,
     "metadata": {},
     "output_type": "execute_result"
    }
   ],
   "source": [
    "df = pd.DataFrame([[1, 2], [3, 4]], index=['A', 'B'], columns=['X', 'Y'])\n",
    "df.loc[[True, False]]"
   ]
  },
  {
   "cell_type": "code",
   "execution_count": 23,
   "metadata": {
    "collapsed": false
   },
   "outputs": [],
   "source": [
    "#~np.isnan(df['X'])"
   ]
  },
  {
   "cell_type": "code",
   "execution_count": 24,
   "metadata": {
    "collapsed": false
   },
   "outputs": [
    {
     "data": {
      "text/html": [
       "<div>\n",
       "<table border=\"1\" class=\"dataframe\">\n",
       "  <thead>\n",
       "    <tr style=\"text-align: right;\">\n",
       "      <th></th>\n",
       "      <th>user_id</th>\n",
       "      <th>movie_id</th>\n",
       "      <th>rating</th>\n",
       "      <th>timestamp</th>\n",
       "      <th>gender</th>\n",
       "      <th>age</th>\n",
       "      <th>occupation</th>\n",
       "      <th>zip</th>\n",
       "      <th>title</th>\n",
       "      <th>genres</th>\n",
       "      <th>for_testing</th>\n",
       "    </tr>\n",
       "  </thead>\n",
       "  <tbody>\n",
       "    <tr>\n",
       "      <th>693112</th>\n",
       "      <td>1717</td>\n",
       "      <td>2648</td>\n",
       "      <td>5</td>\n",
       "      <td>974706281</td>\n",
       "      <td>F</td>\n",
       "      <td>50</td>\n",
       "      <td>6</td>\n",
       "      <td>30307</td>\n",
       "      <td>Frankenstein (1931)</td>\n",
       "      <td>Horror</td>\n",
       "      <td>False</td>\n",
       "    </tr>\n",
       "    <tr>\n",
       "      <th>693286</th>\n",
       "      <td>4260</td>\n",
       "      <td>2648</td>\n",
       "      <td>3</td>\n",
       "      <td>965322649</td>\n",
       "      <td>M</td>\n",
       "      <td>25</td>\n",
       "      <td>16</td>\n",
       "      <td>59079</td>\n",
       "      <td>Frankenstein (1931)</td>\n",
       "      <td>Horror</td>\n",
       "      <td>False</td>\n",
       "    </tr>\n",
       "  </tbody>\n",
       "</table>\n",
       "</div>"
      ],
      "text/plain": [
       "        user_id  movie_id  rating  timestamp gender  age  occupation    zip  \\\n",
       "693112     1717      2648       5  974706281      F   50           6  30307   \n",
       "693286     4260      2648       3  965322649      M   25          16  59079   \n",
       "\n",
       "                      title  genres for_testing  \n",
       "693112  Frankenstein (1931)  Horror       False  \n",
       "693286  Frankenstein (1931)  Horror       False  "
      ]
     },
     "execution_count": 24,
     "metadata": {},
     "output_type": "execute_result"
    }
   ],
   "source": [
    "movielens_train.head()\n",
    "movielens_train[movielens_train['movie_id'] == 2648]"
   ]
  },
  {
   "cell_type": "code",
   "execution_count": 25,
   "metadata": {
    "collapsed": false
   },
   "outputs": [
    {
     "data": {
      "text/plain": [
       "5838"
      ]
     },
     "execution_count": 25,
     "metadata": {},
     "output_type": "execute_result"
    }
   ],
   "source": [
    "\n",
    "len(movielens_train[['user_id','movie_id']])"
   ]
  },
  {
   "cell_type": "code",
   "execution_count": 26,
   "metadata": {
    "collapsed": false
   },
   "outputs": [
    {
     "data": {
      "text/plain": [
       "4.0"
      ]
     },
     "execution_count": 26,
     "metadata": {},
     "output_type": "execute_result"
    }
   ],
   "source": [
    "# write an 'estimate' function that computes the mean rating of a particular user\n",
    "def collab_mean(user_id, movie_id):\n",
    "    # first, index into all ratings of this movie\n",
    "    # second, compute the mean of those ratings\n",
    "    movie_cond = movielens_train['movie_id']==movie_id\n",
    "    #print(movie_cond.sum())\n",
    "    #print(pd.DataFrame(ratings))\n",
    "    mean_rating = movielens_train.loc[movie_cond,'rating'].mean()\n",
    "    return mean_rating\n",
    "\n",
    "    \n",
    "# try it out for a user_id, movie_id pair\n",
    "collab_mean(4653, 2648)"
   ]
  },
  {
   "cell_type": "code",
   "execution_count": 27,
   "metadata": {
    "collapsed": false
   },
   "outputs": [
    {
     "data": {
      "text/html": [
       "<div>\n",
       "<table border=\"1\" class=\"dataframe\">\n",
       "  <thead>\n",
       "    <tr style=\"text-align: right;\">\n",
       "      <th></th>\n",
       "      <th>user_id</th>\n",
       "      <th>movie_id</th>\n",
       "      <th>rating</th>\n",
       "      <th>timestamp</th>\n",
       "      <th>gender</th>\n",
       "      <th>age</th>\n",
       "      <th>occupation</th>\n",
       "      <th>zip</th>\n",
       "      <th>title</th>\n",
       "      <th>genres</th>\n",
       "      <th>for_testing</th>\n",
       "    </tr>\n",
       "  </thead>\n",
       "  <tbody>\n",
       "    <tr>\n",
       "      <th>693112</th>\n",
       "      <td>1717</td>\n",
       "      <td>2648</td>\n",
       "      <td>5</td>\n",
       "      <td>974706281</td>\n",
       "      <td>F</td>\n",
       "      <td>50</td>\n",
       "      <td>6</td>\n",
       "      <td>30307</td>\n",
       "      <td>Frankenstein (1931)</td>\n",
       "      <td>Horror</td>\n",
       "      <td>False</td>\n",
       "    </tr>\n",
       "    <tr>\n",
       "      <th>693286</th>\n",
       "      <td>4260</td>\n",
       "      <td>2648</td>\n",
       "      <td>3</td>\n",
       "      <td>965322649</td>\n",
       "      <td>M</td>\n",
       "      <td>25</td>\n",
       "      <td>16</td>\n",
       "      <td>59079</td>\n",
       "      <td>Frankenstein (1931)</td>\n",
       "      <td>Horror</td>\n",
       "      <td>False</td>\n",
       "    </tr>\n",
       "  </tbody>\n",
       "</table>\n",
       "</div>"
      ],
      "text/plain": [
       "        user_id  movie_id  rating  timestamp gender  age  occupation    zip  \\\n",
       "693112     1717      2648       5  974706281      F   50           6  30307   \n",
       "693286     4260      2648       3  965322649      M   25          16  59079   \n",
       "\n",
       "                      title  genres for_testing  \n",
       "693112  Frankenstein (1931)  Horror       False  \n",
       "693286  Frankenstein (1931)  Horror       False  "
      ]
     },
     "execution_count": 27,
     "metadata": {},
     "output_type": "execute_result"
    }
   ],
   "source": [
    "movielens_train[movielens_train['movie_id']==2648]"
   ]
  },
  {
   "cell_type": "code",
   "execution_count": 28,
   "metadata": {
    "collapsed": false
   },
   "outputs": [
    {
     "data": {
      "text/html": [
       "<div>\n",
       "<table border=\"1\" class=\"dataframe\">\n",
       "  <thead>\n",
       "    <tr style=\"text-align: right;\">\n",
       "      <th></th>\n",
       "      <th>user_id</th>\n",
       "      <th>movie_id</th>\n",
       "      <th>rating</th>\n",
       "      <th>timestamp</th>\n",
       "      <th>gender</th>\n",
       "      <th>age</th>\n",
       "      <th>occupation</th>\n",
       "      <th>zip</th>\n",
       "      <th>title</th>\n",
       "      <th>genres</th>\n",
       "      <th>for_testing</th>\n",
       "    </tr>\n",
       "  </thead>\n",
       "  <tbody>\n",
       "    <tr>\n",
       "      <th>693112</th>\n",
       "      <td>1717</td>\n",
       "      <td>2648</td>\n",
       "      <td>5</td>\n",
       "      <td>974706281</td>\n",
       "      <td>F</td>\n",
       "      <td>50</td>\n",
       "      <td>6</td>\n",
       "      <td>30307</td>\n",
       "      <td>Frankenstein (1931)</td>\n",
       "      <td>Horror</td>\n",
       "      <td>False</td>\n",
       "    </tr>\n",
       "    <tr>\n",
       "      <th>693286</th>\n",
       "      <td>4260</td>\n",
       "      <td>2648</td>\n",
       "      <td>3</td>\n",
       "      <td>965322649</td>\n",
       "      <td>M</td>\n",
       "      <td>25</td>\n",
       "      <td>16</td>\n",
       "      <td>59079</td>\n",
       "      <td>Frankenstein (1931)</td>\n",
       "      <td>Horror</td>\n",
       "      <td>False</td>\n",
       "    </tr>\n",
       "  </tbody>\n",
       "</table>\n",
       "</div>"
      ],
      "text/plain": [
       "        user_id  movie_id  rating  timestamp gender  age  occupation    zip  \\\n",
       "693112     1717      2648       5  974706281      F   50           6  30307   \n",
       "693286     4260      2648       3  965322649      M   25          16  59079   \n",
       "\n",
       "                      title  genres for_testing  \n",
       "693112  Frankenstein (1931)  Horror       False  \n",
       "693286  Frankenstein (1931)  Horror       False  "
      ]
     },
     "execution_count": 28,
     "metadata": {},
     "output_type": "execute_result"
    }
   ],
   "source": [
    "user_condition = movielens_train['user_id'] !=4653\n",
    "movie_cond = movielens_train['movie_id']== 2648\n",
    "rating_by_others = movielens_train.loc[user_condition & movie_cond]\n",
    "rating_by_others"
   ]
  },
  {
   "cell_type": "code",
   "execution_count": 29,
   "metadata": {
    "collapsed": false
   },
   "outputs": [
    {
     "name": "stdout",
     "output_type": "stream",
     "text": [
      "4.0\n",
      "[ 4.          4.          3.57142857 ...,  4.          4.4         2.16666667]\n",
      "RMSE 1.1234279896\n"
     ]
    }
   ],
   "source": [
    "def collab_mean(user_id, movie_id):\n",
    "    # first, index into all ratings of this movie\n",
    "    # second, compute the mean of those ratings\n",
    "    user_condition = movielens_train['user_id'] !=user_id\n",
    "    movie_cond = movielens_train['movie_id']== movie_id\n",
    "    #print(movie_cond.sum())\n",
    "    #print(pd.DataFrame(ratings))\n",
    "    rating_by_others = movielens_train.loc[user_condition & movie_cond]\n",
    "    #print(rating_by_others.rating)\n",
    "    #mean_rating = movielens_train.loc[movie_cond,'rating'].mean()\n",
    "    if rating_by_others.empty:\n",
    "        return 3.0\n",
    "    else:\n",
    "        return rating_by_others.rating.mean()\n",
    "\n",
    "    \n",
    "# try it out for a user_id, movie_id pair\n",
    "print(collab_mean(4653, 2648))\n",
    "print('RMSE %s'%evaluate(collab_mean))"
   ]
  },
  {
   "cell_type": "code",
   "execution_count": 30,
   "metadata": {
    "collapsed": false
   },
   "outputs": [
    {
     "data": {
      "text/html": [
       "<div>\n",
       "<table border=\"1\" class=\"dataframe\">\n",
       "  <thead>\n",
       "    <tr style=\"text-align: right;\">\n",
       "      <th></th>\n",
       "      <th>user_id</th>\n",
       "      <th>movie_id</th>\n",
       "      <th>rating</th>\n",
       "      <th>timestamp</th>\n",
       "      <th>gender</th>\n",
       "      <th>age</th>\n",
       "      <th>occupation</th>\n",
       "      <th>zip</th>\n",
       "      <th>title</th>\n",
       "      <th>genres</th>\n",
       "      <th>for_testing</th>\n",
       "    </tr>\n",
       "  </thead>\n",
       "  <tbody>\n",
       "    <tr>\n",
       "      <th>693323</th>\n",
       "      <td>4653</td>\n",
       "      <td>2648</td>\n",
       "      <td>4</td>\n",
       "      <td>975532459</td>\n",
       "      <td>M</td>\n",
       "      <td>35</td>\n",
       "      <td>12</td>\n",
       "      <td>95051</td>\n",
       "      <td>Frankenstein (1931)</td>\n",
       "      <td>Horror</td>\n",
       "      <td>False</td>\n",
       "    </tr>\n",
       "  </tbody>\n",
       "</table>\n",
       "</div>"
      ],
      "text/plain": [
       "        user_id  movie_id  rating  timestamp gender  age  occupation    zip  \\\n",
       "693323     4653      2648       4  975532459      M   35          12  95051   \n",
       "\n",
       "                      title  genres for_testing  \n",
       "693323  Frankenstein (1931)  Horror       False  "
      ]
     },
     "execution_count": 30,
     "metadata": {},
     "output_type": "execute_result"
    }
   ],
   "source": [
    "movielens_test[movielens_test['movie_id'] == 2648]"
   ]
  },
  {
   "cell_type": "code",
   "execution_count": 31,
   "metadata": {
    "collapsed": false
   },
   "outputs": [
    {
     "data": {
      "text/html": [
       "<div>\n",
       "<table border=\"1\" class=\"dataframe\">\n",
       "  <thead>\n",
       "    <tr style=\"text-align: right;\">\n",
       "      <th></th>\n",
       "      <th>user_id</th>\n",
       "      <th>movie_id</th>\n",
       "      <th>rating</th>\n",
       "      <th>timestamp</th>\n",
       "      <th>gender</th>\n",
       "      <th>age</th>\n",
       "      <th>occupation</th>\n",
       "      <th>zip</th>\n",
       "      <th>title</th>\n",
       "      <th>genres</th>\n",
       "      <th>for_testing</th>\n",
       "    </tr>\n",
       "  </thead>\n",
       "  <tbody>\n",
       "    <tr>\n",
       "      <th>593263</th>\n",
       "      <td>3562</td>\n",
       "      <td>3798</td>\n",
       "      <td>4</td>\n",
       "      <td>967332344</td>\n",
       "      <td>F</td>\n",
       "      <td>25</td>\n",
       "      <td>6</td>\n",
       "      <td>32812</td>\n",
       "      <td>What Lies Beneath (2000)</td>\n",
       "      <td>Thriller</td>\n",
       "      <td>False</td>\n",
       "    </tr>\n",
       "    <tr>\n",
       "      <th>235597</th>\n",
       "      <td>1051</td>\n",
       "      <td>3793</td>\n",
       "      <td>4</td>\n",
       "      <td>974958593</td>\n",
       "      <td>F</td>\n",
       "      <td>25</td>\n",
       "      <td>0</td>\n",
       "      <td>60513</td>\n",
       "      <td>X-Men (2000)</td>\n",
       "      <td>Action|Sci-Fi</td>\n",
       "      <td>False</td>\n",
       "    </tr>\n",
       "    <tr>\n",
       "      <th>219003</th>\n",
       "      <td>3727</td>\n",
       "      <td>2366</td>\n",
       "      <td>3</td>\n",
       "      <td>966309522</td>\n",
       "      <td>M</td>\n",
       "      <td>35</td>\n",
       "      <td>7</td>\n",
       "      <td>74401</td>\n",
       "      <td>King Kong (1933)</td>\n",
       "      <td>Action|Adventure|Horror</td>\n",
       "      <td>False</td>\n",
       "    </tr>\n",
       "    <tr>\n",
       "      <th>685090</th>\n",
       "      <td>4666</td>\n",
       "      <td>1094</td>\n",
       "      <td>3</td>\n",
       "      <td>963843918</td>\n",
       "      <td>M</td>\n",
       "      <td>35</td>\n",
       "      <td>1</td>\n",
       "      <td>53704</td>\n",
       "      <td>Crying Game, The (1992)</td>\n",
       "      <td>Drama|Romance|War</td>\n",
       "      <td>False</td>\n",
       "    </tr>\n",
       "    <tr>\n",
       "      <th>312377</th>\n",
       "      <td>3261</td>\n",
       "      <td>1095</td>\n",
       "      <td>4</td>\n",
       "      <td>968251750</td>\n",
       "      <td>M</td>\n",
       "      <td>45</td>\n",
       "      <td>20</td>\n",
       "      <td>87505</td>\n",
       "      <td>Glengarry Glen Ross (1992)</td>\n",
       "      <td>Drama</td>\n",
       "      <td>False</td>\n",
       "    </tr>\n",
       "    <tr>\n",
       "      <th>916102</th>\n",
       "      <td>1139</td>\n",
       "      <td>3317</td>\n",
       "      <td>5</td>\n",
       "      <td>987819143</td>\n",
       "      <td>M</td>\n",
       "      <td>25</td>\n",
       "      <td>1</td>\n",
       "      <td>93420-2852</td>\n",
       "      <td>Wonder Boys (2000)</td>\n",
       "      <td>Comedy|Drama</td>\n",
       "      <td>False</td>\n",
       "    </tr>\n",
       "    <tr>\n",
       "      <th>757805</th>\n",
       "      <td>2507</td>\n",
       "      <td>3707</td>\n",
       "      <td>2</td>\n",
       "      <td>974082793</td>\n",
       "      <td>M</td>\n",
       "      <td>25</td>\n",
       "      <td>4</td>\n",
       "      <td>94107</td>\n",
       "      <td>Nine 1/2 Weeks (1986)</td>\n",
       "      <td>Drama</td>\n",
       "      <td>False</td>\n",
       "    </tr>\n",
       "    <tr>\n",
       "      <th>216517</th>\n",
       "      <td>2664</td>\n",
       "      <td>1036</td>\n",
       "      <td>5</td>\n",
       "      <td>973455698</td>\n",
       "      <td>M</td>\n",
       "      <td>35</td>\n",
       "      <td>7</td>\n",
       "      <td>52402</td>\n",
       "      <td>Die Hard (1988)</td>\n",
       "      <td>Action|Thriller</td>\n",
       "      <td>False</td>\n",
       "    </tr>\n",
       "    <tr>\n",
       "      <th>28065</th>\n",
       "      <td>5792</td>\n",
       "      <td>527</td>\n",
       "      <td>5</td>\n",
       "      <td>958082168</td>\n",
       "      <td>M</td>\n",
       "      <td>25</td>\n",
       "      <td>17</td>\n",
       "      <td>43201</td>\n",
       "      <td>Schindler's List (1993)</td>\n",
       "      <td>Drama|War</td>\n",
       "      <td>False</td>\n",
       "    </tr>\n",
       "    <tr>\n",
       "      <th>284940</th>\n",
       "      <td>3395</td>\n",
       "      <td>2959</td>\n",
       "      <td>3</td>\n",
       "      <td>967487438</td>\n",
       "      <td>M</td>\n",
       "      <td>25</td>\n",
       "      <td>7</td>\n",
       "      <td>02134</td>\n",
       "      <td>Fight Club (1999)</td>\n",
       "      <td>Drama</td>\n",
       "      <td>False</td>\n",
       "    </tr>\n",
       "    <tr>\n",
       "      <th>677643</th>\n",
       "      <td>4213</td>\n",
       "      <td>466</td>\n",
       "      <td>4</td>\n",
       "      <td>965839559</td>\n",
       "      <td>M</td>\n",
       "      <td>35</td>\n",
       "      <td>7</td>\n",
       "      <td>63125</td>\n",
       "      <td>Hot Shots! Part Deux (1993)</td>\n",
       "      <td>Action|Comedy|War</td>\n",
       "      <td>False</td>\n",
       "    </tr>\n",
       "    <tr>\n",
       "      <th>241780</th>\n",
       "      <td>2550</td>\n",
       "      <td>296</td>\n",
       "      <td>4</td>\n",
       "      <td>974030424</td>\n",
       "      <td>M</td>\n",
       "      <td>50</td>\n",
       "      <td>7</td>\n",
       "      <td>37931</td>\n",
       "      <td>Pulp Fiction (1994)</td>\n",
       "      <td>Crime|Drama</td>\n",
       "      <td>False</td>\n",
       "    </tr>\n",
       "    <tr>\n",
       "      <th>487663</th>\n",
       "      <td>1230</td>\n",
       "      <td>3704</td>\n",
       "      <td>4</td>\n",
       "      <td>974836558</td>\n",
       "      <td>M</td>\n",
       "      <td>25</td>\n",
       "      <td>11</td>\n",
       "      <td>95125</td>\n",
       "      <td>Mad Max Beyond Thunderdome (1985)</td>\n",
       "      <td>Action|Sci-Fi</td>\n",
       "      <td>False</td>\n",
       "    </tr>\n",
       "    <tr>\n",
       "      <th>647317</th>\n",
       "      <td>1219</td>\n",
       "      <td>2533</td>\n",
       "      <td>2</td>\n",
       "      <td>1003845122</td>\n",
       "      <td>M</td>\n",
       "      <td>25</td>\n",
       "      <td>7</td>\n",
       "      <td>12206</td>\n",
       "      <td>Escape from the Planet of the Apes (1971)</td>\n",
       "      <td>Action|Sci-Fi</td>\n",
       "      <td>False</td>\n",
       "    </tr>\n",
       "    <tr>\n",
       "      <th>8747</th>\n",
       "      <td>4510</td>\n",
       "      <td>1287</td>\n",
       "      <td>3</td>\n",
       "      <td>964990792</td>\n",
       "      <td>M</td>\n",
       "      <td>45</td>\n",
       "      <td>7</td>\n",
       "      <td>92503</td>\n",
       "      <td>Ben-Hur (1959)</td>\n",
       "      <td>Action|Adventure|Drama</td>\n",
       "      <td>False</td>\n",
       "    </tr>\n",
       "    <tr>\n",
       "      <th>8203</th>\n",
       "      <td>5992</td>\n",
       "      <td>1197</td>\n",
       "      <td>5</td>\n",
       "      <td>956865152</td>\n",
       "      <td>F</td>\n",
       "      <td>18</td>\n",
       "      <td>4</td>\n",
       "      <td>21046</td>\n",
       "      <td>Princess Bride, The (1987)</td>\n",
       "      <td>Action|Adventure|Comedy|Romance</td>\n",
       "      <td>False</td>\n",
       "    </tr>\n",
       "    <tr>\n",
       "      <th>926550</th>\n",
       "      <td>4458</td>\n",
       "      <td>2448</td>\n",
       "      <td>2</td>\n",
       "      <td>966200199</td>\n",
       "      <td>F</td>\n",
       "      <td>25</td>\n",
       "      <td>4</td>\n",
       "      <td>15701-2017</td>\n",
       "      <td>Virus (1999)</td>\n",
       "      <td>Horror|Sci-Fi</td>\n",
       "      <td>False</td>\n",
       "    </tr>\n",
       "    <tr>\n",
       "      <th>637336</th>\n",
       "      <td>5675</td>\n",
       "      <td>293</td>\n",
       "      <td>4</td>\n",
       "      <td>958682607</td>\n",
       "      <td>M</td>\n",
       "      <td>35</td>\n",
       "      <td>14</td>\n",
       "      <td>30030</td>\n",
       "      <td>Professional, The (a.k.a. Leon: The Profession...</td>\n",
       "      <td>Crime|Drama|Romance|Thriller</td>\n",
       "      <td>False</td>\n",
       "    </tr>\n",
       "    <tr>\n",
       "      <th>900406</th>\n",
       "      <td>5854</td>\n",
       "      <td>2793</td>\n",
       "      <td>4</td>\n",
       "      <td>958273894</td>\n",
       "      <td>M</td>\n",
       "      <td>45</td>\n",
       "      <td>7</td>\n",
       "      <td>33135</td>\n",
       "      <td>American Werewolf in Paris, An (1997)</td>\n",
       "      <td>Comedy|Horror</td>\n",
       "      <td>False</td>\n",
       "    </tr>\n",
       "    <tr>\n",
       "      <th>612863</th>\n",
       "      <td>4532</td>\n",
       "      <td>1645</td>\n",
       "      <td>3</td>\n",
       "      <td>966029633</td>\n",
       "      <td>M</td>\n",
       "      <td>25</td>\n",
       "      <td>7</td>\n",
       "      <td>10025</td>\n",
       "      <td>Devil's Advocate, The (1997)</td>\n",
       "      <td>Crime|Horror|Mystery|Thriller</td>\n",
       "      <td>False</td>\n",
       "    </tr>\n",
       "    <tr>\n",
       "      <th>662005</th>\n",
       "      <td>4510</td>\n",
       "      <td>2085</td>\n",
       "      <td>4</td>\n",
       "      <td>964980393</td>\n",
       "      <td>M</td>\n",
       "      <td>45</td>\n",
       "      <td>7</td>\n",
       "      <td>92503</td>\n",
       "      <td>101 Dalmatians (1961)</td>\n",
       "      <td>Animation|Children's</td>\n",
       "      <td>False</td>\n",
       "    </tr>\n",
       "    <tr>\n",
       "      <th>773298</th>\n",
       "      <td>3704</td>\n",
       "      <td>2313</td>\n",
       "      <td>4</td>\n",
       "      <td>967160696</td>\n",
       "      <td>F</td>\n",
       "      <td>35</td>\n",
       "      <td>0</td>\n",
       "      <td>04255</td>\n",
       "      <td>Elephant Man, The (1980)</td>\n",
       "      <td>Drama</td>\n",
       "      <td>False</td>\n",
       "    </tr>\n",
       "    <tr>\n",
       "      <th>707370</th>\n",
       "      <td>980</td>\n",
       "      <td>3000</td>\n",
       "      <td>5</td>\n",
       "      <td>975731496</td>\n",
       "      <td>M</td>\n",
       "      <td>25</td>\n",
       "      <td>6</td>\n",
       "      <td>92014</td>\n",
       "      <td>Princess Mononoke, The (Mononoke Hime) (1997)</td>\n",
       "      <td>Action|Adventure|Animation</td>\n",
       "      <td>False</td>\n",
       "    </tr>\n",
       "    <tr>\n",
       "      <th>994951</th>\n",
       "      <td>3618</td>\n",
       "      <td>3368</td>\n",
       "      <td>3</td>\n",
       "      <td>966862995</td>\n",
       "      <td>M</td>\n",
       "      <td>56</td>\n",
       "      <td>17</td>\n",
       "      <td>22657</td>\n",
       "      <td>Big Country, The (1958)</td>\n",
       "      <td>Romance|Western</td>\n",
       "      <td>False</td>\n",
       "    </tr>\n",
       "    <tr>\n",
       "      <th>30581</th>\n",
       "      <td>4658</td>\n",
       "      <td>1097</td>\n",
       "      <td>4</td>\n",
       "      <td>963878831</td>\n",
       "      <td>M</td>\n",
       "      <td>25</td>\n",
       "      <td>4</td>\n",
       "      <td>99163</td>\n",
       "      <td>E.T. the Extra-Terrestrial (1982)</td>\n",
       "      <td>Children's|Drama|Fantasy|Sci-Fi</td>\n",
       "      <td>False</td>\n",
       "    </tr>\n",
       "    <tr>\n",
       "      <th>538648</th>\n",
       "      <td>5339</td>\n",
       "      <td>2021</td>\n",
       "      <td>3</td>\n",
       "      <td>960713073</td>\n",
       "      <td>M</td>\n",
       "      <td>18</td>\n",
       "      <td>17</td>\n",
       "      <td>60193</td>\n",
       "      <td>Dune (1984)</td>\n",
       "      <td>Fantasy|Sci-Fi</td>\n",
       "      <td>False</td>\n",
       "    </tr>\n",
       "    <tr>\n",
       "      <th>799606</th>\n",
       "      <td>5585</td>\n",
       "      <td>846</td>\n",
       "      <td>5</td>\n",
       "      <td>959489268</td>\n",
       "      <td>M</td>\n",
       "      <td>25</td>\n",
       "      <td>4</td>\n",
       "      <td>10016</td>\n",
       "      <td>Flirt (1995)</td>\n",
       "      <td>Drama</td>\n",
       "      <td>False</td>\n",
       "    </tr>\n",
       "    <tr>\n",
       "      <th>821550</th>\n",
       "      <td>1191</td>\n",
       "      <td>1946</td>\n",
       "      <td>5</td>\n",
       "      <td>974851371</td>\n",
       "      <td>F</td>\n",
       "      <td>35</td>\n",
       "      <td>0</td>\n",
       "      <td>98117</td>\n",
       "      <td>Marty (1955)</td>\n",
       "      <td>Drama|Romance</td>\n",
       "      <td>False</td>\n",
       "    </tr>\n",
       "    <tr>\n",
       "      <th>309693</th>\n",
       "      <td>4248</td>\n",
       "      <td>24</td>\n",
       "      <td>4</td>\n",
       "      <td>965308542</td>\n",
       "      <td>M</td>\n",
       "      <td>25</td>\n",
       "      <td>4</td>\n",
       "      <td>26508</td>\n",
       "      <td>Powder (1995)</td>\n",
       "      <td>Drama|Sci-Fi</td>\n",
       "      <td>False</td>\n",
       "    </tr>\n",
       "    <tr>\n",
       "      <th>388758</th>\n",
       "      <td>2818</td>\n",
       "      <td>1673</td>\n",
       "      <td>4</td>\n",
       "      <td>972669759</td>\n",
       "      <td>M</td>\n",
       "      <td>25</td>\n",
       "      <td>12</td>\n",
       "      <td>55106</td>\n",
       "      <td>Boogie Nights (1997)</td>\n",
       "      <td>Drama</td>\n",
       "      <td>False</td>\n",
       "    </tr>\n",
       "    <tr>\n",
       "      <th>...</th>\n",
       "      <td>...</td>\n",
       "      <td>...</td>\n",
       "      <td>...</td>\n",
       "      <td>...</td>\n",
       "      <td>...</td>\n",
       "      <td>...</td>\n",
       "      <td>...</td>\n",
       "      <td>...</td>\n",
       "      <td>...</td>\n",
       "      <td>...</td>\n",
       "      <td>...</td>\n",
       "    </tr>\n",
       "    <tr>\n",
       "      <th>548487</th>\n",
       "      <td>4480</td>\n",
       "      <td>2108</td>\n",
       "      <td>2</td>\n",
       "      <td>965108214</td>\n",
       "      <td>M</td>\n",
       "      <td>25</td>\n",
       "      <td>0</td>\n",
       "      <td>94403</td>\n",
       "      <td>L.A. Story (1991)</td>\n",
       "      <td>Comedy|Romance</td>\n",
       "      <td>False</td>\n",
       "    </tr>\n",
       "    <tr>\n",
       "      <th>56665</th>\n",
       "      <td>5424</td>\n",
       "      <td>3114</td>\n",
       "      <td>4</td>\n",
       "      <td>968471730</td>\n",
       "      <td>F</td>\n",
       "      <td>35</td>\n",
       "      <td>2</td>\n",
       "      <td>80012</td>\n",
       "      <td>Toy Story 2 (1999)</td>\n",
       "      <td>Animation|Children's|Comedy</td>\n",
       "      <td>False</td>\n",
       "    </tr>\n",
       "    <tr>\n",
       "      <th>880205</th>\n",
       "      <td>5220</td>\n",
       "      <td>1011</td>\n",
       "      <td>3</td>\n",
       "      <td>961551631</td>\n",
       "      <td>M</td>\n",
       "      <td>25</td>\n",
       "      <td>7</td>\n",
       "      <td>91436</td>\n",
       "      <td>Herbie Rides Again (1974)</td>\n",
       "      <td>Adventure|Children's|Comedy</td>\n",
       "      <td>False</td>\n",
       "    </tr>\n",
       "    <tr>\n",
       "      <th>491480</th>\n",
       "      <td>271</td>\n",
       "      <td>1025</td>\n",
       "      <td>4</td>\n",
       "      <td>976636109</td>\n",
       "      <td>M</td>\n",
       "      <td>18</td>\n",
       "      <td>4</td>\n",
       "      <td>48202</td>\n",
       "      <td>Sword in the Stone, The (1963)</td>\n",
       "      <td>Animation|Children's</td>\n",
       "      <td>False</td>\n",
       "    </tr>\n",
       "    <tr>\n",
       "      <th>248580</th>\n",
       "      <td>4626</td>\n",
       "      <td>6</td>\n",
       "      <td>5</td>\n",
       "      <td>964112809</td>\n",
       "      <td>M</td>\n",
       "      <td>25</td>\n",
       "      <td>14</td>\n",
       "      <td>97219</td>\n",
       "      <td>Heat (1995)</td>\n",
       "      <td>Action|Crime|Thriller</td>\n",
       "      <td>False</td>\n",
       "    </tr>\n",
       "    <tr>\n",
       "      <th>278225</th>\n",
       "      <td>4397</td>\n",
       "      <td>3176</td>\n",
       "      <td>2</td>\n",
       "      <td>965159917</td>\n",
       "      <td>M</td>\n",
       "      <td>18</td>\n",
       "      <td>4</td>\n",
       "      <td>43402</td>\n",
       "      <td>Talented Mr. Ripley, The (1999)</td>\n",
       "      <td>Drama|Mystery|Thriller</td>\n",
       "      <td>False</td>\n",
       "    </tr>\n",
       "    <tr>\n",
       "      <th>152149</th>\n",
       "      <td>3013</td>\n",
       "      <td>1124</td>\n",
       "      <td>3</td>\n",
       "      <td>970522566</td>\n",
       "      <td>M</td>\n",
       "      <td>45</td>\n",
       "      <td>17</td>\n",
       "      <td>97124</td>\n",
       "      <td>On Golden Pond (1981)</td>\n",
       "      <td>Drama</td>\n",
       "      <td>False</td>\n",
       "    </tr>\n",
       "    <tr>\n",
       "      <th>737848</th>\n",
       "      <td>5691</td>\n",
       "      <td>3104</td>\n",
       "      <td>4</td>\n",
       "      <td>958599228</td>\n",
       "      <td>M</td>\n",
       "      <td>35</td>\n",
       "      <td>14</td>\n",
       "      <td>66013</td>\n",
       "      <td>Midnight Run (1988)</td>\n",
       "      <td>Action|Adventure|Comedy|Crime</td>\n",
       "      <td>False</td>\n",
       "    </tr>\n",
       "    <tr>\n",
       "      <th>716473</th>\n",
       "      <td>3931</td>\n",
       "      <td>2671</td>\n",
       "      <td>3</td>\n",
       "      <td>965710396</td>\n",
       "      <td>M</td>\n",
       "      <td>25</td>\n",
       "      <td>5</td>\n",
       "      <td>92117</td>\n",
       "      <td>Notting Hill (1999)</td>\n",
       "      <td>Comedy|Romance</td>\n",
       "      <td>False</td>\n",
       "    </tr>\n",
       "    <tr>\n",
       "      <th>162703</th>\n",
       "      <td>2405</td>\n",
       "      <td>920</td>\n",
       "      <td>5</td>\n",
       "      <td>974257889</td>\n",
       "      <td>M</td>\n",
       "      <td>50</td>\n",
       "      <td>8</td>\n",
       "      <td>78065</td>\n",
       "      <td>Gone with the Wind (1939)</td>\n",
       "      <td>Drama|Romance|War</td>\n",
       "      <td>False</td>\n",
       "    </tr>\n",
       "    <tr>\n",
       "      <th>928420</th>\n",
       "      <td>4725</td>\n",
       "      <td>2092</td>\n",
       "      <td>3</td>\n",
       "      <td>963375618</td>\n",
       "      <td>M</td>\n",
       "      <td>35</td>\n",
       "      <td>5</td>\n",
       "      <td>96707-1321</td>\n",
       "      <td>Return of Jafar, The (1993)</td>\n",
       "      <td>Animation|Children's|Musical</td>\n",
       "      <td>False</td>\n",
       "    </tr>\n",
       "    <tr>\n",
       "      <th>107273</th>\n",
       "      <td>433</td>\n",
       "      <td>2858</td>\n",
       "      <td>4</td>\n",
       "      <td>976248628</td>\n",
       "      <td>M</td>\n",
       "      <td>50</td>\n",
       "      <td>6</td>\n",
       "      <td>55115</td>\n",
       "      <td>American Beauty (1999)</td>\n",
       "      <td>Comedy|Drama</td>\n",
       "      <td>False</td>\n",
       "    </tr>\n",
       "    <tr>\n",
       "      <th>349073</th>\n",
       "      <td>1513</td>\n",
       "      <td>1997</td>\n",
       "      <td>2</td>\n",
       "      <td>974749968</td>\n",
       "      <td>F</td>\n",
       "      <td>35</td>\n",
       "      <td>16</td>\n",
       "      <td>95003</td>\n",
       "      <td>Exorcist, The (1973)</td>\n",
       "      <td>Horror</td>\n",
       "      <td>False</td>\n",
       "    </tr>\n",
       "    <tr>\n",
       "      <th>139488</th>\n",
       "      <td>2772</td>\n",
       "      <td>95</td>\n",
       "      <td>3</td>\n",
       "      <td>973228634</td>\n",
       "      <td>M</td>\n",
       "      <td>35</td>\n",
       "      <td>17</td>\n",
       "      <td>10025</td>\n",
       "      <td>Broken Arrow (1996)</td>\n",
       "      <td>Action|Thriller</td>\n",
       "      <td>False</td>\n",
       "    </tr>\n",
       "    <tr>\n",
       "      <th>256262</th>\n",
       "      <td>5113</td>\n",
       "      <td>3083</td>\n",
       "      <td>5</td>\n",
       "      <td>963316896</td>\n",
       "      <td>M</td>\n",
       "      <td>25</td>\n",
       "      <td>0</td>\n",
       "      <td>55408</td>\n",
       "      <td>All About My Mother (Todo Sobre Mi Madre) (1999)</td>\n",
       "      <td>Comedy|Drama</td>\n",
       "      <td>False</td>\n",
       "    </tr>\n",
       "    <tr>\n",
       "      <th>888129</th>\n",
       "      <td>5526</td>\n",
       "      <td>1280</td>\n",
       "      <td>5</td>\n",
       "      <td>963100222</td>\n",
       "      <td>F</td>\n",
       "      <td>35</td>\n",
       "      <td>2</td>\n",
       "      <td>27514</td>\n",
       "      <td>Raise the Red Lantern (1991)</td>\n",
       "      <td>Drama</td>\n",
       "      <td>False</td>\n",
       "    </tr>\n",
       "    <tr>\n",
       "      <th>950896</th>\n",
       "      <td>2173</td>\n",
       "      <td>3921</td>\n",
       "      <td>2</td>\n",
       "      <td>974610494</td>\n",
       "      <td>M</td>\n",
       "      <td>50</td>\n",
       "      <td>13</td>\n",
       "      <td>87502</td>\n",
       "      <td>Beach Party (1963)</td>\n",
       "      <td>Comedy</td>\n",
       "      <td>False</td>\n",
       "    </tr>\n",
       "    <tr>\n",
       "      <th>668851</th>\n",
       "      <td>4126</td>\n",
       "      <td>2253</td>\n",
       "      <td>2</td>\n",
       "      <td>976487134</td>\n",
       "      <td>M</td>\n",
       "      <td>25</td>\n",
       "      <td>17</td>\n",
       "      <td>53188</td>\n",
       "      <td>Toys (1992)</td>\n",
       "      <td>Action|Comedy|Fantasy</td>\n",
       "      <td>False</td>\n",
       "    </tr>\n",
       "    <tr>\n",
       "      <th>739828</th>\n",
       "      <td>3031</td>\n",
       "      <td>11</td>\n",
       "      <td>3</td>\n",
       "      <td>970356439</td>\n",
       "      <td>M</td>\n",
       "      <td>18</td>\n",
       "      <td>4</td>\n",
       "      <td>48135</td>\n",
       "      <td>American President, The (1995)</td>\n",
       "      <td>Comedy|Drama|Romance</td>\n",
       "      <td>False</td>\n",
       "    </tr>\n",
       "    <tr>\n",
       "      <th>393014</th>\n",
       "      <td>770</td>\n",
       "      <td>223</td>\n",
       "      <td>3</td>\n",
       "      <td>980588023</td>\n",
       "      <td>M</td>\n",
       "      <td>18</td>\n",
       "      <td>4</td>\n",
       "      <td>98499</td>\n",
       "      <td>Clerks (1994)</td>\n",
       "      <td>Comedy</td>\n",
       "      <td>False</td>\n",
       "    </tr>\n",
       "    <tr>\n",
       "      <th>500935</th>\n",
       "      <td>3946</td>\n",
       "      <td>3087</td>\n",
       "      <td>5</td>\n",
       "      <td>965747927</td>\n",
       "      <td>F</td>\n",
       "      <td>25</td>\n",
       "      <td>12</td>\n",
       "      <td>22207</td>\n",
       "      <td>Scrooged (1988)</td>\n",
       "      <td>Comedy</td>\n",
       "      <td>False</td>\n",
       "    </tr>\n",
       "    <tr>\n",
       "      <th>397583</th>\n",
       "      <td>26</td>\n",
       "      <td>1777</td>\n",
       "      <td>2</td>\n",
       "      <td>978139056</td>\n",
       "      <td>M</td>\n",
       "      <td>25</td>\n",
       "      <td>7</td>\n",
       "      <td>23112</td>\n",
       "      <td>Wedding Singer, The (1998)</td>\n",
       "      <td>Comedy|Romance</td>\n",
       "      <td>False</td>\n",
       "    </tr>\n",
       "    <tr>\n",
       "      <th>424247</th>\n",
       "      <td>377</td>\n",
       "      <td>1252</td>\n",
       "      <td>4</td>\n",
       "      <td>976303616</td>\n",
       "      <td>M</td>\n",
       "      <td>25</td>\n",
       "      <td>17</td>\n",
       "      <td>55418</td>\n",
       "      <td>Chinatown (1974)</td>\n",
       "      <td>Film-Noir|Mystery|Thriller</td>\n",
       "      <td>False</td>\n",
       "    </tr>\n",
       "    <tr>\n",
       "      <th>942640</th>\n",
       "      <td>2907</td>\n",
       "      <td>3901</td>\n",
       "      <td>5</td>\n",
       "      <td>994534844</td>\n",
       "      <td>F</td>\n",
       "      <td>35</td>\n",
       "      <td>5</td>\n",
       "      <td>12345</td>\n",
       "      <td>Duets (2000)</td>\n",
       "      <td>Comedy|Drama</td>\n",
       "      <td>False</td>\n",
       "    </tr>\n",
       "    <tr>\n",
       "      <th>249648</th>\n",
       "      <td>6037</td>\n",
       "      <td>3006</td>\n",
       "      <td>4</td>\n",
       "      <td>956709265</td>\n",
       "      <td>F</td>\n",
       "      <td>45</td>\n",
       "      <td>1</td>\n",
       "      <td>76006</td>\n",
       "      <td>Insider, The (1999)</td>\n",
       "      <td>Drama</td>\n",
       "      <td>False</td>\n",
       "    </tr>\n",
       "    <tr>\n",
       "      <th>418478</th>\n",
       "      <td>3497</td>\n",
       "      <td>1307</td>\n",
       "      <td>4</td>\n",
       "      <td>967182849</td>\n",
       "      <td>F</td>\n",
       "      <td>35</td>\n",
       "      <td>2</td>\n",
       "      <td>94109</td>\n",
       "      <td>When Harry Met Sally... (1989)</td>\n",
       "      <td>Comedy|Romance</td>\n",
       "      <td>False</td>\n",
       "    </tr>\n",
       "    <tr>\n",
       "      <th>730445</th>\n",
       "      <td>1873</td>\n",
       "      <td>1249</td>\n",
       "      <td>3</td>\n",
       "      <td>975131511</td>\n",
       "      <td>M</td>\n",
       "      <td>35</td>\n",
       "      <td>7</td>\n",
       "      <td>02127</td>\n",
       "      <td>Nikita (La Femme Nikita) (1990)</td>\n",
       "      <td>Thriller</td>\n",
       "      <td>False</td>\n",
       "    </tr>\n",
       "    <tr>\n",
       "      <th>502516</th>\n",
       "      <td>3320</td>\n",
       "      <td>3591</td>\n",
       "      <td>4</td>\n",
       "      <td>968203950</td>\n",
       "      <td>M</td>\n",
       "      <td>25</td>\n",
       "      <td>1</td>\n",
       "      <td>56082</td>\n",
       "      <td>Mr. Mom (1983)</td>\n",
       "      <td>Comedy|Drama</td>\n",
       "      <td>False</td>\n",
       "    </tr>\n",
       "    <tr>\n",
       "      <th>888991</th>\n",
       "      <td>1484</td>\n",
       "      <td>766</td>\n",
       "      <td>4</td>\n",
       "      <td>997907337</td>\n",
       "      <td>M</td>\n",
       "      <td>25</td>\n",
       "      <td>12</td>\n",
       "      <td>07054</td>\n",
       "      <td>I Shot Andy Warhol (1996)</td>\n",
       "      <td>Drama</td>\n",
       "      <td>False</td>\n",
       "    </tr>\n",
       "    <tr>\n",
       "      <th>466639</th>\n",
       "      <td>5074</td>\n",
       "      <td>2096</td>\n",
       "      <td>4</td>\n",
       "      <td>962497969</td>\n",
       "      <td>M</td>\n",
       "      <td>1</td>\n",
       "      <td>0</td>\n",
       "      <td>20132</td>\n",
       "      <td>Sleeping Beauty (1959)</td>\n",
       "      <td>Animation|Children's|Musical</td>\n",
       "      <td>False</td>\n",
       "    </tr>\n",
       "  </tbody>\n",
       "</table>\n",
       "<p>5838 rows × 11 columns</p>\n",
       "</div>"
      ],
      "text/plain": [
       "        user_id  movie_id  rating   timestamp gender  age  occupation  \\\n",
       "593263     3562      3798       4   967332344      F   25           6   \n",
       "235597     1051      3793       4   974958593      F   25           0   \n",
       "219003     3727      2366       3   966309522      M   35           7   \n",
       "685090     4666      1094       3   963843918      M   35           1   \n",
       "312377     3261      1095       4   968251750      M   45          20   \n",
       "916102     1139      3317       5   987819143      M   25           1   \n",
       "757805     2507      3707       2   974082793      M   25           4   \n",
       "216517     2664      1036       5   973455698      M   35           7   \n",
       "28065      5792       527       5   958082168      M   25          17   \n",
       "284940     3395      2959       3   967487438      M   25           7   \n",
       "677643     4213       466       4   965839559      M   35           7   \n",
       "241780     2550       296       4   974030424      M   50           7   \n",
       "487663     1230      3704       4   974836558      M   25          11   \n",
       "647317     1219      2533       2  1003845122      M   25           7   \n",
       "8747       4510      1287       3   964990792      M   45           7   \n",
       "8203       5992      1197       5   956865152      F   18           4   \n",
       "926550     4458      2448       2   966200199      F   25           4   \n",
       "637336     5675       293       4   958682607      M   35          14   \n",
       "900406     5854      2793       4   958273894      M   45           7   \n",
       "612863     4532      1645       3   966029633      M   25           7   \n",
       "662005     4510      2085       4   964980393      M   45           7   \n",
       "773298     3704      2313       4   967160696      F   35           0   \n",
       "707370      980      3000       5   975731496      M   25           6   \n",
       "994951     3618      3368       3   966862995      M   56          17   \n",
       "30581      4658      1097       4   963878831      M   25           4   \n",
       "538648     5339      2021       3   960713073      M   18          17   \n",
       "799606     5585       846       5   959489268      M   25           4   \n",
       "821550     1191      1946       5   974851371      F   35           0   \n",
       "309693     4248        24       4   965308542      M   25           4   \n",
       "388758     2818      1673       4   972669759      M   25          12   \n",
       "...         ...       ...     ...         ...    ...  ...         ...   \n",
       "548487     4480      2108       2   965108214      M   25           0   \n",
       "56665      5424      3114       4   968471730      F   35           2   \n",
       "880205     5220      1011       3   961551631      M   25           7   \n",
       "491480      271      1025       4   976636109      M   18           4   \n",
       "248580     4626         6       5   964112809      M   25          14   \n",
       "278225     4397      3176       2   965159917      M   18           4   \n",
       "152149     3013      1124       3   970522566      M   45          17   \n",
       "737848     5691      3104       4   958599228      M   35          14   \n",
       "716473     3931      2671       3   965710396      M   25           5   \n",
       "162703     2405       920       5   974257889      M   50           8   \n",
       "928420     4725      2092       3   963375618      M   35           5   \n",
       "107273      433      2858       4   976248628      M   50           6   \n",
       "349073     1513      1997       2   974749968      F   35          16   \n",
       "139488     2772        95       3   973228634      M   35          17   \n",
       "256262     5113      3083       5   963316896      M   25           0   \n",
       "888129     5526      1280       5   963100222      F   35           2   \n",
       "950896     2173      3921       2   974610494      M   50          13   \n",
       "668851     4126      2253       2   976487134      M   25          17   \n",
       "739828     3031        11       3   970356439      M   18           4   \n",
       "393014      770       223       3   980588023      M   18           4   \n",
       "500935     3946      3087       5   965747927      F   25          12   \n",
       "397583       26      1777       2   978139056      M   25           7   \n",
       "424247      377      1252       4   976303616      M   25          17   \n",
       "942640     2907      3901       5   994534844      F   35           5   \n",
       "249648     6037      3006       4   956709265      F   45           1   \n",
       "418478     3497      1307       4   967182849      F   35           2   \n",
       "730445     1873      1249       3   975131511      M   35           7   \n",
       "502516     3320      3591       4   968203950      M   25           1   \n",
       "888991     1484       766       4   997907337      M   25          12   \n",
       "466639     5074      2096       4   962497969      M    1           0   \n",
       "\n",
       "               zip                                              title  \\\n",
       "593263       32812                           What Lies Beneath (2000)   \n",
       "235597       60513                                       X-Men (2000)   \n",
       "219003       74401                                   King Kong (1933)   \n",
       "685090       53704                            Crying Game, The (1992)   \n",
       "312377       87505                         Glengarry Glen Ross (1992)   \n",
       "916102  93420-2852                                 Wonder Boys (2000)   \n",
       "757805       94107                              Nine 1/2 Weeks (1986)   \n",
       "216517       52402                                    Die Hard (1988)   \n",
       "28065        43201                            Schindler's List (1993)   \n",
       "284940       02134                                  Fight Club (1999)   \n",
       "677643       63125                        Hot Shots! Part Deux (1993)   \n",
       "241780       37931                                Pulp Fiction (1994)   \n",
       "487663       95125                  Mad Max Beyond Thunderdome (1985)   \n",
       "647317       12206          Escape from the Planet of the Apes (1971)   \n",
       "8747         92503                                     Ben-Hur (1959)   \n",
       "8203         21046                         Princess Bride, The (1987)   \n",
       "926550  15701-2017                                       Virus (1999)   \n",
       "637336       30030  Professional, The (a.k.a. Leon: The Profession...   \n",
       "900406       33135              American Werewolf in Paris, An (1997)   \n",
       "612863       10025                       Devil's Advocate, The (1997)   \n",
       "662005       92503                              101 Dalmatians (1961)   \n",
       "773298       04255                           Elephant Man, The (1980)   \n",
       "707370       92014      Princess Mononoke, The (Mononoke Hime) (1997)   \n",
       "994951       22657                            Big Country, The (1958)   \n",
       "30581        99163                  E.T. the Extra-Terrestrial (1982)   \n",
       "538648       60193                                        Dune (1984)   \n",
       "799606       10016                                       Flirt (1995)   \n",
       "821550       98117                                       Marty (1955)   \n",
       "309693       26508                                      Powder (1995)   \n",
       "388758       55106                               Boogie Nights (1997)   \n",
       "...            ...                                                ...   \n",
       "548487       94403                                  L.A. Story (1991)   \n",
       "56665        80012                                 Toy Story 2 (1999)   \n",
       "880205       91436                          Herbie Rides Again (1974)   \n",
       "491480       48202                     Sword in the Stone, The (1963)   \n",
       "248580       97219                                        Heat (1995)   \n",
       "278225       43402                    Talented Mr. Ripley, The (1999)   \n",
       "152149       97124                              On Golden Pond (1981)   \n",
       "737848       66013                                Midnight Run (1988)   \n",
       "716473       92117                                Notting Hill (1999)   \n",
       "162703       78065                          Gone with the Wind (1939)   \n",
       "928420  96707-1321                        Return of Jafar, The (1993)   \n",
       "107273       55115                             American Beauty (1999)   \n",
       "349073       95003                               Exorcist, The (1973)   \n",
       "139488       10025                                Broken Arrow (1996)   \n",
       "256262       55408   All About My Mother (Todo Sobre Mi Madre) (1999)   \n",
       "888129       27514                       Raise the Red Lantern (1991)   \n",
       "950896       87502                                 Beach Party (1963)   \n",
       "668851       53188                                        Toys (1992)   \n",
       "739828       48135                     American President, The (1995)   \n",
       "393014       98499                                      Clerks (1994)   \n",
       "500935       22207                                    Scrooged (1988)   \n",
       "397583       23112                         Wedding Singer, The (1998)   \n",
       "424247       55418                                   Chinatown (1974)   \n",
       "942640       12345                                       Duets (2000)   \n",
       "249648       76006                                Insider, The (1999)   \n",
       "418478       94109                     When Harry Met Sally... (1989)   \n",
       "730445       02127                    Nikita (La Femme Nikita) (1990)   \n",
       "502516       56082                                     Mr. Mom (1983)   \n",
       "888991       07054                          I Shot Andy Warhol (1996)   \n",
       "466639       20132                             Sleeping Beauty (1959)   \n",
       "\n",
       "                                 genres for_testing  \n",
       "593263                         Thriller       False  \n",
       "235597                    Action|Sci-Fi       False  \n",
       "219003          Action|Adventure|Horror       False  \n",
       "685090                Drama|Romance|War       False  \n",
       "312377                            Drama       False  \n",
       "916102                     Comedy|Drama       False  \n",
       "757805                            Drama       False  \n",
       "216517                  Action|Thriller       False  \n",
       "28065                         Drama|War       False  \n",
       "284940                            Drama       False  \n",
       "677643                Action|Comedy|War       False  \n",
       "241780                      Crime|Drama       False  \n",
       "487663                    Action|Sci-Fi       False  \n",
       "647317                    Action|Sci-Fi       False  \n",
       "8747             Action|Adventure|Drama       False  \n",
       "8203    Action|Adventure|Comedy|Romance       False  \n",
       "926550                    Horror|Sci-Fi       False  \n",
       "637336     Crime|Drama|Romance|Thriller       False  \n",
       "900406                    Comedy|Horror       False  \n",
       "612863    Crime|Horror|Mystery|Thriller       False  \n",
       "662005             Animation|Children's       False  \n",
       "773298                            Drama       False  \n",
       "707370       Action|Adventure|Animation       False  \n",
       "994951                  Romance|Western       False  \n",
       "30581   Children's|Drama|Fantasy|Sci-Fi       False  \n",
       "538648                   Fantasy|Sci-Fi       False  \n",
       "799606                            Drama       False  \n",
       "821550                    Drama|Romance       False  \n",
       "309693                     Drama|Sci-Fi       False  \n",
       "388758                            Drama       False  \n",
       "...                                 ...         ...  \n",
       "548487                   Comedy|Romance       False  \n",
       "56665       Animation|Children's|Comedy       False  \n",
       "880205      Adventure|Children's|Comedy       False  \n",
       "491480             Animation|Children's       False  \n",
       "248580            Action|Crime|Thriller       False  \n",
       "278225           Drama|Mystery|Thriller       False  \n",
       "152149                            Drama       False  \n",
       "737848    Action|Adventure|Comedy|Crime       False  \n",
       "716473                   Comedy|Romance       False  \n",
       "162703                Drama|Romance|War       False  \n",
       "928420     Animation|Children's|Musical       False  \n",
       "107273                     Comedy|Drama       False  \n",
       "349073                           Horror       False  \n",
       "139488                  Action|Thriller       False  \n",
       "256262                     Comedy|Drama       False  \n",
       "888129                            Drama       False  \n",
       "950896                           Comedy       False  \n",
       "668851            Action|Comedy|Fantasy       False  \n",
       "739828             Comedy|Drama|Romance       False  \n",
       "393014                           Comedy       False  \n",
       "500935                           Comedy       False  \n",
       "397583                   Comedy|Romance       False  \n",
       "424247       Film-Noir|Mystery|Thriller       False  \n",
       "942640                     Comedy|Drama       False  \n",
       "249648                            Drama       False  \n",
       "418478                   Comedy|Romance       False  \n",
       "730445                         Thriller       False  \n",
       "502516                     Comedy|Drama       False  \n",
       "888991                            Drama       False  \n",
       "466639     Animation|Children's|Musical       False  \n",
       "\n",
       "[5838 rows x 11 columns]"
      ]
     },
     "execution_count": 31,
     "metadata": {},
     "output_type": "execute_result"
    }
   ],
   "source": [
    "movielens_train"
   ]
  },
  {
   "cell_type": "markdown",
   "metadata": {},
   "source": [
    "# Mini-Challenge: first round\n",
    "Implement an `estimate` function of your own using other similarity notions, eg.:\n",
    "\n",
    "- collaborative filter based on age similarities\n",
    "- collaborative filter based on zip code similarities\n",
    "- collaborative filter based on occupation similarities\n",
    "- content filter based on movie genre"
   ]
  },
  {
   "cell_type": "code",
   "execution_count": 30,
   "metadata": {
    "collapsed": false
   },
   "outputs": [
    {
     "data": {
      "text/html": [
       "<div>\n",
       "<table border=\"1\" class=\"dataframe\">\n",
       "  <thead>\n",
       "    <tr style=\"text-align: right;\">\n",
       "      <th></th>\n",
       "      <th>gender</th>\n",
       "      <th>age</th>\n",
       "      <th>occupation</th>\n",
       "      <th>zip</th>\n",
       "    </tr>\n",
       "    <tr>\n",
       "      <th>user_id</th>\n",
       "      <th></th>\n",
       "      <th></th>\n",
       "      <th></th>\n",
       "      <th></th>\n",
       "    </tr>\n",
       "  </thead>\n",
       "  <tbody>\n",
       "    <tr>\n",
       "      <th>1</th>\n",
       "      <td>F</td>\n",
       "      <td>1</td>\n",
       "      <td>10</td>\n",
       "      <td>48067</td>\n",
       "    </tr>\n",
       "    <tr>\n",
       "      <th>2</th>\n",
       "      <td>M</td>\n",
       "      <td>56</td>\n",
       "      <td>16</td>\n",
       "      <td>70072</td>\n",
       "    </tr>\n",
       "    <tr>\n",
       "      <th>3</th>\n",
       "      <td>M</td>\n",
       "      <td>25</td>\n",
       "      <td>15</td>\n",
       "      <td>55117</td>\n",
       "    </tr>\n",
       "    <tr>\n",
       "      <th>4</th>\n",
       "      <td>M</td>\n",
       "      <td>45</td>\n",
       "      <td>7</td>\n",
       "      <td>02460</td>\n",
       "    </tr>\n",
       "    <tr>\n",
       "      <th>5</th>\n",
       "      <td>M</td>\n",
       "      <td>25</td>\n",
       "      <td>20</td>\n",
       "      <td>55455</td>\n",
       "    </tr>\n",
       "  </tbody>\n",
       "</table>\n",
       "</div>"
      ],
      "text/plain": [
       "        gender  age  occupation    zip\n",
       "user_id                               \n",
       "1            F    1          10  48067\n",
       "2            M   56          16  70072\n",
       "3            M   25          15  55117\n",
       "4            M   45           7  02460\n",
       "5            M   25          20  55455"
      ]
     },
     "execution_count": 30,
     "metadata": {},
     "output_type": "execute_result"
    }
   ],
   "source": [
    "user_info = users.set_index('user_id')\n",
    "user_info.head()"
   ]
  },
  {
   "cell_type": "code",
   "execution_count": 31,
   "metadata": {
    "collapsed": false
   },
   "outputs": [
    {
     "data": {
      "text/plain": [
       "'F'"
      ]
     },
     "execution_count": 31,
     "metadata": {},
     "output_type": "execute_result"
    }
   ],
   "source": [
    "user_info.ix[1,'gender']"
   ]
  },
  {
   "cell_type": "code",
   "execution_count": 32,
   "metadata": {
    "collapsed": false
   },
   "outputs": [],
   "source": [
    "#df = movielens_train[movielens_train['movie_id']==2]\n",
    "#df.groupby('gender')['rating'].mean()"
   ]
  },
  {
   "cell_type": "code",
   "execution_count": 33,
   "metadata": {
    "collapsed": false
   },
   "outputs": [
    {
     "data": {
      "text/plain": [
       "array([25, 35, 45, 50, 18, 56,  1])"
      ]
     },
     "execution_count": 33,
     "metadata": {},
     "output_type": "execute_result"
    }
   ],
   "source": [
    "movielens_train['age'].unique()"
   ]
  },
  {
   "cell_type": "code",
   "execution_count": 35,
   "metadata": {
    "collapsed": false
   },
   "outputs": [
    {
     "name": "stdout",
     "output_type": "stream",
     "text": [
      "[ 3.          5.          3.66666667 ...,  3.83333333  4.33333333\n",
      "  2.16666667]\n",
      "RMSE for CollabGenderReco: 1.17400824171\n"
     ]
    }
   ],
   "source": [
    "#1. GENDER\n",
    "class CollabGenderReco:\n",
    "    \"\"\" Collaborative filtering using an implicit sim(u,u'). \"\"\"\n",
    "\n",
    "    def learn(self):\n",
    "        \"\"\" Prepare datastructures for estimation. \"\"\"\n",
    "        \n",
    "        self.means_by_gender = movielens_train.pivot_table('rating', \n",
    "                                index='movie_id', columns='gender')\n",
    "\n",
    "    def estimate(self, user_id, movie_id):\n",
    "        \"\"\" Mean ratings by other users of the same gender. \"\"\"\n",
    "        \n",
    "        if movie_id not in self.means_by_gender.index: \n",
    "            return 3.0\n",
    "        \n",
    "        user_gender = user_info.ix[user_id, 'gender']\n",
    "        if ~np.isnan(self.means_by_gender.ix[movie_id, user_gender]):\n",
    "            return self.means_by_gender.ix[movie_id, user_gender]\n",
    "        else:\n",
    "            return self.means_by_gender.ix[movie_id].mean()\n",
    "\n",
    "reco = CollabGenderReco()\n",
    "reco.learn()\n",
    "print('RMSE for CollabGenderReco: %s' % evaluate(reco.estimate))"
   ]
  },
  {
   "cell_type": "code",
   "execution_count": 34,
   "metadata": {
    "collapsed": false
   },
   "outputs": [
    {
     "name": "stdout",
     "output_type": "stream",
     "text": [
      "[ 4.          4.          3.6        ...,  3.          4.66666667  2.375     ]\n",
      "RMSE for CollabAgeReco: 1.20520133441\n"
     ]
    }
   ],
   "source": [
    "#Age\n",
    "class CollabGenderReco:\n",
    "    \"\"\" Collaborative filtering using an implicit sim(u,u'). \"\"\"\n",
    "\n",
    "    def learn(self):\n",
    "        \"\"\" Prepare datastructures for estimation. \"\"\"\n",
    "        \n",
    "        self.means_by_age = movielens_train.pivot_table('rating', \n",
    "                                index='movie_id', columns='age')\n",
    "\n",
    "    def estimate(self, user_id, movie_id):\n",
    "        \"\"\" Mean ratings by other users of the same gender. \"\"\"\n",
    "        \n",
    "        if movie_id not in self.means_by_age.index: \n",
    "            return 3.0\n",
    "        \n",
    "        user_age = user_info.ix[user_id, 'age']\n",
    "        if ~np.isnan(self.means_by_age.ix[movie_id, user_age]):\n",
    "            return self.means_by_age.ix[movie_id, user_age]\n",
    "        else:\n",
    "            return self.means_by_age.ix[movie_id].mean()\n",
    "\n",
    "reco = CollabGenderReco()\n",
    "reco.learn()\n",
    "print('RMSE for CollabAgeReco: %s' % evaluate(reco.estimate))"
   ]
  },
  {
   "cell_type": "code",
   "execution_count": 35,
   "metadata": {
    "collapsed": false
   },
   "outputs": [
    {
     "name": "stdout",
     "output_type": "stream",
     "text": [
      "[ 4.          4.          3.57142857 ...,  4.          4.4         2.16666667]\n",
      "RMSE for CollabZipReco: 1.12566403192\n"
     ]
    }
   ],
   "source": [
    "#Zip\n",
    "class CollabGenderReco:\n",
    "    \"\"\" Collaborative filtering using an implicit sim(u,u'). \"\"\"\n",
    "\n",
    "    def learn(self):\n",
    "        \"\"\" Prepare datastructures for estimation. \"\"\"\n",
    "        \n",
    "        self.means_by_zip = movielens_train.pivot_table('rating', \n",
    "                                index='movie_id', columns='zip')\n",
    "\n",
    "    def estimate(self, user_id, movie_id):\n",
    "        \"\"\" Mean ratings by other users of the same gender. \"\"\"\n",
    "        \n",
    "        if movie_id not in self.means_by_zip.index: \n",
    "            return 3.0\n",
    "        \n",
    "        user_zip = user_info.ix[user_id, 'zip']\n",
    "        if ~np.isnan(self.means_by_zip.ix[movie_id, user_zip]):\n",
    "            return self.means_by_zip.ix[movie_id, user_zip]\n",
    "        else:\n",
    "            return self.means_by_zip.ix[movie_id].mean()\n",
    "\n",
    "reco = CollabGenderReco()\n",
    "reco.learn()\n",
    "print('RMSE for CollabZipReco: %s' % evaluate(reco.estimate))"
   ]
  },
  {
   "cell_type": "code",
   "execution_count": 36,
   "metadata": {
    "collapsed": false,
    "scrolled": true
   },
   "outputs": [
    {
     "name": "stdout",
     "output_type": "stream",
     "text": [
      "[ 4.          4.          3.         ...,  4.          4.14285714\n",
      "  1.83333333]\n",
      "RMSE for CollabOccupationReco: 1.20287696436\n"
     ]
    }
   ],
   "source": [
    "#Occupation\n",
    "class CollabOccupationReco:\n",
    "    \"\"\" Collaborative filtering using an implicit sim(u,u'). \"\"\"\n",
    "\n",
    "    def learn(self):\n",
    "        \"\"\" Prepare datastructures for estimation. \"\"\"\n",
    "        \n",
    "        self.means_by_occupation = movielens_train.pivot_table('rating', index='movie_id', columns='occupation')\n",
    "\n",
    "    def estimate(self, user_id, movie_id):\n",
    "        \"\"\" Mean ratings by other users of the same occupation. \"\"\"\n",
    "        \n",
    "        if movie_id not in self.means_by_occupation.index: \n",
    "            return 3.0\n",
    "        \n",
    "        user_occupation = user_info.ix[user_id, 'occupation']\n",
    "        if ~np.isnan(self.means_by_occupation.ix[movie_id, user_occupation]):\n",
    "            return self.means_by_occupation.ix[movie_id, user_occupation]\n",
    "        else:\n",
    "            return self.means_by_occupation.ix[movie_id].mean()\n",
    "\n",
    "reco = CollabOccupationReco()\n",
    "reco.learn()\n",
    "print('RMSE for CollabOccupationReco: %s' % evaluate(reco.estimate))"
   ]
  },
  {
   "cell_type": "code",
   "execution_count": 37,
   "metadata": {
    "collapsed": false
   },
   "outputs": [
    {
     "name": "stdout",
     "output_type": "stream",
     "text": [
      "[ 3.66666667  4.5         4.28571429 ...,  4.          4.5         4.        ]\n",
      "RMSE for CollabOccupationReco: 1.23078247597\n"
     ]
    }
   ],
   "source": [
    "#Occupation\n",
    "class ContentGeneresReco:\n",
    "    \"\"\" Collaborative filtering using an implicit sim(u,u'). \"\"\"\n",
    "\n",
    "    def learn(self):\n",
    "        \"\"\" Prepare datastructures for estimation. \"\"\"\n",
    "        \n",
    "        self.means_by_userId = movielens_train.pivot_table('rating',\n",
    "                            index='user_id', columns='genres',\n",
    "                                                 fill_value=0)\n",
    "    def estimate(self, user_id, movie_id):\n",
    "        \"\"\" Mean ratings by other users of the same occupation. \"\"\"\n",
    "        \n",
    "        if user_id not in self.means_by_userId.index: \n",
    "            return 0.0\n",
    "        user_condition = movielens_train.user_id == user_id\n",
    "        return movielens_train.loc[user_condition, 'rating'].mean()\n",
    "        \n",
    "        \n",
    "        \n",
    "\n",
    "reco = ContentGeneresReco()\n",
    "reco.learn()\n",
    "print('RMSE for CollabOccupationReco: %s' % evaluate(reco.estimate))"
   ]
  },
  {
   "cell_type": "markdown",
   "metadata": {},
   "source": [
    "# Mini-Challenge: second round\n",
    "Implement an `estimate` function of your own using other custom similarity notions, eg.:\n",
    "\n",
    "- euclidean\n",
    "- cosine"
   ]
  },
  {
   "cell_type": "code",
   "execution_count": 38,
   "metadata": {
    "collapsed": false
   },
   "outputs": [],
   "source": [
    "def euclidean(s1, s2):\n",
    "    \"\"\"Take two pd.Series objects and return their euclidean 'similarity'.\"\"\"\n",
    "    diff = s1 - s2\n",
    "    return 1 / (1 + np.sqrt(np.sum(diff ** 2)))"
   ]
  },
  {
   "cell_type": "code",
   "execution_count": null,
   "metadata": {
    "collapsed": false
   },
   "outputs": [],
   "source": []
  },
  {
   "cell_type": "code",
   "execution_count": 40,
   "metadata": {
    "collapsed": false
   },
   "outputs": [],
   "source": [
    "#all_user_profiles = movielens_train.pivot_table('rating',\n",
    "                            #index='movie_id', columns='user_id')\n",
    "#all_user_profiles.head()"
   ]
  },
  {
   "cell_type": "code",
   "execution_count": 41,
   "metadata": {
    "collapsed": false
   },
   "outputs": [],
   "source": [
    "#movielens_train.movie_id"
   ]
  },
  {
   "cell_type": "code",
   "execution_count": 589,
   "metadata": {
    "collapsed": false
   },
   "outputs": [
    {
     "name": "stdout",
     "output_type": "stream",
     "text": [
      "[ 4.          4.          3.57142857 ...,  4.          4.4         2.16666667]\n",
      "RMSE for CollabEuclideanReco: 1.123429476\n"
     ]
    }
   ],
   "source": [
    "class CollabEuclideanReco:\n",
    "    \"\"\" Collaborative filtering using a custom sim(u,u'). \"\"\"\n",
    "\n",
    "    def learn(self):\n",
    "        \"\"\" Prepare datastructures for estimation. \"\"\"\n",
    "        \n",
    "        self.all_user_profiles = movielens_train.pivot_table('rating',\n",
    "                                index='movie_id', columns='user_id')\n",
    "\n",
    "    def estimate(self, user_id, movie_id):\n",
    "        \"\"\" Ratings weighted by correlation similarity. \"\"\"\n",
    "        \n",
    "        user_condition = movielens_train.user_id != user_id\n",
    "        movie_condition = movielens_train.movie_id == movie_id\n",
    "        ratings_by_others = movielens_train.loc[user_condition & movie_condition]\n",
    "        #print(ratings_by_others.rating)\n",
    "        if ratings_by_others.empty: \n",
    "            return 3.0\n",
    "        #print(ratings_by_others.head())\n",
    "        ratings_by_others.set_index('user_id', inplace=True)\n",
    "        their_ids = ratings_by_others.index\n",
    "        their_ratings = ratings_by_others.rating\n",
    "        their_profiles = self.all_user_profiles[their_ids]\n",
    "        user_profile = self.all_user_profiles[user_id]\n",
    "        sims = their_profiles.apply(lambda profile: euclidean(profile, user_profile), axis=0)\n",
    "        #print(sims)\n",
    "        ratings_sims = pd.DataFrame({'sim': sims, 'rating': their_ratings})\n",
    "        #print(ratings_sims.head())\n",
    "        ratings_sims = ratings_sims[ratings_sims.sim > 0]\n",
    "        if ratings_sims.empty:\n",
    "            return their_ratings.mean()\n",
    "        else:\n",
    "            return np.average(ratings_sims.rating, weights=ratings_sims.sim)\n",
    "        \n",
    "reco = CollabEuclideanReco()\n",
    "reco.learn()\n",
    "print('RMSE for CollabEuclideanReco: %s' % evaluate(reco.estimate))"
   ]
  },
  {
   "cell_type": "code",
   "execution_count": 56,
   "metadata": {
    "collapsed": true
   },
   "outputs": [],
   "source": [
    "def cosine(s1, s2):\n",
    "    \"\"\"Take two pd.Series objects and return their cosine similarity.\"\"\"\n",
    "    return np.sum(s1 * s2) / np.sqrt(np.sum(s1 ** 2) * np.sum(s2 ** 2))"
   ]
  },
  {
   "cell_type": "code",
   "execution_count": 57,
   "metadata": {
    "collapsed": false
   },
   "outputs": [
    {
     "name": "stdout",
     "output_type": "stream",
     "text": [
      "[ 4.          4.          3.57142857 ...,  4.          4.4         2.16666667]\n",
      "RMSE for CollabCosineReco: 1.13439921696\n"
     ]
    }
   ],
   "source": [
    "class CollabCosineReco:\n",
    "    \"\"\" Collaborative filtering using a custom sim(u,u'). \"\"\"\n",
    "\n",
    "    def learn(self):\n",
    "        \"\"\" Prepare datastructures for estimation. \"\"\"\n",
    "        \n",
    "        self.all_user_profiles = movielens_train.pivot_table('rating', index='movie_id', columns='user_id')\n",
    "\n",
    "    def estimate(self, user_id, movie_id):\n",
    "        \"\"\" Ratings weighted by correlation similarity. \"\"\"\n",
    "        \n",
    "        user_condition = movielens_train.user_id != user_id\n",
    "        movie_condition = movielens_train.movie_id == movie_id\n",
    "        ratings_by_others = movielens_train.loc[user_condition & movie_condition]\n",
    "        if ratings_by_others.empty: \n",
    "            return 3.0\n",
    "        \n",
    "        ratings_by_others.set_index('user_id', inplace=True)\n",
    "        their_ids = ratings_by_others.index\n",
    "        their_ratings = ratings_by_others.rating\n",
    "        their_profiles = self.all_user_profiles[their_ids]\n",
    "        user_profile = self.all_user_profiles[user_id]\n",
    "        sims = their_profiles.apply(lambda profile: cosine(profile, user_profile), axis=0)\n",
    "        ratings_sims = pd.DataFrame({'sim': sims, 'rating': their_ratings})\n",
    "        ratings_sims = ratings_sims[ratings_sims.sim > 0]\n",
    "        if ratings_sims.empty:\n",
    "            return their_ratings.mean()\n",
    "        else:\n",
    "            return np.average(ratings_sims.rating, weights=ratings_sims.sim)\n",
    "        \n",
    "reco = CollabCosineReco()\n",
    "reco.learn()\n",
    "print('RMSE for CollabCosineReco: %s' % evaluate(reco.estimate))"
   ]
  },
  {
   "cell_type": "code",
   "execution_count": 523,
   "metadata": {
    "collapsed": false
   },
   "outputs": [],
   "source": [
    "#movielens_train"
   ]
  },
  {
   "cell_type": "code",
   "execution_count": 571,
   "metadata": {
    "collapsed": false
   },
   "outputs": [
    {
     "data": {
      "text/html": [
       "<div>\n",
       "<table border=\"1\" class=\"dataframe\">\n",
       "  <thead>\n",
       "    <tr style=\"text-align: right;\">\n",
       "      <th></th>\n",
       "      <th>user_id</th>\n",
       "      <th>movie_id</th>\n",
       "      <th>rating</th>\n",
       "      <th>timestamp</th>\n",
       "      <th>gender</th>\n",
       "      <th>age</th>\n",
       "      <th>occupation</th>\n",
       "      <th>zip</th>\n",
       "      <th>title</th>\n",
       "      <th>genres</th>\n",
       "      <th>for_testing</th>\n",
       "    </tr>\n",
       "  </thead>\n",
       "  <tbody>\n",
       "    <tr>\n",
       "      <th>593263</th>\n",
       "      <td>3562</td>\n",
       "      <td>3798</td>\n",
       "      <td>4</td>\n",
       "      <td>967332344</td>\n",
       "      <td>F</td>\n",
       "      <td>25</td>\n",
       "      <td>6</td>\n",
       "      <td>32812</td>\n",
       "      <td>What Lies Beneath (2000)</td>\n",
       "      <td>Thriller</td>\n",
       "      <td>False</td>\n",
       "    </tr>\n",
       "    <tr>\n",
       "      <th>593269</th>\n",
       "      <td>3618</td>\n",
       "      <td>3798</td>\n",
       "      <td>3</td>\n",
       "      <td>966598357</td>\n",
       "      <td>M</td>\n",
       "      <td>56</td>\n",
       "      <td>17</td>\n",
       "      <td>22657</td>\n",
       "      <td>What Lies Beneath (2000)</td>\n",
       "      <td>Thriller</td>\n",
       "      <td>False</td>\n",
       "    </tr>\n",
       "  </tbody>\n",
       "</table>\n",
       "</div>"
      ],
      "text/plain": [
       "        user_id  movie_id  rating  timestamp gender  age  occupation    zip  \\\n",
       "593263     3562      3798       4  967332344      F   25           6  32812   \n",
       "593269     3618      3798       3  966598357      M   56          17  22657   \n",
       "\n",
       "                           title    genres for_testing  \n",
       "593263  What Lies Beneath (2000)  Thriller       False  \n",
       "593269  What Lies Beneath (2000)  Thriller       False  "
      ]
     },
     "execution_count": 571,
     "metadata": {},
     "output_type": "execute_result"
    }
   ],
   "source": [
    "#movielens_train[movielens_train.movie_id==3798]"
   ]
  },
  {
   "cell_type": "code",
   "execution_count": null,
   "metadata": {
    "collapsed": true
   },
   "outputs": [],
   "source": []
  }
 ],
 "metadata": {
  "kernelspec": {
   "display_name": "Python 3",
   "language": "python",
   "name": "python3"
  },
  "language_info": {
   "codemirror_mode": {
    "name": "ipython",
    "version": 3
   },
   "file_extension": ".py",
   "mimetype": "text/x-python",
   "name": "python",
   "nbconvert_exporter": "python",
   "pygments_lexer": "ipython3",
   "version": "3.6.0"
  }
 },
 "nbformat": 4,
 "nbformat_minor": 0
}
