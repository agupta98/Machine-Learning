{
 "cells": [
  {
   "cell_type": "code",
   "execution_count": 9,
   "metadata": {
    "collapsed": true
   },
   "outputs": [],
   "source": [
    "meetings = [(1,3),(2,6),(8,10),(15,18)]"
   ]
  },
  {
   "cell_type": "code",
   "execution_count": 28,
   "metadata": {
    "collapsed": false
   },
   "outputs": [],
   "source": [
    "def merge_ranges(meetings):\n",
    "\n",
    "    # sort by start times\n",
    "    sorted_meetings = sorted(meetings)\n",
    "    print(sorted_meetings)\n",
    "    # initialize merged_meetings with the earliest meeting\n",
    "    merged_meetings = [sorted_meetings[0]]\n",
    "    #print(merged_meetings)\n",
    "    count = 0\n",
    "    for current_meeting_start, current_meeting_end in sorted_meetings[1:]:\n",
    "\n",
    "        last_merged_meeting_start, last_merged_meeting_end = merged_meetings[-1]\n",
    "\n",
    "        # if the current and last meetings overlap, use the latest end time\n",
    "        if (current_meeting_start <= last_merged_meeting_end):\n",
    "            merged_meetings[-1] = (last_merged_meeting_start, max(last_merged_meeting_end, current_meeting_end))\n",
    "            count +=1\n",
    "            print(\"The value of count is\",count)\n",
    "            print(merged_meetings)\n",
    "            \n",
    "        # add the current meeting since it doesn't overlap\n",
    "        else:\n",
    "            merged_meetings.append((current_meeting_start, current_meeting_end))\n",
    "            count +=1\n",
    "            print(\"The value of count is\",count)\n",
    "            print(merged_meetings)\n",
    "    return merged_meetings"
   ]
  },
  {
   "cell_type": "code",
   "execution_count": 29,
   "metadata": {
    "collapsed": false
   },
   "outputs": [
    {
     "name": "stdout",
     "output_type": "stream",
     "text": [
      "[(1, 3), (2, 6), (8, 10), (15, 18)]\n",
      "The value of count is 1\n",
      "[(1, 6)]\n",
      "The value of count is 2\n",
      "[(1, 6), (8, 10)]\n",
      "The value of count is 3\n",
      "[(1, 6), (8, 10), (15, 18)]\n"
     ]
    },
    {
     "data": {
      "text/plain": [
       "[(1, 6), (8, 10), (15, 18)]"
      ]
     },
     "execution_count": 29,
     "metadata": {},
     "output_type": "execute_result"
    }
   ],
   "source": [
    "merge_ranges(meetings)"
   ]
  },
  {
   "cell_type": "code",
   "execution_count": null,
   "metadata": {
    "collapsed": true
   },
   "outputs": [],
   "source": []
  }
 ],
 "metadata": {
  "kernelspec": {
   "display_name": "Python 3",
   "language": "python",
   "name": "python3"
  },
  "language_info": {
   "codemirror_mode": {
    "name": "ipython",
    "version": 3
   },
   "file_extension": ".py",
   "mimetype": "text/x-python",
   "name": "python",
   "nbconvert_exporter": "python",
   "pygments_lexer": "ipython3",
   "version": "3.6.0"
  }
 },
 "nbformat": 4,
 "nbformat_minor": 2
}
